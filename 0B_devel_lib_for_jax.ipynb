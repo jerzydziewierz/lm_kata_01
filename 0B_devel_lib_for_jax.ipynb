{
 "cells": [
  {
   "cell_type": "code",
   "outputs": [
    {
     "data": {
      "text/plain": "cplx.shape=(2, 3)"
     },
     "execution_count": 13,
     "metadata": {},
     "output_type": "execute_result"
    }
   ],
   "source": [
    "import jax\n",
    "import jax.numpy as jnp\n",
    "import ndnumbers.cplx as cplx\n",
    "from ndnumbers.cplx import Cplx\n",
    "a=jnp.array([[1,1,1], [1,1,1]])\n",
    "b=jnp.array([[1,1,1], [0,0,0]])\n",
    "\n",
    "z1 = Cplx(a, b)\n",
    "z1"
   ],
   "metadata": {
    "collapsed": false,
    "ExecuteTime": {
     "end_time": "2024-02-12T00:17:42.209111731Z",
     "start_time": "2024-02-12T00:17:42.149691256Z"
    }
   },
   "id": "6f2fcdfbdac12327",
   "execution_count": 13
  },
  {
   "cell_type": "code",
   "outputs": [
    {
     "data": {
      "text/plain": "(2, 3)"
     },
     "execution_count": 14,
     "metadata": {},
     "output_type": "execute_result"
    }
   ],
   "source": [
    "z1.shape"
   ],
   "metadata": {
    "collapsed": false,
    "ExecuteTime": {
     "end_time": "2024-02-12T00:17:47.366167957Z",
     "start_time": "2024-02-12T00:17:47.357680048Z"
    }
   },
   "id": "8d755ff7a8c19099",
   "execution_count": 14
  },
  {
   "cell_type": "code",
   "outputs": [
    {
     "data": {
      "text/plain": "(+1.0, i+1.0)"
     },
     "execution_count": 15,
     "metadata": {},
     "output_type": "execute_result"
    }
   ],
   "source": [
    "z1[0,0]"
   ],
   "metadata": {
    "collapsed": false,
    "ExecuteTime": {
     "end_time": "2024-02-12T00:17:50.322681399Z",
     "start_time": "2024-02-12T00:17:50.319843472Z"
    }
   },
   "id": "8e3281cba87c8f7e",
   "execution_count": 15
  },
  {
   "cell_type": "code",
   "outputs": [
    {
     "data": {
      "text/plain": "(+0, i+1)"
     },
     "execution_count": 6,
     "metadata": {},
     "output_type": "execute_result"
    }
   ],
   "source": [
    "z2 = Cplx(-0, 1)\n",
    "z2"
   ],
   "metadata": {
    "collapsed": false,
    "ExecuteTime": {
     "end_time": "2024-02-12T00:16:18.413262705Z",
     "start_time": "2024-02-12T00:16:18.411388741Z"
    }
   },
   "id": "8dbf67516cb0b5fe",
   "execution_count": 6
  },
  {
   "cell_type": "code",
   "execution_count": 7,
   "id": "initial_id",
   "metadata": {
    "collapsed": true,
    "ExecuteTime": {
     "end_time": "2024-02-12T00:16:19.746462493Z",
     "start_time": "2024-02-12T00:16:19.744919913Z"
    }
   },
   "outputs": [
    {
     "data": {
      "text/plain": "(+0, i+2)"
     },
     "execution_count": 7,
     "metadata": {},
     "output_type": "execute_result"
    }
   ],
   "source": [
    "z2+z2"
   ]
  },
  {
   "cell_type": "code",
   "outputs": [
    {
     "data": {
      "text/plain": "(-1, i+0)"
     },
     "execution_count": 8,
     "metadata": {},
     "output_type": "execute_result"
    }
   ],
   "source": [
    "z2*z2"
   ],
   "metadata": {
    "collapsed": false,
    "ExecuteTime": {
     "end_time": "2024-02-12T00:16:21.106811469Z",
     "start_time": "2024-02-12T00:16:21.104959805Z"
    }
   },
   "id": "4e2f4b97e7654c08",
   "execution_count": 8
  },
  {
   "cell_type": "code",
   "outputs": [
    {
     "data": {
      "text/plain": "(2, 3, 2)"
     },
     "execution_count": 9,
     "metadata": {},
     "output_type": "execute_result"
    }
   ],
   "source": [
    "a=jnp.array([[1,1,1], [1,1,1]])\n",
    "b=jnp.array([[1,1,1], [0,0,0]])\n",
    "c=jnp.stack([a,b], axis=-1)\n",
    "c.shape"
   ],
   "metadata": {
    "collapsed": false,
    "ExecuteTime": {
     "end_time": "2024-02-12T00:16:22.109982174Z",
     "start_time": "2024-02-12T00:16:22.057052054Z"
    }
   },
   "id": "959008e788e9a2ac",
   "execution_count": 9
  },
  {
   "cell_type": "code",
   "outputs": [
    {
     "data": {
      "text/plain": "Array([[1.4142135, 1.4142135, 1.4142135],\n       [1.       , 1.       , 1.       ]], dtype=float32)"
     },
     "execution_count": 10,
     "metadata": {},
     "output_type": "execute_result"
    }
   ],
   "source": [
    "jnp.linalg.norm(c, axis=-1)"
   ],
   "metadata": {
    "collapsed": false,
    "ExecuteTime": {
     "end_time": "2024-02-12T00:16:23.778546723Z",
     "start_time": "2024-02-12T00:16:23.735153665Z"
    }
   },
   "id": "6e18bdbfe292f87b",
   "execution_count": 10
  },
  {
   "cell_type": "code",
   "outputs": [],
   "source": [
    "z1 = Cplx(a, b)"
   ],
   "metadata": {
    "collapsed": false,
    "ExecuteTime": {
     "end_time": "2024-02-12T00:16:25.107367245Z",
     "start_time": "2024-02-12T00:16:25.104250865Z"
    }
   },
   "id": "69069d29e90cd9ae",
   "execution_count": 11
  },
  {
   "cell_type": "code",
   "outputs": [],
   "source": [
    "z1"
   ],
   "metadata": {
    "collapsed": false,
    "ExecuteTime": {
     "end_time": "2024-02-12T00:16:06.040626489Z",
     "start_time": "2024-02-12T00:16:06.028863178Z"
    }
   },
   "id": "daf0f60489670809",
   "execution_count": null
  },
  {
   "cell_type": "code",
   "outputs": [],
   "source": [
    "z1*z1"
   ],
   "metadata": {
    "collapsed": false,
    "ExecuteTime": {
     "start_time": "2024-02-12T00:16:06.029815080Z"
    }
   },
   "id": "a199fb51674da394",
   "execution_count": null
  },
  {
   "cell_type": "code",
   "outputs": [
    {
     "data": {
      "text/plain": "(+0.0, i+2.0)"
     },
     "execution_count": 16,
     "metadata": {},
     "output_type": "execute_result"
    }
   ],
   "source": [
    "@jax.jit\n",
    "def f(x):\n",
    "    return x*x\n",
    "\n",
    "def fabs(x):\n",
    "    return x.norm\n",
    "\n",
    "def f2(x):\n",
    "    return (x*x).norm\n",
    "f(Cplx(1,1))"
   ],
   "metadata": {
    "collapsed": false,
    "ExecuteTime": {
     "end_time": "2024-02-12T00:18:17.029135326Z",
     "start_time": "2024-02-12T00:18:16.975582057Z"
    }
   },
   "id": "7bb6ae9b62fa754e",
   "execution_count": 16
  },
  {
   "cell_type": "code",
   "outputs": [
    {
     "data": {
      "text/plain": "Array(1.4142135, dtype=float32)"
     },
     "execution_count": 17,
     "metadata": {},
     "output_type": "execute_result"
    }
   ],
   "source": [
    "fabs(Cplx(1,1))"
   ],
   "metadata": {
    "collapsed": false,
    "ExecuteTime": {
     "end_time": "2024-02-12T00:18:22.126987973Z",
     "start_time": "2024-02-12T00:18:22.048106378Z"
    }
   },
   "id": "de2d0ba532c9478f",
   "execution_count": 17
  },
  {
   "cell_type": "code",
   "outputs": [
    {
     "data": {
      "text/plain": "Array(2., dtype=float32)"
     },
     "execution_count": 18,
     "metadata": {},
     "output_type": "execute_result"
    }
   ],
   "source": [
    "f2(Cplx(1,1))"
   ],
   "metadata": {
    "collapsed": false,
    "ExecuteTime": {
     "end_time": "2024-02-12T00:18:23.996124373Z",
     "start_time": "2024-02-12T00:18:23.993180705Z"
    }
   },
   "id": "6f43089babac2745",
   "execution_count": 18
  },
  {
   "cell_type": "code",
   "outputs": [
    {
     "data": {
      "text/plain": "(+2.0, i+2.0)"
     },
     "execution_count": 19,
     "metadata": {},
     "output_type": "execute_result"
    }
   ],
   "source": [
    "jax.grad(f2)(Cplx(1.0,1.0))"
   ],
   "metadata": {
    "collapsed": false,
    "ExecuteTime": {
     "end_time": "2024-02-12T00:18:25.461427824Z",
     "start_time": "2024-02-12T00:18:25.094309629Z"
    }
   },
   "id": "837d5b4e4d198eaa",
   "execution_count": 19
  },
  {
   "cell_type": "code",
   "outputs": [],
   "source": [],
   "metadata": {
    "collapsed": false
   },
   "id": "ab10fb6f7dbae748"
  }
 ],
 "metadata": {
  "kernelspec": {
   "display_name": "Python 3",
   "language": "python",
   "name": "python3"
  },
  "language_info": {
   "codemirror_mode": {
    "name": "ipython",
    "version": 2
   },
   "file_extension": ".py",
   "mimetype": "text/x-python",
   "name": "python",
   "nbconvert_exporter": "python",
   "pygments_lexer": "ipython2",
   "version": "2.7.6"
  }
 },
 "nbformat": 4,
 "nbformat_minor": 5
}
