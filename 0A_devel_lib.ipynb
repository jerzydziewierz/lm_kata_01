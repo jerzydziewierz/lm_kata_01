{
 "cells": [
  {
   "cell_type": "code",
   "outputs": [
    {
     "name": "stderr",
     "output_type": "stream",
     "text": [
      "CUDA backend failed to initialize: Found CUDA version 12010, but JAX was built against version 12020, which is newer. The copy of CUDA that is installed must be at least as new as the version against which JAX was built. (Set TF_CPP_MIN_LOG_LEVEL=0 and rerun for more info.)\n"
     ]
    }
   ],
   "source": [
    "from ndnumbers.cplx import Cplx\n",
    "import ndnumbers.cplx as cplx\n",
    "import jax.numpy as jnp\n",
    "import jax"
   ],
   "metadata": {
    "collapsed": false,
    "ExecuteTime": {
     "end_time": "2024-02-25T01:04:55.529304204Z",
     "start_time": "2024-02-25T01:04:55.180602651Z"
    }
   },
   "id": "7ee00e98abab04a8",
   "execution_count": 1
  },
  {
   "cell_type": "code",
   "outputs": [
    {
     "ename": "IndexError",
     "evalue": "Too many indices for array: array has ndim of 1, but was indexed with 2 non-None/Ellipsis indices.",
     "output_type": "error",
     "traceback": [
      "\u001B[0;31m---------------------------------------------------------------------------\u001B[0m",
      "\u001B[0;31mIndexError\u001B[0m                                Traceback (most recent call last)",
      "Cell \u001B[0;32mIn[3], line 1\u001B[0m\n\u001B[0;32m----> 1\u001B[0m a \u001B[38;5;241m=\u001B[39m \u001B[43mCplx\u001B[49m\u001B[43m(\u001B[49m\u001B[43mjnp\u001B[49m\u001B[38;5;241;43m.\u001B[39;49m\u001B[43marray\u001B[49m\u001B[43m(\u001B[49m\u001B[43m[\u001B[49m\u001B[38;5;241;43m1\u001B[39;49m\u001B[43m,\u001B[49m\u001B[43m \u001B[49m\u001B[38;5;241;43m2\u001B[39;49m\u001B[43m]\u001B[49m\u001B[43m)\u001B[49m\u001B[43m)\u001B[49m\n\u001B[1;32m      2\u001B[0m a\n",
      "File \u001B[0;32m~/git/sapient/KataBasicFlax/ndnumbers/src/ndnumbers/cplx.py:69\u001B[0m, in \u001B[0;36mCplx.__init__\u001B[0;34m(self, e0, e1)\u001B[0m\n\u001B[1;32m     67\u001B[0m \u001B[38;5;66;03m# construct from (*,2) array\u001B[39;00m\n\u001B[1;32m     68\u001B[0m \u001B[38;5;28;01mif\u001B[39;00m \u001B[38;5;28misinstance\u001B[39m(e0, jnp\u001B[38;5;241m.\u001B[39mndarray) \u001B[38;5;129;01mand\u001B[39;00m e1 \u001B[38;5;129;01mis\u001B[39;00m \u001B[38;5;28;01mNone\u001B[39;00m \u001B[38;5;129;01mand\u001B[39;00m e0\u001B[38;5;241m.\u001B[39mshape[\u001B[38;5;241m-\u001B[39m\u001B[38;5;241m1\u001B[39m] \u001B[38;5;241m==\u001B[39m \u001B[38;5;241m2\u001B[39m:\n\u001B[0;32m---> 69\u001B[0m     \u001B[38;5;28mself\u001B[39m\u001B[38;5;241m.\u001B[39me0 \u001B[38;5;241m=\u001B[39m \u001B[43me0\u001B[49m\u001B[43m[\u001B[49m\u001B[43m:\u001B[49m\u001B[43m,\u001B[49m\u001B[43m \u001B[49m\u001B[38;5;241;43m0\u001B[39;49m\u001B[43m]\u001B[49m\n\u001B[1;32m     70\u001B[0m     \u001B[38;5;28mself\u001B[39m\u001B[38;5;241m.\u001B[39me1 \u001B[38;5;241m=\u001B[39m e0[:, \u001B[38;5;241m1\u001B[39m]\n\u001B[1;32m     71\u001B[0m     \u001B[38;5;28;01mreturn\u001B[39;00m\n",
      "File \u001B[0;32m~/prog/miniconda3/envs/py311/lib/python3.11/site-packages/jax/_src/array.py:314\u001B[0m, in \u001B[0;36mArrayImpl.__getitem__\u001B[0;34m(self, idx)\u001B[0m\n\u001B[1;32m    312\u001B[0m   num_idx \u001B[38;5;241m=\u001B[39m \u001B[38;5;28msum\u001B[39m(e \u001B[38;5;129;01mis\u001B[39;00m \u001B[38;5;129;01mnot\u001B[39;00m \u001B[38;5;28;01mNone\u001B[39;00m \u001B[38;5;129;01mand\u001B[39;00m e \u001B[38;5;129;01mis\u001B[39;00m \u001B[38;5;129;01mnot\u001B[39;00m \u001B[38;5;28mEllipsis\u001B[39m \u001B[38;5;28;01mfor\u001B[39;00m e \u001B[38;5;129;01min\u001B[39;00m idx)\n\u001B[1;32m    313\u001B[0m   \u001B[38;5;28;01mif\u001B[39;00m num_idx \u001B[38;5;241m>\u001B[39m \u001B[38;5;28mself\u001B[39m\u001B[38;5;241m.\u001B[39mndim:\n\u001B[0;32m--> 314\u001B[0m     \u001B[38;5;28;01mraise\u001B[39;00m \u001B[38;5;167;01mIndexError\u001B[39;00m(\n\u001B[1;32m    315\u001B[0m         \u001B[38;5;124mf\u001B[39m\u001B[38;5;124m\"\u001B[39m\u001B[38;5;124mToo many indices for array: array has ndim of \u001B[39m\u001B[38;5;132;01m{\u001B[39;00m\u001B[38;5;28mself\u001B[39m\u001B[38;5;241m.\u001B[39mndim\u001B[38;5;132;01m}\u001B[39;00m\u001B[38;5;124m, but \u001B[39m\u001B[38;5;124m\"\u001B[39m\n\u001B[1;32m    316\u001B[0m         \u001B[38;5;124mf\u001B[39m\u001B[38;5;124m\"\u001B[39m\u001B[38;5;124mwas indexed with \u001B[39m\u001B[38;5;132;01m{\u001B[39;00mnum_idx\u001B[38;5;132;01m}\u001B[39;00m\u001B[38;5;124m non-None/Ellipsis indices.\u001B[39m\u001B[38;5;124m\"\u001B[39m)\n\u001B[1;32m    318\u001B[0m \u001B[38;5;28;01mif\u001B[39;00m \u001B[38;5;28misinstance\u001B[39m(\u001B[38;5;28mself\u001B[39m\u001B[38;5;241m.\u001B[39msharding, PmapSharding):\n\u001B[1;32m    319\u001B[0m   \u001B[38;5;28;01mif\u001B[39;00m \u001B[38;5;129;01mnot\u001B[39;00m \u001B[38;5;28misinstance\u001B[39m(idx, \u001B[38;5;28mtuple\u001B[39m):\n",
      "\u001B[0;31mIndexError\u001B[0m: Too many indices for array: array has ndim of 1, but was indexed with 2 non-None/Ellipsis indices."
     ]
    }
   ],
   "source": [
    "a = Cplx(jnp.array([1, 2]))\n",
    "a"
   ],
   "metadata": {
    "collapsed": false,
    "ExecuteTime": {
     "end_time": "2024-02-25T01:05:18.894786874Z",
     "start_time": "2024-02-25T01:05:18.870613607Z"
    }
   },
   "id": "e97ba845776ba78b",
   "execution_count": 3
  },
  {
   "cell_type": "code",
   "outputs": [
    {
     "data": {
      "text/plain": "(-0.0, i-1.0)"
     },
     "execution_count": 4,
     "metadata": {},
     "output_type": "execute_result"
    }
   ],
   "source": [
    "cplx.unit\n",
    "-1.0 * cplx.i"
   ],
   "metadata": {
    "collapsed": false,
    "ExecuteTime": {
     "end_time": "2024-02-25T01:05:29.993476518Z",
     "start_time": "2024-02-25T01:05:29.946935573Z"
    }
   },
   "id": "2de203b76bf90b5d",
   "execution_count": 4
  },
  {
   "cell_type": "code",
   "outputs": [
    {
     "ename": "AttributeError",
     "evalue": "'Cplx' object has no attribute 'x'",
     "output_type": "error",
     "traceback": [
      "\u001B[0;31m---------------------------------------------------------------------------\u001B[0m",
      "\u001B[0;31mAttributeError\u001B[0m                            Traceback (most recent call last)",
      "Cell \u001B[0;32mIn[5], line 1\u001B[0m\n\u001B[0;32m----> 1\u001B[0m \u001B[38;5;241;43m-\u001B[39;49m\u001B[43mcplx\u001B[49m\u001B[38;5;241;43m.\u001B[39;49m\u001B[43mi\u001B[49m\n",
      "File \u001B[0;32m~/git/sapient/KataBasicFlax/ndnumbers/src/ndnumbers/cplx.py:128\u001B[0m, in \u001B[0;36mCplx.__neg__\u001B[0;34m(self)\u001B[0m\n\u001B[1;32m    127\u001B[0m \u001B[38;5;28;01mdef\u001B[39;00m \u001B[38;5;21m__neg__\u001B[39m(\u001B[38;5;28mself\u001B[39m):\n\u001B[0;32m--> 128\u001B[0m     \u001B[38;5;28;01mreturn\u001B[39;00m \u001B[43mcplx_mul\u001B[49m\u001B[43m(\u001B[49m\u001B[38;5;28;43mself\u001B[39;49m\u001B[43m,\u001B[49m\u001B[43m \u001B[49m\u001B[38;5;241;43m-\u001B[39;49m\u001B[38;5;241;43m1\u001B[39;49m\u001B[43m)\u001B[49m\n",
      "File \u001B[0;32m~/git/sapient/KataBasicFlax/ndnumbers/src/ndnumbers/cplx.py:31\u001B[0m, in \u001B[0;36mcplx_mul\u001B[0;34m(a, b)\u001B[0m\n\u001B[1;32m     29\u001B[0m     \u001B[38;5;28;01mreturn\u001B[39;00m Cplx(a \u001B[38;5;241m*\u001B[39m b\u001B[38;5;241m.\u001B[39mx)\n\u001B[1;32m     30\u001B[0m \u001B[38;5;28;01melif\u001B[39;00m \u001B[38;5;28misinstance\u001B[39m(a, Cplx) \u001B[38;5;129;01mand\u001B[39;00m \u001B[38;5;28misinstance\u001B[39m(b, \u001B[38;5;28mint\u001B[39m):\n\u001B[0;32m---> 31\u001B[0m     \u001B[38;5;28;01mreturn\u001B[39;00m Cplx(\u001B[43ma\u001B[49m\u001B[38;5;241;43m.\u001B[39;49m\u001B[43mx\u001B[49m \u001B[38;5;241m*\u001B[39m b)\n\u001B[1;32m     32\u001B[0m \u001B[38;5;28;01melif\u001B[39;00m \u001B[38;5;28misinstance\u001B[39m(a, \u001B[38;5;28mint\u001B[39m) \u001B[38;5;129;01mand\u001B[39;00m \u001B[38;5;28misinstance\u001B[39m(b, Cplx):\n\u001B[1;32m     33\u001B[0m     \u001B[38;5;28;01mreturn\u001B[39;00m Cplx(a \u001B[38;5;241m*\u001B[39m b\u001B[38;5;241m.\u001B[39mx)\n",
      "\u001B[0;31mAttributeError\u001B[0m: 'Cplx' object has no attribute 'x'"
     ]
    }
   ],
   "source": [
    "-cplx.i"
   ],
   "metadata": {
    "collapsed": false,
    "ExecuteTime": {
     "end_time": "2024-02-25T01:05:31.810098906Z",
     "start_time": "2024-02-25T01:05:31.804985997Z"
    }
   },
   "id": "1686ad4c39179b00",
   "execution_count": 5
  },
  {
   "cell_type": "code",
   "outputs": [],
   "source": [
    "z = -cplx.i\n",
    "z.__abs__()"
   ],
   "metadata": {
    "collapsed": false,
    "is_executing": true
   },
   "id": "6d71ed68118ddffb",
   "execution_count": null
  },
  {
   "cell_type": "code",
   "outputs": [],
   "source": [
    "z.x.shape"
   ],
   "metadata": {
    "collapsed": false,
    "is_executing": true
   },
   "id": "ea809f88f3a9f537",
   "execution_count": null
  },
  {
   "cell_type": "code",
   "outputs": [],
   "source": [
    "z.x.shape[-1]"
   ],
   "metadata": {
    "collapsed": false,
    "is_executing": true
   },
   "id": "10c656456ea846e4",
   "execution_count": null
  },
  {
   "cell_type": "code",
   "outputs": [],
   "source": [
    "abs(-cplx.i)"
   ],
   "metadata": {
    "collapsed": false,
    "is_executing": true
   },
   "id": "ffd8fa91f1ffd463",
   "execution_count": null
  },
  {
   "cell_type": "code",
   "outputs": [],
   "source": [
    "opts = [cplx.null, cplx.unit, -cplx.unit, cplx.i, -cplx.i]\n",
    "opt_idx = 0\n",
    "for opt1 in opts:\n",
    "    for opt2 in opts:\n",
    "        \n",
    "        print(f\"{opt_idx: 4d}| {opt1.s} * {opt2.s} = {(opt1 * opt2).s}\")\n",
    "        opt_idx += 1\n"
   ],
   "metadata": {
    "collapsed": false,
    "is_executing": true
   },
   "id": "dd5ee7ef6ade6934",
   "execution_count": null
  },
  {
   "cell_type": "code",
   "outputs": [],
   "source": [
    "opt1.__repr__()\n",
    "opt1.s"
   ],
   "metadata": {
    "collapsed": false,
    "is_executing": true
   },
   "id": "c35f62c5c1db31bc",
   "execution_count": null
  },
  {
   "cell_type": "code",
   "outputs": [],
   "source": [
    "@jax.jit\n",
    "def x(a,b,c,d):\n",
    "    return ((a*b+c)*d).norm\n",
    "\n",
    "# x(cplx.unit,cplx.i,cplx.unit, 2*cplx.i)"
   ],
   "metadata": {
    "collapsed": false,
    "is_executing": true
   },
   "id": "cd022e01b69efb1d",
   "execution_count": null
  },
  {
   "cell_type": "code",
   "outputs": [],
   "source": [
    "import jax\n",
    "# jax.grad(x)(cplx.i,cplx.i,3*cplx.unit, 2*cplx.i)\n"
   ],
   "metadata": {
    "collapsed": false,
    "is_executing": true
   },
   "id": "e3ac5703f729850b",
   "execution_count": null
  },
  {
   "cell_type": "code",
   "outputs": [],
   "source": [
    "import jax"
   ],
   "metadata": {
    "collapsed": false,
    "is_executing": true
   },
   "id": "9c62f451b8f9d1d9",
   "execution_count": null
  },
  {
   "cell_type": "code",
   "outputs": [],
   "source": [
    "class csimple:\n",
    "    def __init__(self, x0, x1):\n",
    "        self.x0 = x0\n",
    "        self.x1 = x1\n",
    "        # verify that the shapes are compatible\n",
    "        if isinstance(x0, jnp.ndarray):\n",
    "            if x0.shape != x1.shape:\n",
    "                raise ValueError(f\"Shapes of x0 and x1 are not compatible: {x0.shape} and {x1.shape}\")\n",
    "        elif isinstance(x0, float):\n",
    "            pass\n",
    "        else:\n",
    "            pass # must pass as this may be the jax tracing event\n",
    "            # raise ValueError(f\"Type of x0 is not supported: {type(x0)}\")\n",
    "    def __mul__(self, other):\n",
    "        return csimple(\n",
    "                self.x0 * other.x0 - self.x1 * other.x1,\n",
    "                self.x0 * other.x1 + self.x1 * other.x0)        \n",
    "    def __repr__(self):\n",
    "        if isinstance(self.x0, jnp.ndarray):\n",
    "            if self.x0.shape == ():\n",
    "                return f\"({self.x0:+0.1f} + {self.x1:+0.1f}i)\"                            \n",
    "            else:\n",
    "                # handle dim-1 arrays\n",
    "                if self.x0.shape[-1] == 1:\n",
    "                    return f\"({self.x0[0]:+0.1f} + {self.x1[0]:+0.1f}i)\"                            \n",
    "                else:\n",
    "                    return f\"cplx?({self.x0.shape})\"                                            \n",
    "        elif isinstance(self.x0, float):\n",
    "            return f\"({self.x0:+0.1f} + {self.x1:+0.1f}i)\"\n",
    "        else:\n",
    "            return f\"cplx(? + ?i)\"\n",
    "    \n",
    "    def __abs__(self):\n",
    "        return jnp.linalg.norm(jnp.array([self.x0, self.x1]))\n",
    "    def __add__(self, other):\n",
    "        return csimple(self.x0+other.x0, self.x1+other.x1)\n",
    "    def __sub__(self, other):\n",
    "        return csimple(self.x0-other.x0, self.x1-other.x1)\n",
    "    def __truediv__(self, other):\n",
    "        return csimple(\n",
    "                (self.x0 * other.x0 + self.x1 * other.x1) / (other.x0**2 + other.x1**2),\n",
    "                (self.x1 * other.x0 - self.x0 * other.x1) / (other.x0**2 + other.x1**2))\n",
    "    def __neg__(self):\n",
    "        return csimple(-self.x0, -self.x1)\n",
    "    def __pow__(self, other):\n",
    "        return csimple(\n",
    "                (self.x0**2 - self.x1**2) * other.x0 + 2 * self.x0 * self.x1 * other.x1,\n",
    "                2 * self.x0 * self.x1 * other.x0 + (self.x0**2 - self.x1**2) * other.x1)\n",
    "    def __float__(self):\n",
    "        return jnp.nan\n",
    "    \n",
    "    # indexing and slicing:\n",
    "    def __getitem__(self, key):\n",
    "        return csimple(self.x0[key], self.x1[key])    \n",
    "    \n",
    "    @property\n",
    "    def shape(self):\n",
    "        \"\"\"Return the shape of the underlying data.\"\"\"\n",
    "        \"\"\"Note: only tests for the shape of x0, as x1 is expected to have the same shape.\"\"\"\n",
    "        return self.x0.shape\n",
    "    \n",
    "    @property\n",
    "    def norm(self):\n",
    "        return jnp.linalg.norm(jnp.array([self.x0, self.x1]).T, axis=-1)\n",
    "    \n",
    "    \n",
    "    def tree_flatten(node):\n",
    "        children = (node.x0, node.x1)\n",
    "        aux_data = ()\n",
    "        return (children, aux_data)\n",
    "    \n",
    "    @classmethod\n",
    "    def tree_unflatten(cls, aux_data, children):\n",
    "        # print(\"tree_unflatten:\",aux_data, children)\n",
    "        return cls(children[0], children[1])\n",
    "    \n",
    "a = csimple(1.0, 0.0)\n",
    "b = csimple(0.0, 1.0)\n",
    "c = csimple(1.0, 1.0)\n",
    "\n",
    "import jax.tree_util as tu\n",
    "tu.register_pytree_node_class(csimple)\n",
    "\n",
    "@jax.jit\n",
    "def y(a,b,c):\n",
    "    return ((a*b)+c).x0\n",
    "\n",
    "y(a,b,a)\n",
    "jax.jacobian(y)(a,b,c)"
   ],
   "metadata": {
    "collapsed": false,
    "is_executing": true
   },
   "id": "e41ed405b68f92b5",
   "execution_count": null
  },
  {
   "cell_type": "code",
   "outputs": [],
   "source": [
    "y(a,b,a)"
   ],
   "metadata": {
    "collapsed": false,
    "is_executing": true
   },
   "id": "8d1c25879e7f6e18",
   "execution_count": null
  },
  {
   "cell_type": "code",
   "outputs": [],
   "source": [
    "jax.grad(y)(a,b,a)"
   ],
   "metadata": {
    "collapsed": false,
    "is_executing": true
   },
   "id": "3c41f4d6fa8833e8",
   "execution_count": null
  },
  {
   "cell_type": "code",
   "outputs": [],
   "source": [
    "a/b"
   ],
   "metadata": {
    "collapsed": false,
    "is_executing": true
   },
   "id": "773a5ca6d67f1b3e",
   "execution_count": null
  },
  {
   "cell_type": "code",
   "outputs": [],
   "source": [
    "c = csimple(jnp.array([0,0,1,1]), jnp.array([0,1,0,1]))\n",
    "c"
   ],
   "metadata": {
    "collapsed": false,
    "is_executing": true
   },
   "id": "d8ae320a69d65ec9",
   "execution_count": null
  },
  {
   "cell_type": "code",
   "outputs": [],
   "source": [
    "c[0]"
   ],
   "metadata": {
    "collapsed": false,
    "is_executing": true
   },
   "id": "83fe50fae945f159",
   "execution_count": null
  },
  {
   "cell_type": "code",
   "outputs": [],
   "source": [
    "self_x0 * other_x1 + self_x1 * other_x0"
   ],
   "metadata": {
    "collapsed": false,
    "is_executing": true
   },
   "id": "c1789e7730001b07",
   "execution_count": null
  },
  {
   "cell_type": "code",
   "outputs": [],
   "source": [],
   "metadata": {
    "collapsed": false,
    "is_executing": true
   },
   "id": "37fa7627c59adb05",
   "execution_count": null
  },
  {
   "cell_type": "code",
   "outputs": [],
   "source": [
    "z=c*c"
   ],
   "metadata": {
    "collapsed": false,
    "is_executing": true
   },
   "id": "a7cf61e89ce4a6d2",
   "execution_count": null
  },
  {
   "cell_type": "code",
   "outputs": [],
   "source": [
    "z.x0"
   ],
   "metadata": {
    "collapsed": false,
    "is_executing": true
   },
   "id": "163e887d6b3377b2",
   "execution_count": null
  },
  {
   "cell_type": "code",
   "outputs": [],
   "source": [
    "z.x1"
   ],
   "metadata": {
    "collapsed": false,
    "is_executing": true
   },
   "id": "c8142017953f728f",
   "execution_count": null
  },
  {
   "cell_type": "code",
   "outputs": [],
   "source": [
    "z"
   ],
   "metadata": {
    "collapsed": false,
    "is_executing": true
   },
   "id": "44292ac93bf5aaf9",
   "execution_count": null
  },
  {
   "cell_type": "code",
   "outputs": [],
   "source": [
    "z.norm"
   ],
   "metadata": {
    "collapsed": false,
    "is_executing": true
   },
   "id": "50ddde2f3e1d357f",
   "execution_count": null
  },
  {
   "cell_type": "code",
   "outputs": [],
   "source": [
    "d=csimple(1.0,1.0)\n",
    "jax.grad(lambda d: (d*d).x0)(d)\n"
   ],
   "metadata": {
    "collapsed": false,
    "is_executing": true
   },
   "id": "5a522bd38f59a89e",
   "execution_count": null
  },
  {
   "cell_type": "code",
   "outputs": [],
   "source": [
    "jnp.array([c.x0, c.x1]).T.shape"
   ],
   "metadata": {
    "collapsed": false,
    "is_executing": true
   },
   "id": "38eff863d7e13f07",
   "execution_count": null
  }
 ],
 "metadata": {
  "kernelspec": {
   "display_name": "Python 3",
   "language": "python",
   "name": "python3"
  },
  "language_info": {
   "codemirror_mode": {
    "name": "ipython",
    "version": 2
   },
   "file_extension": ".py",
   "mimetype": "text/x-python",
   "name": "python",
   "nbconvert_exporter": "python",
   "pygments_lexer": "ipython2",
   "version": "2.7.6"
  }
 },
 "nbformat": 4,
 "nbformat_minor": 5
}
