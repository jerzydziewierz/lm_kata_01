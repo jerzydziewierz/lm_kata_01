{
 "cells": [
  {
   "cell_type": "code",
   "outputs": [],
   "source": [
    "from ndnumbers.cplx import Cplx\n",
    "import ndnumbers.cplx as cplx\n",
    "import jax.numpy as jnp"
   ],
   "metadata": {
    "collapsed": false,
    "ExecuteTime": {
     "end_time": "2024-02-11T19:51:20.192335780Z",
     "start_time": "2024-02-11T19:51:19.616025725Z"
    }
   },
   "id": "7ee00e98abab04a8",
   "execution_count": 1
  },
  {
   "cell_type": "code",
   "outputs": [
    {
     "data": {
      "text/plain": "Complex, shape=(1, 2), first one is (+1.0, i+2.0)"
     },
     "execution_count": 2,
     "metadata": {},
     "output_type": "execute_result"
    }
   ],
   "source": [
    "a = Cplx(jnp.array([1, 2]))\n",
    "a"
   ],
   "metadata": {
    "collapsed": false,
    "ExecuteTime": {
     "end_time": "2024-02-11T19:51:20.299952974Z",
     "start_time": "2024-02-11T19:51:20.196023813Z"
    }
   },
   "id": "e97ba845776ba78b",
   "execution_count": 2
  },
  {
   "cell_type": "code",
   "outputs": [
    {
     "data": {
      "text/plain": "Complex, shape=(1, 2), first one is (-0.0, i-1.0)"
     },
     "execution_count": 3,
     "metadata": {},
     "output_type": "execute_result"
    }
   ],
   "source": [
    "cplx.unit\n",
    "-1.0 * cplx.i"
   ],
   "metadata": {
    "collapsed": false,
    "ExecuteTime": {
     "end_time": "2024-02-11T19:51:20.374303557Z",
     "start_time": "2024-02-11T19:51:20.298839267Z"
    }
   },
   "id": "2de203b76bf90b5d",
   "execution_count": 3
  },
  {
   "cell_type": "code",
   "outputs": [
    {
     "data": {
      "text/plain": "Complex, shape=(1, 2), first one is (-0.0, i-1.0)"
     },
     "execution_count": 4,
     "metadata": {},
     "output_type": "execute_result"
    }
   ],
   "source": [
    "-cplx.i"
   ],
   "metadata": {
    "collapsed": false,
    "ExecuteTime": {
     "end_time": "2024-02-11T19:51:20.405043673Z",
     "start_time": "2024-02-11T19:51:20.368170288Z"
    }
   },
   "id": "1686ad4c39179b00",
   "execution_count": 4
  },
  {
   "cell_type": "code",
   "outputs": [
    {
     "data": {
      "text/plain": "Array([1.], dtype=float32)"
     },
     "execution_count": 5,
     "metadata": {},
     "output_type": "execute_result"
    }
   ],
   "source": [
    "z = -cplx.i\n",
    "z.__abs__()"
   ],
   "metadata": {
    "collapsed": false,
    "ExecuteTime": {
     "end_time": "2024-02-11T19:51:20.440293907Z",
     "start_time": "2024-02-11T19:51:20.395323311Z"
    }
   },
   "id": "6d71ed68118ddffb",
   "execution_count": 5
  },
  {
   "cell_type": "code",
   "outputs": [
    {
     "data": {
      "text/plain": "(1, 2)"
     },
     "execution_count": 6,
     "metadata": {},
     "output_type": "execute_result"
    }
   ],
   "source": [
    "z.x.shape"
   ],
   "metadata": {
    "collapsed": false,
    "ExecuteTime": {
     "end_time": "2024-02-11T19:51:20.440672070Z",
     "start_time": "2024-02-11T19:51:20.436081420Z"
    }
   },
   "id": "ea809f88f3a9f537",
   "execution_count": 6
  },
  {
   "cell_type": "code",
   "outputs": [
    {
     "data": {
      "text/plain": "2"
     },
     "execution_count": 7,
     "metadata": {},
     "output_type": "execute_result"
    }
   ],
   "source": [
    "z.x.shape[-1]"
   ],
   "metadata": {
    "collapsed": false,
    "ExecuteTime": {
     "end_time": "2024-02-11T19:51:20.440957341Z",
     "start_time": "2024-02-11T19:51:20.436218011Z"
    }
   },
   "id": "10c656456ea846e4",
   "execution_count": 7
  },
  {
   "cell_type": "code",
   "outputs": [
    {
     "data": {
      "text/plain": "Array([1.], dtype=float32)"
     },
     "execution_count": 8,
     "metadata": {},
     "output_type": "execute_result"
    }
   ],
   "source": [
    "abs(-cplx.i)"
   ],
   "metadata": {
    "collapsed": false,
    "ExecuteTime": {
     "end_time": "2024-02-11T19:51:20.442188319Z",
     "start_time": "2024-02-11T19:51:20.436272752Z"
    }
   },
   "id": "ffd8fa91f1ffd463",
   "execution_count": 8
  },
  {
   "cell_type": "code",
   "outputs": [
    {
     "name": "stdout",
     "output_type": "stream",
     "text": [
      "   0| (+0.0, i+0.0) * (+0.0, i+0.0) = (+0.0, i+0.0)\n",
      "   1| (+0.0, i+0.0) * (+1.0, i+0.0) = (+0.0, i+0.0)\n",
      "   2| (+0.0, i+0.0) * (-1.0, i-0.0) = (+0.0, i-0.0)\n",
      "   3| (+0.0, i+0.0) * (+0.0, i+1.0) = (+0.0, i+0.0)\n",
      "   4| (+0.0, i+0.0) * (-0.0, i-1.0) = (+0.0, i-0.0)\n",
      "   5| (+1.0, i+0.0) * (+0.0, i+0.0) = (+0.0, i+0.0)\n",
      "   6| (+1.0, i+0.0) * (+1.0, i+0.0) = (+1.0, i+0.0)\n",
      "   7| (+1.0, i+0.0) * (-1.0, i-0.0) = (-1.0, i-0.0)\n",
      "   8| (+1.0, i+0.0) * (+0.0, i+1.0) = (+0.0, i+1.0)\n",
      "   9| (+1.0, i+0.0) * (-0.0, i-1.0) = (+0.0, i-1.0)\n",
      "  10| (-1.0, i-0.0) * (+0.0, i+0.0) = (+0.0, i-0.0)\n",
      "  11| (-1.0, i-0.0) * (+1.0, i+0.0) = (-1.0, i-0.0)\n",
      "  12| (-1.0, i-0.0) * (-1.0, i-0.0) = (+1.0, i+0.0)\n",
      "  13| (-1.0, i-0.0) * (+0.0, i+1.0) = (+0.0, i-1.0)\n",
      "  14| (-1.0, i-0.0) * (-0.0, i-1.0) = (+0.0, i+1.0)\n",
      "  15| (+0.0, i+1.0) * (+0.0, i+0.0) = (+0.0, i+0.0)\n",
      "  16| (+0.0, i+1.0) * (+1.0, i+0.0) = (+0.0, i+1.0)\n",
      "  17| (+0.0, i+1.0) * (-1.0, i-0.0) = (+0.0, i-1.0)\n",
      "  18| (+0.0, i+1.0) * (+0.0, i+1.0) = (-1.0, i+0.0)\n",
      "  19| (+0.0, i+1.0) * (-0.0, i-1.0) = (+1.0, i-0.0)\n",
      "  20| (-0.0, i-1.0) * (+0.0, i+0.0) = (+0.0, i-0.0)\n",
      "  21| (-0.0, i-1.0) * (+1.0, i+0.0) = (+0.0, i-1.0)\n",
      "  22| (-0.0, i-1.0) * (-1.0, i-0.0) = (+0.0, i+1.0)\n",
      "  23| (-0.0, i-1.0) * (+0.0, i+1.0) = (+1.0, i-0.0)\n",
      "  24| (-0.0, i-1.0) * (-0.0, i-1.0) = (-1.0, i+0.0)\n"
     ]
    }
   ],
   "source": [
    "opts = [cplx.null, cplx.unit, -cplx.unit, cplx.i, -cplx.i]\n",
    "opt_idx = 0\n",
    "for opt1 in opts:\n",
    "    for opt2 in opts:\n",
    "        \n",
    "        print(f\"{opt_idx: 4d}| {opt1.s} * {opt2.s} = {(opt1 * opt2).s}\")\n",
    "        opt_idx += 1\n"
   ],
   "metadata": {
    "collapsed": false,
    "ExecuteTime": {
     "end_time": "2024-02-11T20:05:19.256155141Z",
     "start_time": "2024-02-11T20:05:19.159553857Z"
    }
   },
   "id": "dd5ee7ef6ade6934",
   "execution_count": 11
  },
  {
   "cell_type": "code",
   "outputs": [
    {
     "data": {
      "text/plain": "'(-0.0, i-1.0)'"
     },
     "execution_count": 10,
     "metadata": {},
     "output_type": "execute_result"
    }
   ],
   "source": [
    "opt1.__repr__()\n",
    "opt1.s"
   ],
   "metadata": {
    "collapsed": false,
    "ExecuteTime": {
     "end_time": "2024-02-11T19:51:20.704454558Z",
     "start_time": "2024-02-11T19:51:20.659242541Z"
    }
   },
   "id": "c35f62c5c1db31bc",
   "execution_count": 10
  },
  {
   "cell_type": "code",
   "outputs": [
    {
     "ename": "TypeError",
     "evalue": "Cannot interpret value of type <class 'ndnumbers.cplx.Cplx'> as an abstract array; it does not have a dtype attribute",
     "output_type": "error",
     "traceback": [
      "\u001B[0;31m---------------------------------------------------------------------------\u001B[0m",
      "\u001B[0;31mKeyError\u001B[0m                                  Traceback (most recent call last)",
      "File \u001B[0;32m~/prog/miniconda3/envs/py311/lib/python3.11/site-packages/jax/_src/api_util.py:584\u001B[0m, in \u001B[0;36mshaped_abstractify\u001B[0;34m(x)\u001B[0m\n\u001B[1;32m    583\u001B[0m \u001B[38;5;28;01mtry\u001B[39;00m:\n\u001B[0;32m--> 584\u001B[0m   \u001B[38;5;28;01mreturn\u001B[39;00m \u001B[43m_shaped_abstractify_handlers\u001B[49m\u001B[43m[\u001B[49m\u001B[38;5;28;43mtype\u001B[39;49m\u001B[43m(\u001B[49m\u001B[43mx\u001B[49m\u001B[43m)\u001B[49m\u001B[43m]\u001B[49m(x)\n\u001B[1;32m    585\u001B[0m \u001B[38;5;28;01mexcept\u001B[39;00m \u001B[38;5;167;01mKeyError\u001B[39;00m:\n",
      "\u001B[0;31mKeyError\u001B[0m: <class 'ndnumbers.cplx.Cplx'>",
      "\nDuring handling of the above exception, another exception occurred:\n",
      "\u001B[0;31mTypeError\u001B[0m                                 Traceback (most recent call last)",
      "Cell \u001B[0;32mIn[52], line 5\u001B[0m\n\u001B[1;32m      1\u001B[0m \u001B[38;5;129m@jax\u001B[39m\u001B[38;5;241m.\u001B[39mjit\n\u001B[1;32m      2\u001B[0m \u001B[38;5;28;01mdef\u001B[39;00m \u001B[38;5;21mx\u001B[39m(a,b,c,d):\n\u001B[1;32m      3\u001B[0m     \u001B[38;5;28;01mreturn\u001B[39;00m ((a\u001B[38;5;241m*\u001B[39mb\u001B[38;5;241m+\u001B[39mc)\u001B[38;5;241m*\u001B[39md)\u001B[38;5;241m.\u001B[39mnorm\n\u001B[0;32m----> 5\u001B[0m \u001B[43mx\u001B[49m\u001B[43m(\u001B[49m\u001B[43mcplx\u001B[49m\u001B[38;5;241;43m.\u001B[39;49m\u001B[43munit\u001B[49m\u001B[43m,\u001B[49m\u001B[43mcplx\u001B[49m\u001B[38;5;241;43m.\u001B[39;49m\u001B[43mi\u001B[49m\u001B[43m,\u001B[49m\u001B[43mcplx\u001B[49m\u001B[38;5;241;43m.\u001B[39;49m\u001B[43munit\u001B[49m\u001B[43m,\u001B[49m\u001B[43m \u001B[49m\u001B[38;5;241;43m2\u001B[39;49m\u001B[38;5;241;43m*\u001B[39;49m\u001B[43mcplx\u001B[49m\u001B[38;5;241;43m.\u001B[39;49m\u001B[43mi\u001B[49m\u001B[43m)\u001B[49m\n",
      "    \u001B[0;31m[... skipping hidden 6 frame]\u001B[0m\n",
      "File \u001B[0;32m~/prog/miniconda3/envs/py311/lib/python3.11/site-packages/jax/_src/api_util.py:575\u001B[0m, in \u001B[0;36m_shaped_abstractify_slow\u001B[0;34m(x)\u001B[0m\n\u001B[1;32m    573\u001B[0m   dtype \u001B[38;5;241m=\u001B[39m dtypes\u001B[38;5;241m.\u001B[39mcanonicalize_dtype(x\u001B[38;5;241m.\u001B[39mdtype, allow_extended_dtype\u001B[38;5;241m=\u001B[39m\u001B[38;5;28;01mTrue\u001B[39;00m)\n\u001B[1;32m    574\u001B[0m \u001B[38;5;28;01melse\u001B[39;00m:\n\u001B[0;32m--> 575\u001B[0m   \u001B[38;5;28;01mraise\u001B[39;00m \u001B[38;5;167;01mTypeError\u001B[39;00m(\n\u001B[1;32m    576\u001B[0m       \u001B[38;5;124mf\u001B[39m\u001B[38;5;124m\"\u001B[39m\u001B[38;5;124mCannot interpret value of type \u001B[39m\u001B[38;5;132;01m{\u001B[39;00m\u001B[38;5;28mtype\u001B[39m(x)\u001B[38;5;132;01m}\u001B[39;00m\u001B[38;5;124m as an abstract array; it \u001B[39m\u001B[38;5;124m\"\u001B[39m\n\u001B[1;32m    577\u001B[0m       \u001B[38;5;124m\"\u001B[39m\u001B[38;5;124mdoes not have a dtype attribute\u001B[39m\u001B[38;5;124m\"\u001B[39m)\n\u001B[1;32m    578\u001B[0m \u001B[38;5;28;01mreturn\u001B[39;00m core\u001B[38;5;241m.\u001B[39mShapedArray(np\u001B[38;5;241m.\u001B[39mshape(x), dtype, weak_type\u001B[38;5;241m=\u001B[39mweak_type,\n\u001B[1;32m    579\u001B[0m                         named_shape\u001B[38;5;241m=\u001B[39mnamed_shape)\n",
      "\u001B[0;31mTypeError\u001B[0m: Cannot interpret value of type <class 'ndnumbers.cplx.Cplx'> as an abstract array; it does not have a dtype attribute"
     ]
    }
   ],
   "source": [
    "@jax.jit\n",
    "def x(a,b,c,d):\n",
    "    return ((a*b+c)*d).norm\n",
    "\n",
    "x(cplx.unit,cplx.i,cplx.unit, 2*cplx.i)"
   ],
   "metadata": {
    "collapsed": false,
    "ExecuteTime": {
     "end_time": "2024-02-11T20:18:20.740615981Z",
     "start_time": "2024-02-11T20:18:20.600179899Z"
    }
   },
   "id": "cd022e01b69efb1d",
   "execution_count": 52
  },
  {
   "cell_type": "code",
   "outputs": [
    {
     "ename": "TypeError",
     "evalue": "Argument 'Complex, shape=(1, 2), first one is (+0.0, i+1.0)' of type <class 'ndnumbers.cplx.Cplx'> is not a valid JAX type.",
     "output_type": "error",
     "traceback": [
      "\u001B[0;31m---------------------------------------------------------------------------\u001B[0m",
      "\u001B[0;31mTypeError\u001B[0m                                 Traceback (most recent call last)",
      "Cell \u001B[0;32mIn[51], line 2\u001B[0m\n\u001B[1;32m      1\u001B[0m \u001B[38;5;28;01mimport\u001B[39;00m \u001B[38;5;21;01mjax\u001B[39;00m\n\u001B[0;32m----> 2\u001B[0m \u001B[43mjax\u001B[49m\u001B[38;5;241;43m.\u001B[39;49m\u001B[43mgrad\u001B[49m\u001B[43m(\u001B[49m\u001B[43mx\u001B[49m\u001B[43m)\u001B[49m\u001B[43m(\u001B[49m\u001B[43mcplx\u001B[49m\u001B[38;5;241;43m.\u001B[39;49m\u001B[43mi\u001B[49m\u001B[43m,\u001B[49m\u001B[43mcplx\u001B[49m\u001B[38;5;241;43m.\u001B[39;49m\u001B[43mi\u001B[49m\u001B[43m,\u001B[49m\u001B[38;5;241;43m3\u001B[39;49m\u001B[38;5;241;43m*\u001B[39;49m\u001B[43mcplx\u001B[49m\u001B[38;5;241;43m.\u001B[39;49m\u001B[43munit\u001B[49m\u001B[43m,\u001B[49m\u001B[43m \u001B[49m\u001B[38;5;241;43m2\u001B[39;49m\u001B[38;5;241;43m*\u001B[39;49m\u001B[43mcplx\u001B[49m\u001B[38;5;241;43m.\u001B[39;49m\u001B[43mi\u001B[49m\u001B[43m)\u001B[49m\n",
      "    \u001B[0;31m[... skipping hidden 5 frame]\u001B[0m\n",
      "File \u001B[0;32m~/prog/miniconda3/envs/py311/lib/python3.11/site-packages/jax/_src/dispatch.py:289\u001B[0m, in \u001B[0;36mcheck_arg\u001B[0;34m(arg)\u001B[0m\n\u001B[1;32m    287\u001B[0m \u001B[38;5;28;01mdef\u001B[39;00m \u001B[38;5;21mcheck_arg\u001B[39m(arg: Any):\n\u001B[1;32m    288\u001B[0m   \u001B[38;5;28;01mif\u001B[39;00m \u001B[38;5;129;01mnot\u001B[39;00m (\u001B[38;5;28misinstance\u001B[39m(arg, core\u001B[38;5;241m.\u001B[39mTracer) \u001B[38;5;129;01mor\u001B[39;00m core\u001B[38;5;241m.\u001B[39mvalid_jaxtype(arg)):\n\u001B[0;32m--> 289\u001B[0m     \u001B[38;5;28;01mraise\u001B[39;00m \u001B[38;5;167;01mTypeError\u001B[39;00m(\u001B[38;5;124mf\u001B[39m\u001B[38;5;124m\"\u001B[39m\u001B[38;5;124mArgument \u001B[39m\u001B[38;5;124m'\u001B[39m\u001B[38;5;132;01m{\u001B[39;00marg\u001B[38;5;132;01m}\u001B[39;00m\u001B[38;5;124m'\u001B[39m\u001B[38;5;124m of type \u001B[39m\u001B[38;5;132;01m{\u001B[39;00m\u001B[38;5;28mtype\u001B[39m(arg)\u001B[38;5;132;01m}\u001B[39;00m\u001B[38;5;124m is not a valid \u001B[39m\u001B[38;5;124m\"\u001B[39m\n\u001B[1;32m    290\u001B[0m                     \u001B[38;5;124m\"\u001B[39m\u001B[38;5;124mJAX type.\u001B[39m\u001B[38;5;124m\"\u001B[39m)\n",
      "\u001B[0;31mTypeError\u001B[0m: Argument 'Complex, shape=(1, 2), first one is (+0.0, i+1.0)' of type <class 'ndnumbers.cplx.Cplx'> is not a valid JAX type."
     ]
    }
   ],
   "source": [
    "import jax\n",
    "jax.grad(x)(cplx.i,cplx.i,3*cplx.unit, 2*cplx.i)\n"
   ],
   "metadata": {
    "collapsed": false,
    "ExecuteTime": {
     "end_time": "2024-02-11T20:18:03.772286526Z",
     "start_time": "2024-02-11T20:18:03.731566194Z"
    }
   },
   "id": "e3ac5703f729850b",
   "execution_count": 51
  }
 ],
 "metadata": {
  "kernelspec": {
   "display_name": "Python 3",
   "language": "python",
   "name": "python3"
  },
  "language_info": {
   "codemirror_mode": {
    "name": "ipython",
    "version": 2
   },
   "file_extension": ".py",
   "mimetype": "text/x-python",
   "name": "python",
   "nbconvert_exporter": "python",
   "pygments_lexer": "ipython2",
   "version": "2.7.6"
  }
 },
 "nbformat": 4,
 "nbformat_minor": 5
}
