{
 "cells": [
  {
   "cell_type": "code",
   "execution_count": null,
   "id": "f4c0c078-3db3-4605-badf-46cf8601fdc5",
   "metadata": {},
   "outputs": [
    {
     "name": "stderr",
     "output_type": "stream",
     "text": [
      "2023-12-30 18:22:41.171612: E external/local_xla/xla/stream_executor/cuda/cuda_dnn.cc:9261] Unable to register cuDNN factory: Attempting to register factory for plugin cuDNN when one has already been registered\n",
      "2023-12-30 18:22:41.171638: E external/local_xla/xla/stream_executor/cuda/cuda_fft.cc:607] Unable to register cuFFT factory: Attempting to register factory for plugin cuFFT when one has already been registered\n",
      "2023-12-30 18:22:41.172542: E external/local_xla/xla/stream_executor/cuda/cuda_blas.cc:1515] Unable to register cuBLAS factory: Attempting to register factory for plugin cuBLAS when one has already been registered\n",
      "2023-12-30 18:22:41.926008: W tensorflow/compiler/tf2tensorrt/utils/py_utils.cc:38] TF-TRT Warning: Could not find TensorRT\n"
     ]
    }
   ],
   "source": [
    "import jax, flax, numpy\n",
    "import flax.linen as nn\n",
    "from notebookinit import *\n",
    "import jax.numpy as jnp\n",
    "from sklearn.model_selection import train_test_split\n",
    "import optax\n",
    "import tiktoken\n",
    "import lib_kata"
   ]
  },
  {
   "cell_type": "code",
   "execution_count": null,
   "id": "0c0f2b55-1bf1-46cb-9d81-deff9f5fc763",
   "metadata": {},
   "outputs": [
    {
     "name": "stdout",
     "output_type": "stream",
     "text": [
      "vocabulary: \n",
      " ,e,t,o,a,i,h,s,r,n,\n",
      ",l,d,u,m,y,w,,,c,f,g,b,p,:,k,v,.,',;,?,!,-,j,q,x,z,3,&,$ \n",
      " size: 39 chars\n",
      "first citizen:\n",
      "before we proceed any further, hear me speak.\n",
      "\n",
      "all:\n",
      "speak, speak.\n",
      "\n",
      "first citizen:\n",
      "you\n"
     ]
    }
   ],
   "source": [
    "text_encoded, text_encoder, text_decoder, vocabulary_size = lib_kata.load_dataset_and_tokenize()"
   ]
  },
  {
   "cell_type": "code",
   "execution_count": null,
   "id": "b806c6ba-eca8-4b23-b667-41d1eb3df67b",
   "metadata": {},
   "outputs": [],
   "source": [
    "context_size=16\n",
    "embedd_features=5\n",
    "learning_rate=3e-2"
   ]
  },
  {
   "cell_type": "code",
   "execution_count": null,
   "id": "3728d42f-7d95-4b34-989f-864da32bf881",
   "metadata": {},
   "outputs": [],
   "source": [
    "X_all,y_all = lib_kata.make_training_Xy(text_encoded, context_size=context_size)\n",
    "from sklearn.model_selection import train_test_split\n",
    "X_train, X_test, y_train, y_test = train_test_split(X_all, y_all, test_size=0.05, shuffle=False, random_state=42)"
   ]
  },
  {
   "cell_type": "code",
   "execution_count": null,
   "id": "804b7870-d823-4641-b594-03ad90a91b5f",
   "metadata": {},
   "outputs": [
    {
     "name": "stdout",
     "output_type": "stream",
     "text": [
      "[19  5  8  7  2  0 18  5  2  5 35  1  9 23 10 21]  ->  1  |  first citizen:\n",
      "b _ e\n",
      "[ 5  8  7  2  0 18  5  2  5 35  1  9 23 10 21  1]  ->  19  |  irst citizen:\n",
      "be _ f\n",
      "[ 8  7  2  0 18  5  2  5 35  1  9 23 10 21  1 19]  ->  3  |  rst citizen:\n",
      "bef _ o\n",
      "[ 7  2  0 18  5  2  5 35  1  9 23 10 21  1 19  3]  ->  8  |  st citizen:\n",
      "befo _ r\n",
      "[ 2  0 18  5  2  5 35  1  9 23 10 21  1 19  3  8]  ->  1  |  t citizen:\n",
      "befor _ e\n"
     ]
    }
   ],
   "source": [
    "lib_kata.preview_Xy(X=X_train, y=y_train, text_decoder=text_decoder, count=5, offset=0)"
   ]
  },
  {
   "cell_type": "code",
   "execution_count": null,
   "id": "e15cab9d-e826-47d9-b6c0-e46a90b47c14",
   "metadata": {},
   "outputs": [
    {
     "data": {
      "text/plain": [
       "39"
      ]
     },
     "execution_count": null,
     "metadata": {},
     "output_type": "execute_result"
    }
   ],
   "source": [
    "vocabulary_size"
   ]
  },
  {
   "cell_type": "code",
   "execution_count": null,
   "id": "5a0a3eb9-cfd5-49e5-a965-c2a8500eeb2c",
   "metadata": {},
   "outputs": [],
   "source": [
    "embedder = nn.Embed(num_embeddings=vocabulary_size, features=5)"
   ]
  },
  {
   "cell_type": "code",
   "execution_count": null,
   "id": "52b0fac7-df18-4ed6-b34f-7d81fb2632b1",
   "metadata": {},
   "outputs": [
    {
     "data": {
      "text/plain": [
       "Embed(\n",
       "    # attributes\n",
       "    num_embeddings = 39\n",
       "    features = 5\n",
       "    dtype = None\n",
       "    param_dtype = float32\n",
       "    embedding_init = init\n",
       ")"
      ]
     },
     "execution_count": null,
     "metadata": {},
     "output_type": "execute_result"
    }
   ],
   "source": [
    "embedder"
   ]
  },
  {
   "cell_type": "code",
   "execution_count": null,
   "id": "efd1f0f8-de21-47f7-b722-d1cd1e18c289",
   "metadata": {},
   "outputs": [],
   "source": [
    "embedder_example_param = embedder.init(jax.random.PRNGKey(0), X_train[0])"
   ]
  },
  {
   "cell_type": "code",
   "execution_count": null,
   "id": "76683508-f693-4c4a-bc70-da7a363a36a7",
   "metadata": {},
   "outputs": [
    {
     "data": {
      "text/plain": [
       "(1, 16)"
      ]
     },
     "execution_count": null,
     "metadata": {},
     "output_type": "execute_result"
    }
   ],
   "source": [
    "example_X = X_train[0].reshape([1,context_size])\n",
    "example_X.shape"
   ]
  },
  {
   "cell_type": "code",
   "execution_count": null,
   "id": "2838a3c8-0c77-4957-a2da-37e6a407b973",
   "metadata": {},
   "outputs": [
    {
     "data": {
      "text/html": [
       "<pre style=\"white-space:pre;overflow-x:auto;line-height:normal;font-family:Menlo,'DejaVu Sans Mono',consolas,'Courier New',monospace\"><span style=\"font-style: italic\">                               Embed Summary                                </span>\n",
       "┏━━━━━━┳━━━━━━━━┳━━━━━━━━━━━━━┳━━━━━━━━━━━━━━━━━┳━━━━━━━━━━━━━━━━━━━━━━━━━━┓\n",
       "┃<span style=\"font-weight: bold\"> path </span>┃<span style=\"font-weight: bold\"> module </span>┃<span style=\"font-weight: bold\"> inputs      </span>┃<span style=\"font-weight: bold\"> outputs         </span>┃<span style=\"font-weight: bold\"> params                   </span>┃\n",
       "┡━━━━━━╇━━━━━━━━╇━━━━━━━━━━━━━╇━━━━━━━━━━━━━━━━━╇━━━━━━━━━━━━━━━━━━━━━━━━━━┩\n",
       "│      │ Embed  │ <span style=\"color: #7f7f7f; text-decoration-color: #7f7f7f\">int32</span>[1,16] │ <span style=\"color: #7f7f7f; text-decoration-color: #7f7f7f\">float32</span>[1,16,5] │ embedding: <span style=\"color: #7f7f7f; text-decoration-color: #7f7f7f\">float32</span>[39,5] │\n",
       "│      │        │             │                 │                          │\n",
       "│      │        │             │                 │ <span style=\"font-weight: bold\">195 </span><span style=\"color: #7f7f7f; text-decoration-color: #7f7f7f; font-weight: bold\">(780 B)</span>              │\n",
       "├──────┼────────┼─────────────┼─────────────────┼──────────────────────────┤\n",
       "│<span style=\"font-weight: bold\">      </span>│<span style=\"font-weight: bold\">        </span>│<span style=\"font-weight: bold\">             </span>│<span style=\"font-weight: bold\">           Total </span>│<span style=\"font-weight: bold\"> 195 </span><span style=\"color: #7f7f7f; text-decoration-color: #7f7f7f; font-weight: bold\">(780 B)</span><span style=\"font-weight: bold\">              </span>│\n",
       "└──────┴────────┴─────────────┴─────────────────┴──────────────────────────┘\n",
       "<span style=\"font-weight: bold\">                                                                            </span>\n",
       "<span style=\"font-weight: bold\">                       Total Parameters: 195 </span><span style=\"color: #7f7f7f; text-decoration-color: #7f7f7f; font-weight: bold\">(780 B)</span><span style=\"font-weight: bold\">                        </span>\n",
       "</pre>\n"
      ],
      "text/plain": [
       "\u001b[3m                               Embed Summary                                \u001b[0m\n",
       "┏━━━━━━┳━━━━━━━━┳━━━━━━━━━━━━━┳━━━━━━━━━━━━━━━━━┳━━━━━━━━━━━━━━━━━━━━━━━━━━┓\n",
       "┃\u001b[1m \u001b[0m\u001b[1mpath\u001b[0m\u001b[1m \u001b[0m┃\u001b[1m \u001b[0m\u001b[1mmodule\u001b[0m\u001b[1m \u001b[0m┃\u001b[1m \u001b[0m\u001b[1minputs     \u001b[0m\u001b[1m \u001b[0m┃\u001b[1m \u001b[0m\u001b[1moutputs        \u001b[0m\u001b[1m \u001b[0m┃\u001b[1m \u001b[0m\u001b[1mparams                  \u001b[0m\u001b[1m \u001b[0m┃\n",
       "┡━━━━━━╇━━━━━━━━╇━━━━━━━━━━━━━╇━━━━━━━━━━━━━━━━━╇━━━━━━━━━━━━━━━━━━━━━━━━━━┩\n",
       "│      │ Embed  │ \u001b[2mint32\u001b[0m[1,16] │ \u001b[2mfloat32\u001b[0m[1,16,5] │ embedding: \u001b[2mfloat32\u001b[0m[39,5] │\n",
       "│      │        │             │                 │                          │\n",
       "│      │        │             │                 │ \u001b[1m195 \u001b[0m\u001b[1;2m(780 B)\u001b[0m              │\n",
       "├──────┼────────┼─────────────┼─────────────────┼──────────────────────────┤\n",
       "│\u001b[1m \u001b[0m\u001b[1m    \u001b[0m\u001b[1m \u001b[0m│\u001b[1m \u001b[0m\u001b[1m      \u001b[0m\u001b[1m \u001b[0m│\u001b[1m \u001b[0m\u001b[1m           \u001b[0m\u001b[1m \u001b[0m│\u001b[1m \u001b[0m\u001b[1m          Total\u001b[0m\u001b[1m \u001b[0m│\u001b[1m \u001b[0m\u001b[1m195 \u001b[0m\u001b[1;2m(780 B)\u001b[0m\u001b[1m             \u001b[0m\u001b[1m \u001b[0m│\n",
       "└──────┴────────┴─────────────┴─────────────────┴──────────────────────────┘\n",
       "\u001b[1m                                                                            \u001b[0m\n",
       "\u001b[1m                       Total Parameters: 195 \u001b[0m\u001b[1;2m(780 B)\u001b[0m\u001b[1m                        \u001b[0m\n"
      ]
     },
     "metadata": {},
     "output_type": "display_data"
    },
    {
     "name": "stdout",
     "output_type": "stream",
     "text": [
      "\n",
      "\n",
      "\n"
     ]
    }
   ],
   "source": [
    "tabulate_fn = nn.tabulate(embedder, jax.random.PRNGKey(0), console_kwargs={'width':120, 'force_jupyter':True})\n",
    "\n",
    "print(tabulate_fn(example_X))"
   ]
  },
  {
   "cell_type": "code",
   "execution_count": null,
   "id": "3f7bc83d-6c52-4d49-b4f0-8bf4aa79dd95",
   "metadata": {},
   "outputs": [
    {
     "data": {
      "text/plain": [
       "Array([[[0., 1., 0., 0., 0., 0., 0., 0., 0., 0., 0., 0., 0., 0., 0., 0.,\n",
       "         0., 0., 0., 0., 0., 0., 0., 0., 0., 0., 0., 0., 0., 0., 0., 0.,\n",
       "         0., 0., 0., 0., 0., 0., 0.]]], dtype=float32)"
      ]
     },
     "execution_count": null,
     "metadata": {},
     "output_type": "execute_result"
    }
   ],
   "source": [
    "\n",
    "X_small,y_small = lib_kata.make_training_Xy(text_encoded[0:2000], context_size=context_size)\n",
    "example_X=X_small[0].reshape([1,context_size])\n",
    "example_target_y=y_small[0].reshape([-1,1])\n",
    "example_target_y_logits = nn.activation.one_hot(example_target_y,vocabulary_size)\n",
    "example_target_y_logits"
   ]
  },
  {
   "cell_type": "code",
   "execution_count": null,
   "id": "8e1ec15f-d230-4a0f-95b7-599c079751e7",
   "metadata": {},
   "outputs": [
    {
     "data": {
      "text/plain": [
       "'e'"
      ]
     },
     "execution_count": null,
     "metadata": {},
     "output_type": "execute_result"
    }
   ],
   "source": [
    "text_decoder(jnp.argmax(example_target_y_logits).reshape([-1,1]))"
   ]
  },
  {
   "cell_type": "code",
   "execution_count": null,
   "id": "399592ea-3e3d-4590-aa55-f238e0b144e0",
   "metadata": {},
   "outputs": [
    {
     "data": {
      "text/html": [
       "<pre style=\"white-space:pre;overflow-x:auto;line-height:normal;font-family:Menlo,'DejaVu Sans Mono',consolas,'Courier New',monospace\"><span style=\"font-style: italic\">                                   SimpleNN1 Summary                                    </span>\n",
       "┏━━━━━━━━━━━━━┳━━━━━━━━━━━┳━━━━━━━━━━━━━━━┳━━━━━━━━━━━━━━━━━┳━━━━━━━━━━━━━━━━━━━━━━━━━━┓\n",
       "┃<span style=\"font-weight: bold\"> path        </span>┃<span style=\"font-weight: bold\"> module    </span>┃<span style=\"font-weight: bold\"> inputs        </span>┃<span style=\"font-weight: bold\"> outputs         </span>┃<span style=\"font-weight: bold\"> params                   </span>┃\n",
       "┡━━━━━━━━━━━━━╇━━━━━━━━━━━╇━━━━━━━━━━━━━━━╇━━━━━━━━━━━━━━━━━╇━━━━━━━━━━━━━━━━━━━━━━━━━━┩\n",
       "│             │ SimpleNN1 │ <span style=\"color: #7f7f7f; text-decoration-color: #7f7f7f\">int32</span>[1,16]   │ <span style=\"color: #7f7f7f; text-decoration-color: #7f7f7f\">float32</span>[1,39]   │                          │\n",
       "├─────────────┼───────────┼───────────────┼─────────────────┼──────────────────────────┤\n",
       "│ embedding   │ Embed     │ <span style=\"color: #7f7f7f; text-decoration-color: #7f7f7f\">int32</span>[1,16]   │ <span style=\"color: #7f7f7f; text-decoration-color: #7f7f7f\">float32</span>[1,16,5] │ embedding: <span style=\"color: #7f7f7f; text-decoration-color: #7f7f7f\">float32</span>[39,5] │\n",
       "│             │           │               │                 │                          │\n",
       "│             │           │               │                 │ <span style=\"font-weight: bold\">195 </span><span style=\"color: #7f7f7f; text-decoration-color: #7f7f7f; font-weight: bold\">(780 B)</span>              │\n",
       "├─────────────┼───────────┼───────────────┼─────────────────┼──────────────────────────┤\n",
       "│ layer_1     │ Dense     │ <span style=\"color: #7f7f7f; text-decoration-color: #7f7f7f\">float32</span>[1,80] │ <span style=\"color: #7f7f7f; text-decoration-color: #7f7f7f\">float32</span>[1,11]   │ bias: <span style=\"color: #7f7f7f; text-decoration-color: #7f7f7f\">float32</span>[11]        │\n",
       "│             │           │               │                 │ kernel: <span style=\"color: #7f7f7f; text-decoration-color: #7f7f7f\">float32</span>[80,11]   │\n",
       "│             │           │               │                 │                          │\n",
       "│             │           │               │                 │ <span style=\"font-weight: bold\">891 </span><span style=\"color: #7f7f7f; text-decoration-color: #7f7f7f; font-weight: bold\">(3.6 KB)</span>             │\n",
       "├─────────────┼───────────┼───────────────┼─────────────────┼──────────────────────────┤\n",
       "│ layer_2     │ Dense     │ <span style=\"color: #7f7f7f; text-decoration-color: #7f7f7f\">float32</span>[1,11] │ <span style=\"color: #7f7f7f; text-decoration-color: #7f7f7f\">float32</span>[1,7]    │ bias: <span style=\"color: #7f7f7f; text-decoration-color: #7f7f7f\">float32</span>[7]         │\n",
       "│             │           │               │                 │ kernel: <span style=\"color: #7f7f7f; text-decoration-color: #7f7f7f\">float32</span>[11,7]    │\n",
       "│             │           │               │                 │                          │\n",
       "│             │           │               │                 │ <span style=\"font-weight: bold\">84 </span><span style=\"color: #7f7f7f; text-decoration-color: #7f7f7f; font-weight: bold\">(336 B)</span>               │\n",
       "├─────────────┼───────────┼───────────────┼─────────────────┼──────────────────────────┤\n",
       "│ layer_final │ Dense     │ <span style=\"color: #7f7f7f; text-decoration-color: #7f7f7f\">float32</span>[1,7]  │ <span style=\"color: #7f7f7f; text-decoration-color: #7f7f7f\">float32</span>[1,39]   │ bias: <span style=\"color: #7f7f7f; text-decoration-color: #7f7f7f\">float32</span>[39]        │\n",
       "│             │           │               │                 │ kernel: <span style=\"color: #7f7f7f; text-decoration-color: #7f7f7f\">float32</span>[7,39]    │\n",
       "│             │           │               │                 │                          │\n",
       "│             │           │               │                 │ <span style=\"font-weight: bold\">312 </span><span style=\"color: #7f7f7f; text-decoration-color: #7f7f7f; font-weight: bold\">(1.2 KB)</span>             │\n",
       "├─────────────┼───────────┼───────────────┼─────────────────┼──────────────────────────┤\n",
       "│<span style=\"font-weight: bold\">             </span>│<span style=\"font-weight: bold\">           </span>│<span style=\"font-weight: bold\">               </span>│<span style=\"font-weight: bold\">           Total </span>│<span style=\"font-weight: bold\"> 1,482 </span><span style=\"color: #7f7f7f; text-decoration-color: #7f7f7f; font-weight: bold\">(5.9 KB)</span><span style=\"font-weight: bold\">           </span>│\n",
       "└─────────────┴───────────┴───────────────┴─────────────────┴──────────────────────────┘\n",
       "<span style=\"font-weight: bold\">                                                                                        </span>\n",
       "<span style=\"font-weight: bold\">                            Total Parameters: 1,482 </span><span style=\"color: #7f7f7f; text-decoration-color: #7f7f7f; font-weight: bold\">(5.9 KB)</span><span style=\"font-weight: bold\">                            </span>\n",
       "</pre>\n"
      ],
      "text/plain": [
       "\u001b[3m                                   SimpleNN1 Summary                                    \u001b[0m\n",
       "┏━━━━━━━━━━━━━┳━━━━━━━━━━━┳━━━━━━━━━━━━━━━┳━━━━━━━━━━━━━━━━━┳━━━━━━━━━━━━━━━━━━━━━━━━━━┓\n",
       "┃\u001b[1m \u001b[0m\u001b[1mpath       \u001b[0m\u001b[1m \u001b[0m┃\u001b[1m \u001b[0m\u001b[1mmodule   \u001b[0m\u001b[1m \u001b[0m┃\u001b[1m \u001b[0m\u001b[1minputs       \u001b[0m\u001b[1m \u001b[0m┃\u001b[1m \u001b[0m\u001b[1moutputs        \u001b[0m\u001b[1m \u001b[0m┃\u001b[1m \u001b[0m\u001b[1mparams                  \u001b[0m\u001b[1m \u001b[0m┃\n",
       "┡━━━━━━━━━━━━━╇━━━━━━━━━━━╇━━━━━━━━━━━━━━━╇━━━━━━━━━━━━━━━━━╇━━━━━━━━━━━━━━━━━━━━━━━━━━┩\n",
       "│             │ SimpleNN1 │ \u001b[2mint32\u001b[0m[1,16]   │ \u001b[2mfloat32\u001b[0m[1,39]   │                          │\n",
       "├─────────────┼───────────┼───────────────┼─────────────────┼──────────────────────────┤\n",
       "│ embedding   │ Embed     │ \u001b[2mint32\u001b[0m[1,16]   │ \u001b[2mfloat32\u001b[0m[1,16,5] │ embedding: \u001b[2mfloat32\u001b[0m[39,5] │\n",
       "│             │           │               │                 │                          │\n",
       "│             │           │               │                 │ \u001b[1m195 \u001b[0m\u001b[1;2m(780 B)\u001b[0m              │\n",
       "├─────────────┼───────────┼───────────────┼─────────────────┼──────────────────────────┤\n",
       "│ layer_1     │ Dense     │ \u001b[2mfloat32\u001b[0m[1,80] │ \u001b[2mfloat32\u001b[0m[1,11]   │ bias: \u001b[2mfloat32\u001b[0m[11]        │\n",
       "│             │           │               │                 │ kernel: \u001b[2mfloat32\u001b[0m[80,11]   │\n",
       "│             │           │               │                 │                          │\n",
       "│             │           │               │                 │ \u001b[1m891 \u001b[0m\u001b[1;2m(3.6 KB)\u001b[0m             │\n",
       "├─────────────┼───────────┼───────────────┼─────────────────┼──────────────────────────┤\n",
       "│ layer_2     │ Dense     │ \u001b[2mfloat32\u001b[0m[1,11] │ \u001b[2mfloat32\u001b[0m[1,7]    │ bias: \u001b[2mfloat32\u001b[0m[7]         │\n",
       "│             │           │               │                 │ kernel: \u001b[2mfloat32\u001b[0m[11,7]    │\n",
       "│             │           │               │                 │                          │\n",
       "│             │           │               │                 │ \u001b[1m84 \u001b[0m\u001b[1;2m(336 B)\u001b[0m               │\n",
       "├─────────────┼───────────┼───────────────┼─────────────────┼──────────────────────────┤\n",
       "│ layer_final │ Dense     │ \u001b[2mfloat32\u001b[0m[1,7]  │ \u001b[2mfloat32\u001b[0m[1,39]   │ bias: \u001b[2mfloat32\u001b[0m[39]        │\n",
       "│             │           │               │                 │ kernel: \u001b[2mfloat32\u001b[0m[7,39]    │\n",
       "│             │           │               │                 │                          │\n",
       "│             │           │               │                 │ \u001b[1m312 \u001b[0m\u001b[1;2m(1.2 KB)\u001b[0m             │\n",
       "├─────────────┼───────────┼───────────────┼─────────────────┼──────────────────────────┤\n",
       "│\u001b[1m \u001b[0m\u001b[1m           \u001b[0m\u001b[1m \u001b[0m│\u001b[1m \u001b[0m\u001b[1m         \u001b[0m\u001b[1m \u001b[0m│\u001b[1m \u001b[0m\u001b[1m             \u001b[0m\u001b[1m \u001b[0m│\u001b[1m \u001b[0m\u001b[1m          Total\u001b[0m\u001b[1m \u001b[0m│\u001b[1m \u001b[0m\u001b[1m1,482 \u001b[0m\u001b[1;2m(5.9 KB)\u001b[0m\u001b[1m          \u001b[0m\u001b[1m \u001b[0m│\n",
       "└─────────────┴───────────┴───────────────┴─────────────────┴──────────────────────────┘\n",
       "\u001b[1m                                                                                        \u001b[0m\n",
       "\u001b[1m                            Total Parameters: 1,482 \u001b[0m\u001b[1;2m(5.9 KB)\u001b[0m\u001b[1m                            \u001b[0m\n"
      ]
     },
     "metadata": {},
     "output_type": "display_data"
    },
    {
     "name": "stdout",
     "output_type": "stream",
     "text": [
      "\n",
      "\n",
      "\n",
      "simpleNN.apply(simpleNN_params,example_X).shape=(1, 39)\n",
      "0.03, 0.03, 0.03, 0.03, 0.03, 0.03, 0.03, 0.03, 0.03, 0.03, 0.03, 0.03, 0.03, 0.03, 0.03, 0.03, 0.03, 0.03, 0.03, 0.03, 0.03, 0.03, 0.03, 0.03, 0.03, 0.03, 0.03, 0.03, 0.03, 0.03, 0.03, 0.03, 0.03, 0.03, 0.03, 0.03, 0.03, 0.03, 0.03\n",
      "predicted token:  [12] -> >>> d <<<\n",
      "   target token:  [[1]] confidence: 0.027\n"
     ]
    }
   ],
   "source": [
    "\n",
    "    \n",
    "class SimpleNN1(nn.Module):\n",
    "    # batch size is implied from data\n",
    "    context_size: int = 8    \n",
    "    embedd_features: int = 5\n",
    "    hidden_features_1: int = 16\n",
    "    hidden_features_2: int = 16\n",
    "    vocabulary_size: int = 39\n",
    "    \n",
    "\n",
    "    def setup(self):\n",
    "        # print(self.context_size, self.embedd_features, \"->\", self.context_size * self.embedd_features,)\n",
    "        pass\n",
    "    \n",
    "    @nn.compact\n",
    "    def __call__(self, x):\n",
    "        # first, embedd the input\n",
    "        y0 = nn.Embed(name='embedding',num_embeddings=self.vocabulary_size, features=self.embedd_features)(x)\n",
    "        # flatten the input vector, as there is no conceptual difference between the token's identity and token's feature here:        \n",
    "        h = y0.reshape([-1,self.context_size*self.embedd_features])\n",
    "        \n",
    "        h = nn.Dense(name='layer_1',features=self.hidden_features_1)(h)\n",
    "        h = nn.leaky_relu(h)        \n",
    "        h = nn.Dense(name='layer_2',features=self.hidden_features_2)(h)\n",
    "        h = nn.leaky_relu(h)        \n",
    "\n",
    "        \n",
    "        # final dense layer down to prediction logits. Note that there might be more logits than in the hidden state, that's OK.\n",
    "        h = nn.Dense(name='layer_final',features=self.vocabulary_size)(h)                \n",
    "        h = nn.leaky_relu(h)        \n",
    "        h = nn.activation.softmax(h)        \n",
    "        y = h\n",
    "        return y\n",
    "\n",
    "\n",
    "simpleNN = SimpleNN1(context_size=context_size, embedd_features=embedd_features, hidden_features_1=11, hidden_features_2=7)\n",
    "simpleNN_params = simpleNN.init(jax.random.PRNGKey(0), example_X)\n",
    "tabulate_fn = nn.tabulate(simpleNN, jax.random.PRNGKey(0), console_kwargs={'width':120, 'force_jupyter':True})\n",
    "print(tabulate_fn(example_X))\n",
    "print(f'{simpleNN.apply(simpleNN_params,example_X).shape=}')\n",
    "predicted_logits = simpleNN.apply(simpleNN_params,example_X)\n",
    "predicted_example_token = jnp.argmax(simpleNN.apply(simpleNN_params,example_X), axis=1)\n",
    "predicted_logits_str = \", \".join([f'{float(predicted_logits[1,x]):0.2f}' for x in range(predicted_logits.shape[1])])\n",
    "print(predicted_logits_str)\n",
    "print(f'predicted token: ', predicted_example_token, \"-> >>>\", text_decoder(predicted_example_token),\"<<<\")\n",
    "print(f'   target token: ', example_target_y, f\"confidence: {float(predicted_logits[0,predicted_example_token][0]):0.3f}\")\n"
   ]
  },
  {
   "cell_type": "code",
   "execution_count": null,
   "id": "f6ebd05f-14a6-4b77-b727-1e096b42460b",
   "metadata": {},
   "outputs": [],
   "source": [
    "def cross_entropy_loss(logits, labels):\n",
    "    \"\"\"Returns cross-entropy loss.\"\"\"\n",
    "    assert jnp.all(logits.shape==labels.shape)\n",
    "    return -jnp.mean(jnp.sum(logits * labels, axis=1))"
   ]
  },
  {
   "cell_type": "code",
   "execution_count": null,
   "id": "362faf2b-cd20-4644-b34b-1d5c9eee4769",
   "metadata": {},
   "outputs": [
    {
     "data": {
      "text/plain": [
       "Array(-1.5991138, dtype=float32)"
      ]
     },
     "execution_count": null,
     "metadata": {},
     "output_type": "execute_result"
    }
   ],
   "source": [
    "\n",
    "jnp.log10(-cross_entropy_loss(example_target_y_logits[0,:,:],predicted_logits))"
   ]
  },
  {
   "cell_type": "code",
   "execution_count": null,
   "id": "4026e1f6-dac0-42a0-a67f-2dc1e0358780",
   "metadata": {},
   "outputs": [
    {
     "data": {
      "text/plain": [
       "Array(-0.02565163, dtype=float32)"
      ]
     },
     "execution_count": null,
     "metadata": {},
     "output_type": "execute_result"
    }
   ],
   "source": [
    "cross_entropy_loss(predicted_logits,predicted_logits)"
   ]
  },
  {
   "cell_type": "code",
   "execution_count": null,
   "id": "1804fc1b-a83b-4338-b2d3-0cf8882774ff",
   "metadata": {},
   "outputs": [
    {
     "data": {
      "text/plain": [
       "(1, 39)"
      ]
     },
     "execution_count": null,
     "metadata": {},
     "output_type": "execute_result"
    }
   ],
   "source": [
    "predicted_logits.shape"
   ]
  },
  {
   "cell_type": "code",
   "execution_count": null,
   "id": "6abd79a4-22f0-437a-9d1c-155321462b4b",
   "metadata": {},
   "outputs": [
    {
     "data": {
      "text/plain": [
       "Array(-0.02565163, dtype=float32)"
      ]
     },
     "execution_count": null,
     "metadata": {},
     "output_type": "execute_result"
    }
   ],
   "source": [
    "cross_entropy_loss(predicted_logits,predicted_logits)"
   ]
  },
  {
   "cell_type": "code",
   "execution_count": null,
   "id": "3c5d7312-aa94-4b80-aa2b-8b98714d3542",
   "metadata": {},
   "outputs": [
    {
     "data": {
      "text/plain": [
       "(1, 39)"
      ]
     },
     "execution_count": null,
     "metadata": {},
     "output_type": "execute_result"
    }
   ],
   "source": [
    "predicted_logits.shape"
   ]
  },
  {
   "cell_type": "code",
   "execution_count": null,
   "id": "abb715b9-ab2c-4b88-8035-515e169ab78c",
   "metadata": {},
   "outputs": [
    {
     "data": {
      "text/plain": [
       "(1, 1, 39)"
      ]
     },
     "execution_count": null,
     "metadata": {},
     "output_type": "execute_result"
    }
   ],
   "source": [
    "example_target_y_logits.shape"
   ]
  },
  {
   "cell_type": "code",
   "execution_count": null,
   "id": "e335b553-23b8-4eae-9744-88bbaddc468b",
   "metadata": {},
   "outputs": [
    {
     "data": {
      "text/plain": [
       "0.026937540620565414"
      ]
     },
     "execution_count": null,
     "metadata": {},
     "output_type": "execute_result"
    }
   ],
   "source": [
    "float(predicted_logits[0,predicted_example_token][0])"
   ]
  },
  {
   "cell_type": "code",
   "execution_count": null,
   "id": "3f2a361a-39e7-4e5f-9993-f623f18518b5",
   "metadata": {},
   "outputs": [],
   "source": [
    "# I think I am ready to do a training step"
   ]
  },
  {
   "cell_type": "code",
   "execution_count": null,
   "id": "07263b01-8373-44d1-b3a4-b3938df3ad2e",
   "metadata": {},
   "outputs": [
    {
     "data": {
      "text/plain": [
       "40"
      ]
     },
     "execution_count": null,
     "metadata": {},
     "output_type": "execute_result"
    }
   ],
   "source": [
    "8*5"
   ]
  },
  {
   "cell_type": "code",
   "execution_count": null,
   "id": "dc323c7d-b9a2-4139-83c5-b513ca1c3a6a",
   "metadata": {},
   "outputs": [
    {
     "data": {
      "text/plain": [
       "163840"
      ]
     },
     "execution_count": null,
     "metadata": {},
     "output_type": "execute_result"
    }
   ],
   "source": [
    "numpy.prod((4096,8,5))"
   ]
  },
  {
   "cell_type": "code",
   "execution_count": null,
   "id": "b3289fb7-4510-4045-95de-b1f47613aa44",
   "metadata": {},
   "outputs": [
    {
     "data": {
      "text/plain": [
       "163840"
      ]
     },
     "execution_count": null,
     "metadata": {},
     "output_type": "execute_result"
    }
   ],
   "source": [
    "numpy.prod((2048,80))"
   ]
  },
  {
   "cell_type": "code",
   "execution_count": null,
   "id": "04180c6b-d719-4f91-b18f-42b470ea3b94",
   "metadata": {},
   "outputs": [
    {
     "name": "stdout",
     "output_type": "stream",
     "text": [
      "minibatches per epoch: 928537 with minibatch size of 131072\n"
     ]
    },
    {
     "data": {
      "text/html": [
       "<pre style=\"white-space:pre;overflow-x:auto;line-height:normal;font-family:Menlo,'DejaVu Sans Mono',consolas,'Courier New',monospace\"><span style=\"font-style: italic\">                                        SimpleNN1 Summary                                         </span>\n",
       "┏━━━━━━━━━━━━━┳━━━━━━━━━━━┳━━━━━━━━━━━━━━━━━━━━┳━━━━━━━━━━━━━━━━━━━━━━┳━━━━━━━━━━━━━━━━━━━━━━━━━━┓\n",
       "┃<span style=\"font-weight: bold\"> path        </span>┃<span style=\"font-weight: bold\"> module    </span>┃<span style=\"font-weight: bold\"> inputs             </span>┃<span style=\"font-weight: bold\"> outputs              </span>┃<span style=\"font-weight: bold\"> params                   </span>┃\n",
       "┡━━━━━━━━━━━━━╇━━━━━━━━━━━╇━━━━━━━━━━━━━━━━━━━━╇━━━━━━━━━━━━━━━━━━━━━━╇━━━━━━━━━━━━━━━━━━━━━━━━━━┩\n",
       "│             │ SimpleNN1 │ <span style=\"color: #7f7f7f; text-decoration-color: #7f7f7f\">int32</span>[131072,16]   │ <span style=\"color: #7f7f7f; text-decoration-color: #7f7f7f\">float32</span>[131072,39]   │                          │\n",
       "├─────────────┼───────────┼────────────────────┼──────────────────────┼──────────────────────────┤\n",
       "│ embedding   │ Embed     │ <span style=\"color: #7f7f7f; text-decoration-color: #7f7f7f\">int32</span>[131072,16]   │ <span style=\"color: #7f7f7f; text-decoration-color: #7f7f7f\">float32</span>[131072,16,5] │ embedding: <span style=\"color: #7f7f7f; text-decoration-color: #7f7f7f\">float32</span>[39,5] │\n",
       "│             │           │                    │                      │                          │\n",
       "│             │           │                    │                      │ <span style=\"font-weight: bold\">195 </span><span style=\"color: #7f7f7f; text-decoration-color: #7f7f7f; font-weight: bold\">(780 B)</span>              │\n",
       "├─────────────┼───────────┼────────────────────┼──────────────────────┼──────────────────────────┤\n",
       "│ layer_1     │ Dense     │ <span style=\"color: #7f7f7f; text-decoration-color: #7f7f7f\">float32</span>[131072,80] │ <span style=\"color: #7f7f7f; text-decoration-color: #7f7f7f\">float32</span>[131072,11]   │ bias: <span style=\"color: #7f7f7f; text-decoration-color: #7f7f7f\">float32</span>[11]        │\n",
       "│             │           │                    │                      │ kernel: <span style=\"color: #7f7f7f; text-decoration-color: #7f7f7f\">float32</span>[80,11]   │\n",
       "│             │           │                    │                      │                          │\n",
       "│             │           │                    │                      │ <span style=\"font-weight: bold\">891 </span><span style=\"color: #7f7f7f; text-decoration-color: #7f7f7f; font-weight: bold\">(3.6 KB)</span>             │\n",
       "├─────────────┼───────────┼────────────────────┼──────────────────────┼──────────────────────────┤\n",
       "│ layer_2     │ Dense     │ <span style=\"color: #7f7f7f; text-decoration-color: #7f7f7f\">float32</span>[131072,11] │ <span style=\"color: #7f7f7f; text-decoration-color: #7f7f7f\">float32</span>[131072,7]    │ bias: <span style=\"color: #7f7f7f; text-decoration-color: #7f7f7f\">float32</span>[7]         │\n",
       "│             │           │                    │                      │ kernel: <span style=\"color: #7f7f7f; text-decoration-color: #7f7f7f\">float32</span>[11,7]    │\n",
       "│             │           │                    │                      │                          │\n",
       "│             │           │                    │                      │ <span style=\"font-weight: bold\">84 </span><span style=\"color: #7f7f7f; text-decoration-color: #7f7f7f; font-weight: bold\">(336 B)</span>               │\n",
       "├─────────────┼───────────┼────────────────────┼──────────────────────┼──────────────────────────┤\n",
       "│ layer_final │ Dense     │ <span style=\"color: #7f7f7f; text-decoration-color: #7f7f7f\">float32</span>[131072,7]  │ <span style=\"color: #7f7f7f; text-decoration-color: #7f7f7f\">float32</span>[131072,39]   │ bias: <span style=\"color: #7f7f7f; text-decoration-color: #7f7f7f\">float32</span>[39]        │\n",
       "│             │           │                    │                      │ kernel: <span style=\"color: #7f7f7f; text-decoration-color: #7f7f7f\">float32</span>[7,39]    │\n",
       "│             │           │                    │                      │                          │\n",
       "│             │           │                    │                      │ <span style=\"font-weight: bold\">312 </span><span style=\"color: #7f7f7f; text-decoration-color: #7f7f7f; font-weight: bold\">(1.2 KB)</span>             │\n",
       "├─────────────┼───────────┼────────────────────┼──────────────────────┼──────────────────────────┤\n",
       "│<span style=\"font-weight: bold\">             </span>│<span style=\"font-weight: bold\">           </span>│<span style=\"font-weight: bold\">                    </span>│<span style=\"font-weight: bold\">                Total </span>│<span style=\"font-weight: bold\"> 1,482 </span><span style=\"color: #7f7f7f; text-decoration-color: #7f7f7f; font-weight: bold\">(5.9 KB)</span><span style=\"font-weight: bold\">           </span>│\n",
       "└─────────────┴───────────┴────────────────────┴──────────────────────┴──────────────────────────┘\n",
       "<span style=\"font-weight: bold\">                                                                                                  </span>\n",
       "<span style=\"font-weight: bold\">                                 Total Parameters: 1,482 </span><span style=\"color: #7f7f7f; text-decoration-color: #7f7f7f; font-weight: bold\">(5.9 KB)</span><span style=\"font-weight: bold\">                                 </span>\n",
       "</pre>\n"
      ],
      "text/plain": [
       "\u001b[3m                                        SimpleNN1 Summary                                         \u001b[0m\n",
       "┏━━━━━━━━━━━━━┳━━━━━━━━━━━┳━━━━━━━━━━━━━━━━━━━━┳━━━━━━━━━━━━━━━━━━━━━━┳━━━━━━━━━━━━━━━━━━━━━━━━━━┓\n",
       "┃\u001b[1m \u001b[0m\u001b[1mpath       \u001b[0m\u001b[1m \u001b[0m┃\u001b[1m \u001b[0m\u001b[1mmodule   \u001b[0m\u001b[1m \u001b[0m┃\u001b[1m \u001b[0m\u001b[1minputs            \u001b[0m\u001b[1m \u001b[0m┃\u001b[1m \u001b[0m\u001b[1moutputs             \u001b[0m\u001b[1m \u001b[0m┃\u001b[1m \u001b[0m\u001b[1mparams                  \u001b[0m\u001b[1m \u001b[0m┃\n",
       "┡━━━━━━━━━━━━━╇━━━━━━━━━━━╇━━━━━━━━━━━━━━━━━━━━╇━━━━━━━━━━━━━━━━━━━━━━╇━━━━━━━━━━━━━━━━━━━━━━━━━━┩\n",
       "│             │ SimpleNN1 │ \u001b[2mint32\u001b[0m[131072,16]   │ \u001b[2mfloat32\u001b[0m[131072,39]   │                          │\n",
       "├─────────────┼───────────┼────────────────────┼──────────────────────┼──────────────────────────┤\n",
       "│ embedding   │ Embed     │ \u001b[2mint32\u001b[0m[131072,16]   │ \u001b[2mfloat32\u001b[0m[131072,16,5] │ embedding: \u001b[2mfloat32\u001b[0m[39,5] │\n",
       "│             │           │                    │                      │                          │\n",
       "│             │           │                    │                      │ \u001b[1m195 \u001b[0m\u001b[1;2m(780 B)\u001b[0m              │\n",
       "├─────────────┼───────────┼────────────────────┼──────────────────────┼──────────────────────────┤\n",
       "│ layer_1     │ Dense     │ \u001b[2mfloat32\u001b[0m[131072,80] │ \u001b[2mfloat32\u001b[0m[131072,11]   │ bias: \u001b[2mfloat32\u001b[0m[11]        │\n",
       "│             │           │                    │                      │ kernel: \u001b[2mfloat32\u001b[0m[80,11]   │\n",
       "│             │           │                    │                      │                          │\n",
       "│             │           │                    │                      │ \u001b[1m891 \u001b[0m\u001b[1;2m(3.6 KB)\u001b[0m             │\n",
       "├─────────────┼───────────┼────────────────────┼──────────────────────┼──────────────────────────┤\n",
       "│ layer_2     │ Dense     │ \u001b[2mfloat32\u001b[0m[131072,11] │ \u001b[2mfloat32\u001b[0m[131072,7]    │ bias: \u001b[2mfloat32\u001b[0m[7]         │\n",
       "│             │           │                    │                      │ kernel: \u001b[2mfloat32\u001b[0m[11,7]    │\n",
       "│             │           │                    │                      │                          │\n",
       "│             │           │                    │                      │ \u001b[1m84 \u001b[0m\u001b[1;2m(336 B)\u001b[0m               │\n",
       "├─────────────┼───────────┼────────────────────┼──────────────────────┼──────────────────────────┤\n",
       "│ layer_final │ Dense     │ \u001b[2mfloat32\u001b[0m[131072,7]  │ \u001b[2mfloat32\u001b[0m[131072,39]   │ bias: \u001b[2mfloat32\u001b[0m[39]        │\n",
       "│             │           │                    │                      │ kernel: \u001b[2mfloat32\u001b[0m[7,39]    │\n",
       "│             │           │                    │                      │                          │\n",
       "│             │           │                    │                      │ \u001b[1m312 \u001b[0m\u001b[1;2m(1.2 KB)\u001b[0m             │\n",
       "├─────────────┼───────────┼────────────────────┼──────────────────────┼──────────────────────────┤\n",
       "│\u001b[1m \u001b[0m\u001b[1m           \u001b[0m\u001b[1m \u001b[0m│\u001b[1m \u001b[0m\u001b[1m         \u001b[0m\u001b[1m \u001b[0m│\u001b[1m \u001b[0m\u001b[1m                  \u001b[0m\u001b[1m \u001b[0m│\u001b[1m \u001b[0m\u001b[1m               Total\u001b[0m\u001b[1m \u001b[0m│\u001b[1m \u001b[0m\u001b[1m1,482 \u001b[0m\u001b[1;2m(5.9 KB)\u001b[0m\u001b[1m          \u001b[0m\u001b[1m \u001b[0m│\n",
       "└─────────────┴───────────┴────────────────────┴──────────────────────┴──────────────────────────┘\n",
       "\u001b[1m                                                                                                  \u001b[0m\n",
       "\u001b[1m                                 Total Parameters: 1,482 \u001b[0m\u001b[1;2m(5.9 KB)\u001b[0m\u001b[1m                                 \u001b[0m\n"
      ]
     },
     "metadata": {},
     "output_type": "display_data"
    },
    {
     "name": "stdout",
     "output_type": "stream",
     "text": [
      "\n",
      "\n",
      "\n"
     ]
    }
   ],
   "source": [
    "train_minibatch_size = 32*4096\n",
    "batches_per_epoch = len(X_train) - train_minibatch_size\n",
    "print(f'minibatches per epoch: {batches_per_epoch} with minibatch size of {train_minibatch_size}')\n",
    "starter_X_minibatch = jnp.array(X_train[0:train_minibatch_size])\n",
    "starter_y_minibatch = jnp.array(X_train[0:train_minibatch_size])\n",
    "\n",
    "simpleNN_minibatched = SimpleNN1(context_size=context_size, embedd_features=embedd_features, hidden_features_1=11, hidden_features_2=7)\n",
    "simpleNN_minibatched_params = simpleNN.init(jax.random.PRNGKey(0), starter_X_minibatch)\n",
    "tabulate_fn = nn.tabulate(simpleNN_minibatched, jax.random.PRNGKey(0), console_kwargs={'width':120, 'force_jupyter':True})\n",
    "print(tabulate_fn(starter_X_minibatch))"
   ]
  },
  {
   "cell_type": "code",
   "execution_count": null,
   "id": "7b924d48-b3c5-4d60-8ba4-f1805d478e97",
   "metadata": {},
   "outputs": [],
   "source": [
    "def prep_minibatch(minibatch_idx=0):\n",
    "    minibatch_ptr = minibatch_idx\n",
    "    X_minibatch = jnp.array(X_train[minibatch_ptr:minibatch_ptr+train_minibatch_size])\n",
    "    y_minibatch = jnp.array(y_train[minibatch_ptr:minibatch_ptr+train_minibatch_size])\n",
    "    y_minibatch_target_logits = nn.activation.one_hot(y_minibatch,vocabulary_size)\n",
    "    return X_minibatch, y_minibatch_target_logits"
   ]
  },
  {
   "cell_type": "code",
   "execution_count": null,
   "id": "0dbda379-8266-4cbc-9a76-57509cf515e9",
   "metadata": {},
   "outputs": [],
   "source": [
    "model_starter_params = simpleNN_minibatched_params\n",
    "model_moving_params = model_starter_params.copy()"
   ]
  },
  {
   "cell_type": "code",
   "execution_count": null,
   "id": "37c41877-4c6f-4abb-9f72-91a4a776e697",
   "metadata": {},
   "outputs": [],
   "source": [
    "optimizer = optax.adabelief(learning_rate=learning_rate)\n",
    "optimizer_state = optimizer.init(model_moving_params)"
   ]
  },
  {
   "cell_type": "code",
   "execution_count": null,
   "id": "67e1adb5-0297-4b83-bd19-ce0f1068035a",
   "metadata": {},
   "outputs": [],
   "source": [
    "step_count=0\n",
    "minibatch_idx = 0"
   ]
  },
  {
   "cell_type": "code",
   "execution_count": null,
   "id": "795001ad-a1b3-4774-97b7-a81af19ee14b",
   "metadata": {},
   "outputs": [
    {
     "data": {
      "text/plain": [
       "0"
      ]
     },
     "execution_count": null,
     "metadata": {},
     "output_type": "execute_result"
    }
   ],
   "source": [
    "minibatch_idx"
   ]
  },
  {
   "cell_type": "code",
   "execution_count": null,
   "id": "e09127d8-5358-41a7-a2ee-70ce5a1fab64",
   "metadata": {},
   "outputs": [
    {
     "name": "stdout",
     "output_type": "stream",
     "text": [
      "training loss mag: -1.596\n",
      "training loss mag: -1.634\n",
      "training loss mag: -1.700\n",
      "training loss mag: -1.828\n",
      "training loss mag: -2.085\n",
      "training loss mag: -2.649\n",
      "training loss mag: -3.762\n",
      "training loss mag: -5.082\n",
      "training loss mag: -6.198\n",
      "training loss mag: -7.206\n",
      "training loss mag: -8.203\n",
      "training loss mag: -9.193\n",
      "training loss mag: -10.166\n",
      "training loss mag: -11.115\n",
      "training loss mag: -12.034\n",
      "training loss mag: -12.920\n",
      "training loss mag: -13.770\n",
      "training loss mag: -14.581\n",
      "training loss mag: -15.353\n",
      "training loss mag: -16.085\n"
     ]
    }
   ],
   "source": [
    "# step\n",
    "for step_idx in range(20):\n",
    "    step_count+=1\n",
    "    minibatch_idx = step_count % batches_per_epoch\n",
    "    minibatch_X, minibatch_y =prep_minibatch(minibatch_idx=minibatch_idx)\n",
    "    loss_fn = lambda model_params : -cross_entropy_loss(minibatch_y, simpleNN_minibatched.apply(model_params,minibatch_X))\n",
    "    loss_value, gradients = jax.value_and_grad(loss_fn)(model_moving_params)\n",
    "    model_param_updates, optimizer_state = optimizer.update(gradients, optimizer_state, params=model_moving_params)\n",
    "    step_count+=1\n",
    "    model_moving_params = optax.apply_updates(model_moving_params, model_param_updates)\n",
    "    print(f'training loss mag: {numpy.log10(loss_value):0.3f}')"
   ]
  },
  {
   "cell_type": "code",
   "execution_count": null,
   "id": "233e6ebe-f725-44a7-8822-a68179b30012",
   "metadata": {},
   "outputs": [
    {
     "data": {
      "text/plain": [
       "Array([ 8,  2,  6,  1,  8, 17,  0,  6,  1,  4,  8,  0, 14,  1,  0,  7],      dtype=int32)"
      ]
     },
     "execution_count": null,
     "metadata": {},
     "output_type": "execute_result"
    }
   ],
   "source": [
    "minibatch_X[0,:]"
   ]
  },
  {
   "cell_type": "code",
   "execution_count": null,
   "id": "e8994189-0f67-4796-b714-8bbd3e29d0f1",
   "metadata": {},
   "outputs": [
    {
     "name": "stdout",
     "output_type": "stream",
     "text": [
      "first citizen:\n",
      "b|||||\n",
      "first citizen:\n",
      "b$$$$$$$$$$$$$$$$$$$$$$$$$$$$$$$$$$$$$$$$$$$$$$$$$$\n"
     ]
    }
   ],
   "source": [
    "starter_prompt = jnp.array(X_train[0])\n",
    "\n",
    "def predict_text(model_params, prompt_encoded, new_characters=50):\n",
    "    prediction_decoded = text_decoder(prompt_encoded)\n",
    "    print(f'{prediction_decoded}|||||')\n",
    "    running_prompt = prompt_encoded.copy()\n",
    "    # print(running_prompt)\n",
    "    for char_idx in range(new_characters):\n",
    "        predicted_logits = simpleNN_minibatched.apply(model_params, running_prompt)\n",
    "        predicted_token = jnp.argmax(predicted_logits).reshape((1,1))\n",
    "        predicted_char = text_decoder(predicted_token)\n",
    "        prediction_decoded = f'{prediction_decoded}{predicted_char}'\n",
    "        running_prompt = jnp.hstack([running_prompt[1:],predicted_token[:,0]])\n",
    "        # print(running_prompt)\n",
    "    print(prediction_decoded)    \n",
    "predict_text(model_moving_params, starter_prompt)\n"
   ]
  },
  {
   "cell_type": "code",
   "execution_count": null,
   "id": "bebcf243-bd6e-40a1-b3d6-aefea87cc9b9",
   "metadata": {},
   "outputs": [
    {
     "ename": "RuntimeError",
     "evalue": "No active exception to reraise",
     "output_type": "error",
     "traceback": [
      "\u001b[0;31m---------------------------------------------------------------------------\u001b[0m",
      "\u001b[0;31mRuntimeError\u001b[0m                              Traceback (most recent call last)",
      "Cell \u001b[0;32mIn[36], line 1\u001b[0m\n\u001b[0;32m----> 1\u001b[0m \u001b[38;5;28;01mraise\u001b[39;00m\n",
      "\u001b[0;31mRuntimeError\u001b[0m: No active exception to reraise"
     ]
    }
   ],
   "source": [
    "raise"
   ]
  },
  {
   "cell_type": "code",
   "execution_count": null,
   "id": "a801b898-89f2-4b1b-8cdb-e5c203f11f5b",
   "metadata": {},
   "outputs": [],
   "source": [
    "!git add .\n",
    "!git commit -m 'savegame. Got loss value and model weight gradients'\n"
   ]
  }
 ],
 "metadata": {
  "kernelspec": {
   "display_name": "Python 3 (ipykernel)",
   "language": "python",
   "name": "python3"
  }
 },
 "nbformat": 4,
 "nbformat_minor": 5
}
