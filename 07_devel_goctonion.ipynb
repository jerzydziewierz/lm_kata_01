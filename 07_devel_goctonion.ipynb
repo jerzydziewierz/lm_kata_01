{
 "cells": [
  {
   "cell_type": "markdown",
   "source": [
    "# Motivation\n",
    "\n",
    "`pyoctinion` and `pyquaternion` do not work with jax.\n",
    "\n",
    "I need octinions and quaternions for my research.\n",
    "\n"
   ],
   "metadata": {
    "collapsed": false
   },
   "id": "93a3acffb67bf1ef"
  },
  {
   "cell_type": "code",
   "outputs": [],
   "source": [
    "import jax.numpy as jnp\n",
    "import jax"
   ],
   "metadata": {
    "collapsed": false,
    "ExecuteTime": {
     "end_time": "2024-01-29T00:05:50.421603862Z",
     "start_time": "2024-01-29T00:05:50.184960588Z"
    }
   },
   "id": "57e4d9507a775816",
   "execution_count": 1
  },
  {
   "cell_type": "code",
   "outputs": [],
   "source": [
    "import octo"
   ],
   "metadata": {
    "collapsed": false,
    "ExecuteTime": {
     "end_time": "2024-01-29T00:05:50.677714995Z",
     "start_time": "2024-01-29T00:05:50.422065897Z"
    }
   },
   "id": "73c59b09b5b43236",
   "execution_count": 2
  },
  {
   "cell_type": "code",
   "outputs": [
    {
     "data": {
      "text/plain": "Octonions, shape=(1, 8), first one is (0.0, 0.0i, 1.0j, 0.0k, 0.0l, 0.0li, 0.0lj, 0.0lk)"
     },
     "execution_count": 3,
     "metadata": {},
     "output_type": "execute_result"
    }
   ],
   "source": [
    "octo.j"
   ],
   "metadata": {
    "collapsed": false,
    "ExecuteTime": {
     "end_time": "2024-01-29T00:05:50.732072112Z",
     "start_time": "2024-01-29T00:05:50.683124448Z"
    }
   },
   "id": "151750bbb8becc63",
   "execution_count": 3
  },
  {
   "cell_type": "code",
   "outputs": [
    {
     "data": {
      "text/plain": "Array([[0., 0., 0., 1., 0., 0., 0., 0.]], dtype=float32)"
     },
     "execution_count": 4,
     "metadata": {},
     "output_type": "execute_result"
    }
   ],
   "source": [
    "raw_k = octo.k.to_jnp()\n",
    "raw_k\n"
   ],
   "metadata": {
    "collapsed": false,
    "ExecuteTime": {
     "end_time": "2024-01-29T00:05:50.735538546Z",
     "start_time": "2024-01-29T00:05:50.733113432Z"
    }
   },
   "id": "7b0ada22c499556e",
   "execution_count": 4
  },
  {
   "cell_type": "code",
   "outputs": [],
   "source": [
    "jnp.ndarray?"
   ],
   "metadata": {
    "collapsed": false,
    "ExecuteTime": {
     "end_time": "2024-01-29T00:05:50.793113664Z",
     "start_time": "2024-01-29T00:05:50.735977620Z"
    }
   },
   "id": "87934cda8a03cf6",
   "execution_count": 5
  },
  {
   "cell_type": "code",
   "outputs": [
    {
     "data": {
      "text/plain": "Array([[0., 0., 0., 0., 1., 0., 0., 0.]], dtype=float32)"
     },
     "execution_count": 6,
     "metadata": {},
     "output_type": "execute_result"
    }
   ],
   "source": [
    "octo.raw_mul(octo.raw_unit,octo.raw_l)\n"
   ],
   "metadata": {
    "collapsed": false,
    "ExecuteTime": {
     "end_time": "2024-01-29T00:05:50.922126405Z",
     "start_time": "2024-01-29T00:05:50.812983487Z"
    }
   },
   "id": "381841e052233134",
   "execution_count": 6
  },
  {
   "cell_type": "code",
   "outputs": [
    {
     "data": {
      "text/plain": "Octonions, shape=(1, 8), first one is (0.0, 0.0i, 0.0j, 0.0k, 1.0l, 0.0li, 0.0lj, 0.0lk)"
     },
     "execution_count": 7,
     "metadata": {},
     "output_type": "execute_result"
    }
   ],
   "source": [
    "octo.octo_mul(octo.unit,octo.l)\n"
   ],
   "metadata": {
    "collapsed": false,
    "ExecuteTime": {
     "end_time": "2024-01-29T00:05:50.966568046Z",
     "start_time": "2024-01-29T00:05:50.908865627Z"
    }
   },
   "id": "53a09243cbb3bdeb",
   "execution_count": 7
  },
  {
   "cell_type": "code",
   "outputs": [
    {
     "data": {
      "text/plain": "Octonions, shape=(1, 8), first one is (0.0, 0.0i, 0.0j, 0.0k, 0.0l, 0.0li, 0.0lj, 1.0lk)"
     },
     "execution_count": 8,
     "metadata": {},
     "output_type": "execute_result"
    }
   ],
   "source": [
    "octo.i*octo.k\n"
   ],
   "metadata": {
    "collapsed": false,
    "ExecuteTime": {
     "end_time": "2024-01-29T00:05:50.995872830Z",
     "start_time": "2024-01-29T00:05:50.947256379Z"
    }
   },
   "id": "a9079b83a7d98f6e",
   "execution_count": 8
  },
  {
   "cell_type": "code",
   "outputs": [
    {
     "data": {
      "text/plain": "Array([[[[ 0., -1.,  0.,  0.,  0.,  0.,  0.,  0.]],\n\n        [[ 1.,  0.,  0.,  0.,  0.,  0.,  0.,  0.]],\n\n        [[ 0.,  0.,  0.,  0., -1.,  0.,  0.,  0.]],\n\n        [[ 0.,  0.,  0.,  0.,  0.,  0.,  0., -1.]],\n\n        [[ 0.,  0.,  1.,  0.,  0.,  0.,  0.,  0.]],\n\n        [[ 0.,  0.,  0.,  0.,  0.,  0., -1.,  0.]],\n\n        [[ 0.,  0.,  0.,  0.,  0.,  1.,  0.,  0.]],\n\n        [[ 0.,  0.,  0.,  1.,  0.,  0.,  0.,  0.]]]], dtype=float32)"
     },
     "execution_count": 9,
     "metadata": {},
     "output_type": "execute_result"
    }
   ],
   "source": [
    "dz = jax.jacobian(fun=octo.raw_mul,argnums=1)\n",
    "dbda = dz(octo.raw_i,octo.raw_unit)\n",
    "dbda"
   ],
   "metadata": {
    "collapsed": false,
    "ExecuteTime": {
     "end_time": "2024-01-29T00:05:51.652618190Z",
     "start_time": "2024-01-29T00:05:50.972846787Z"
    }
   },
   "id": "a316dde7b54f28fd",
   "execution_count": 9
  },
  {
   "cell_type": "code",
   "outputs": [
    {
     "data": {
      "text/plain": "Octonions, shape=(1, 8), first one is (0.0, 0.0i, 0.0j, 1.0k, 0.0l, 0.0li, 0.0lj, 0.0lk)"
     },
     "execution_count": 13,
     "metadata": {},
     "output_type": "execute_result"
    }
   ],
   "source": [
    "octo.unit * octo.k"
   ],
   "metadata": {
    "collapsed": false,
    "ExecuteTime": {
     "end_time": "2024-01-29T00:06:01.496403822Z",
     "start_time": "2024-01-29T00:06:01.483605337Z"
    }
   },
   "id": "8d266241d604b932",
   "execution_count": 13
  },
  {
   "cell_type": "markdown",
   "source": [
    "as per:\n",
    "\n",
    "https://www.euclideanspace.com/maths/algebra/realNormedAlgebra/octonion/index.htm\n",
    "\n"
   ],
   "metadata": {
    "collapsed": false
   },
   "id": "52c4a73bf29b7655"
  },
  {
   "cell_type": "markdown",
   "source": [],
   "metadata": {
    "collapsed": false
   },
   "id": "7378c3f64a4fed3f"
  },
  {
   "cell_type": "code",
   "outputs": [
    {
     "data": {
      "text/plain": "Octonions, shape=(1, 8), first one is (1.0, 1.0i, 0.0j, 0.0k, 0.0l, 0.0li, 0.0lj, 0.0lk)"
     },
     "execution_count": 16,
     "metadata": {},
     "output_type": "execute_result"
    }
   ],
   "source": [
    "a1 = octo.Octonion(jnp.array([1,0,0,0,0,0,0,0]))\n",
    "a2 = octo.Octonion(jnp.array([0,1,0,0,0,0,0,0]))\n",
    "a2\n",
    "a1+a2"
   ],
   "metadata": {
    "collapsed": false,
    "ExecuteTime": {
     "end_time": "2024-01-29T00:06:39.598680453Z",
     "start_time": "2024-01-29T00:06:39.469619089Z"
    }
   },
   "id": "c96fb438d1b79c7d",
   "execution_count": 16
  },
  {
   "cell_type": "code",
   "outputs": [],
   "source": [
    "\n"
   ],
   "metadata": {
    "collapsed": false,
    "ExecuteTime": {
     "start_time": "2024-01-29T00:05:51.807610463Z"
    }
   },
   "id": "88c6229e8db008fe",
   "execution_count": null
  },
  {
   "cell_type": "code",
   "outputs": [],
   "source": [
    "a1*a1"
   ],
   "metadata": {
    "collapsed": false,
    "ExecuteTime": {
     "start_time": "2024-01-29T00:05:51.807640793Z"
    }
   },
   "id": "dd62a52843757984",
   "execution_count": null
  },
  {
   "cell_type": "code",
   "outputs": [],
   "source": [
    "128*127*(7/8)"
   ],
   "metadata": {
    "collapsed": false,
    "ExecuteTime": {
     "start_time": "2024-01-29T00:05:51.807665863Z"
    }
   },
   "id": "364fcea50d7a81a5",
   "execution_count": null
  },
  {
   "cell_type": "code",
   "outputs": [],
   "source": [
    "jnp.linalg.norm"
   ],
   "metadata": {
    "collapsed": false,
    "ExecuteTime": {
     "start_time": "2024-01-29T00:05:51.807689104Z"
    }
   },
   "id": "d255a2812859890b",
   "execution_count": null
  },
  {
   "cell_type": "code",
   "outputs": [],
   "source": [
    "a8.norm"
   ],
   "metadata": {
    "collapsed": false,
    "ExecuteTime": {
     "start_time": "2024-01-29T00:05:51.807728434Z"
    }
   },
   "id": "94363b8c49ef5681",
   "execution_count": null
  },
  {
   "cell_type": "code",
   "outputs": [],
   "source": [
    "import jax.nn\n",
    "jax.nn.leaky_relu?"
   ],
   "metadata": {
    "collapsed": false,
    "ExecuteTime": {
     "start_time": "2024-01-29T00:05:51.807758594Z"
    }
   },
   "id": "9f2a19cb5f2d974e",
   "execution_count": null
  },
  {
   "cell_type": "code",
   "outputs": [
    {
     "data": {
      "text/plain": "[<matplotlib.lines.Line2D at 0x7efcd0440e10>]"
     },
     "execution_count": 17,
     "metadata": {},
     "output_type": "execute_result"
    },
    {
     "data": {
      "text/plain": "<Figure size 640x480 with 1 Axes>",
      "image/png": "[encoded data removed]"
     },
     "metadata": {},
     "output_type": "display_data"
    }
   ],
   "source": [
    "x = jnp.linspace(-5,5,200)\n",
    "fn = jax.nn.selu\n",
    "dfn = jax.grad(fn)\n",
    "y = jnp.array([fn(e) for e in x])\n",
    "dy = jnp.array([dfn(e) for e in x])\n",
    "import matplotlib.pyplot as plt\n",
    "plt.plot(x,y)\n",
    "plt.plot(x,dy)"
   ],
   "metadata": {
    "collapsed": false,
    "ExecuteTime": {
     "end_time": "2024-01-29T00:23:30.955673356Z",
     "start_time": "2024-01-29T00:23:29.749258065Z"
    }
   },
   "id": "dc95d781eafb2ea0",
   "execution_count": 17
  },
  {
   "cell_type": "code",
   "outputs": [],
   "source": [
    "jax.nn.selu?"
   ],
   "metadata": {
    "collapsed": false,
    "ExecuteTime": {
     "end_time": "2024-01-29T00:24:08.522143625Z",
     "start_time": "2024-01-29T00:24:08.509739082Z"
    }
   },
   "id": "61915e61446fad69",
   "execution_count": 21
  },
  {
   "cell_type": "code",
   "outputs": [
    {
     "data": {
      "text/plain": "Array([[ 1.050701 , -1.7258987,  0.       ,  0.       ,  0.       ,\n         0.       ,  0.       ,  0.       ]], dtype=float32)"
     },
     "execution_count": 29,
     "metadata": {},
     "output_type": "execute_result"
    }
   ],
   "source": [
    "jax.nn.selu(octo.raw_unit-4*octo.raw_i)"
   ],
   "metadata": {
    "collapsed": false,
    "ExecuteTime": {
     "end_time": "2024-01-29T00:25:04.254339227Z",
     "start_time": "2024-01-29T00:25:04.243456621Z"
    }
   },
   "id": "6fb86ad91321d56d",
   "execution_count": 29
  },
  {
   "cell_type": "code",
   "outputs": [
    {
     "data": {
      "text/plain": "Array([[0.      , 0.      , 0.      , 0.      , 1.050701, 0.      ,\n        0.      , 0.      ]], dtype=float32)"
     },
     "execution_count": 104,
     "metadata": {},
     "output_type": "execute_result"
    }
   ],
   "source": [
    "# FRONTIER: THis doesn't quite work yet, -- the next issue is how to get scaling operation (octo+float) through the jax tracer\n",
    "def FFNglu(x,A,b,C,d):\n",
    "    \"\"\"\n",
    "    \n",
    "    :param x: the value vector to process \n",
    "    :param A: \n",
    "    :param b: \n",
    "    :param C: \n",
    "    :param d: \n",
    "    :return: \n",
    "    \"\"\"\n",
    "    #y = jax.nn.selu(((octo.Octonion(x)*octo.Octonion(A))+b).to_jnp())*(octo.Octonion(x)*octo.Octonion(C)+d)\n",
    "    y = (octo.Octonion(jax.nn.selu(((octo.Octonion(x)*octo.Octonion(A))+b).to_jnp()))*(octo.Octonion(x)*octo.Octonion(C)+d)).to_jnp()\n",
    "    return y\n",
    "\n",
    "FFNglu(octo.raw_unit, octo.raw_i, 0.0, octo.raw_j, 0.0)\n"
   ],
   "metadata": {
    "collapsed": false,
    "ExecuteTime": {
     "end_time": "2024-01-29T00:39:06.975707103Z",
     "start_time": "2024-01-29T00:39:06.940956630Z"
    }
   },
   "id": "d185018003dcea4a",
   "execution_count": 104
  },
  {
   "cell_type": "code",
   "outputs": [
    {
     "ename": "ValueError",
     "evalue": "type(other)=<class 'jax._src.interpreters.ad.JVPTracer'>",
     "output_type": "error",
     "traceback": [
      "\u001B[0;31m---------------------------------------------------------------------------\u001B[0m",
      "\u001B[0;31mValueError\u001B[0m                                Traceback (most recent call last)",
      "Cell \u001B[0;32mIn[106], line 1\u001B[0m\n\u001B[0;32m----> 1\u001B[0m \u001B[43mjax\u001B[49m\u001B[38;5;241;43m.\u001B[39;49m\u001B[43mgrad\u001B[49m\u001B[43m(\u001B[49m\u001B[43mFFNglu\u001B[49m\u001B[43m,\u001B[49m\u001B[43margnums\u001B[49m\u001B[38;5;241;43m=\u001B[39;49m\u001B[38;5;241;43m2\u001B[39;49m\u001B[43m)\u001B[49m\u001B[43m(\u001B[49m\u001B[43mocto\u001B[49m\u001B[38;5;241;43m.\u001B[39;49m\u001B[43mraw_unit\u001B[49m\u001B[43m,\u001B[49m\u001B[43m \u001B[49m\u001B[43mocto\u001B[49m\u001B[38;5;241;43m.\u001B[39;49m\u001B[43mraw_i\u001B[49m\u001B[43m,\u001B[49m\u001B[43m \u001B[49m\u001B[38;5;241;43m0.0\u001B[39;49m\u001B[43m,\u001B[49m\u001B[43m \u001B[49m\u001B[43mocto\u001B[49m\u001B[38;5;241;43m.\u001B[39;49m\u001B[43mraw_j\u001B[49m\u001B[43m,\u001B[49m\u001B[43m \u001B[49m\u001B[38;5;241;43m0.0\u001B[39;49m\u001B[43m)\u001B[49m\n",
      "    \u001B[0;31m[... skipping hidden 10 frame]\u001B[0m\n",
      "Cell \u001B[0;32mIn[104], line 12\u001B[0m, in \u001B[0;36mFFNglu\u001B[0;34m(x, A, b, C, d)\u001B[0m\n\u001B[1;32m      2\u001B[0m \u001B[38;5;250m\u001B[39m\u001B[38;5;124;03m\"\"\"\u001B[39;00m\n\u001B[1;32m      3\u001B[0m \u001B[38;5;124;03m\u001B[39;00m\n\u001B[1;32m      4\u001B[0m \u001B[38;5;124;03m:param x: the value vector to process \u001B[39;00m\n\u001B[0;32m   (...)\u001B[0m\n\u001B[1;32m      9\u001B[0m \u001B[38;5;124;03m:return: \u001B[39;00m\n\u001B[1;32m     10\u001B[0m \u001B[38;5;124;03m\"\"\"\u001B[39;00m\n\u001B[1;32m     11\u001B[0m \u001B[38;5;66;03m#y = jax.nn.selu(((octo.Octonion(x)*octo.Octonion(A))+b).to_jnp())*(octo.Octonion(x)*octo.Octonion(C)+d)\u001B[39;00m\n\u001B[0;32m---> 12\u001B[0m y \u001B[38;5;241m=\u001B[39m (octo\u001B[38;5;241m.\u001B[39mOctonion(jax\u001B[38;5;241m.\u001B[39mnn\u001B[38;5;241m.\u001B[39mselu((\u001B[43m(\u001B[49m\u001B[43mocto\u001B[49m\u001B[38;5;241;43m.\u001B[39;49m\u001B[43mOctonion\u001B[49m\u001B[43m(\u001B[49m\u001B[43mx\u001B[49m\u001B[43m)\u001B[49m\u001B[38;5;241;43m*\u001B[39;49m\u001B[43mocto\u001B[49m\u001B[38;5;241;43m.\u001B[39;49m\u001B[43mOctonion\u001B[49m\u001B[43m(\u001B[49m\u001B[43mA\u001B[49m\u001B[43m)\u001B[49m\u001B[43m)\u001B[49m\u001B[38;5;241;43m+\u001B[39;49m\u001B[43mb\u001B[49m)\u001B[38;5;241m.\u001B[39mto_jnp()))\u001B[38;5;241m*\u001B[39m(octo\u001B[38;5;241m.\u001B[39mOctonion(x)\u001B[38;5;241m*\u001B[39mocto\u001B[38;5;241m.\u001B[39mOctonion(C)\u001B[38;5;241m+\u001B[39md))\u001B[38;5;241m.\u001B[39mto_jnp()\n\u001B[1;32m     13\u001B[0m \u001B[38;5;28;01mreturn\u001B[39;00m y\n",
      "File \u001B[0;32m~/git/sapient/KataBasicFlax/octo.py:87\u001B[0m, in \u001B[0;36mOctonion.__add__\u001B[0;34m(self, other)\u001B[0m\n\u001B[1;32m     84\u001B[0m     \u001B[38;5;28;01melse\u001B[39;00m:\n\u001B[1;32m     85\u001B[0m         \u001B[38;5;28;01mif\u001B[39;00m \u001B[38;5;28misinstance\u001B[39m(other, \u001B[38;5;28mfloat\u001B[39m):\n\u001B[1;32m     86\u001B[0m             \u001B[38;5;66;03m# my bet is that this will be sufficient to produce \"bias\", in the sense that, there is no need to have an octonion bias; the octonian can alaways get rotated and scaled in the first phase of swiglu so that the bias gets applied as needed.\u001B[39;00m\n\u001B[0;32m---> 87\u001B[0m             \u001B[38;5;28;01mreturn\u001B[39;00m Octonion(\u001B[38;5;28mself\u001B[39m\u001B[38;5;241m.\u001B[39mx \u001B[38;5;241m+\u001B[39m jnp\u001B[38;5;241m.\u001B[39mbroadcast_to(jnp\u001B[38;5;241m.\u001B[39marray(other), \u001B[38;5;28mself\u001B[39m\u001B[38;5;241m.\u001B[39mx\u001B[38;5;241m.\u001B[39mshape))\n\u001B[1;32m     88\u001B[0m \u001B[38;5;28;01mraise\u001B[39;00m \u001B[38;5;167;01mValueError\u001B[39;00m(\u001B[38;5;124mf\u001B[39m\u001B[38;5;124m'\u001B[39m\u001B[38;5;124mtype(other)=\u001B[39m\u001B[38;5;132;01m{\u001B[39;00m\u001B[38;5;28mtype\u001B[39m(other)\u001B[38;5;132;01m}\u001B[39;00m\u001B[38;5;124m'\u001B[39m)\n",
      "\u001B[0;31mValueError\u001B[0m: type(other)=<class 'jax._src.interpreters.ad.JVPTracer'>"
     ]
    }
   ],
   "source": [
    "jax.grad(FFNglu,argnums=2)(octo.raw_unit, octo.raw_i, 0.0, octo.raw_j, 0.0)"
   ],
   "metadata": {
    "collapsed": false,
    "ExecuteTime": {
     "end_time": "2024-01-29T00:39:41.373310411Z",
     "start_time": "2024-01-29T00:39:41.246212040Z"
    }
   },
   "id": "7ed04ae1e6d9cade",
   "execution_count": 106
  },
  {
   "cell_type": "code",
   "outputs": [],
   "source": [
    "jax._src.interpreters.ad.JVPTracer?"
   ],
   "metadata": {
    "collapsed": false,
    "ExecuteTime": {
     "end_time": "2024-01-29T00:41:00.489840827Z",
     "start_time": "2024-01-29T00:41:00.446437544Z"
    }
   },
   "id": "8387f88c7db19a5d",
   "execution_count": 107
  },
  {
   "cell_type": "code",
   "outputs": [
    {
     "data": {
      "text/plain": "Array([[0., 0., 0., 1., 0., 0., 0., 0.]], dtype=float32)"
     },
     "execution_count": 79,
     "metadata": {},
     "output_type": "execute_result"
    }
   ],
   "source": [
    "octo.raw_"
   ],
   "metadata": {
    "collapsed": false,
    "ExecuteTime": {
     "end_time": "2024-01-29T00:34:42.479900375Z",
     "start_time": "2024-01-29T00:34:42.468798845Z"
    }
   },
   "id": "3c98bb7f426ac35d",
   "execution_count": 79
  },
  {
   "cell_type": "code",
   "outputs": [
    {
     "data": {
      "text/plain": "Array([[0., 0., 1., 0., 0., 0., 0., 0.]], dtype=float32)"
     },
     "execution_count": 56,
     "metadata": {},
     "output_type": "execute_result"
    }
   ],
   "source": [
    "octo.raw_j"
   ],
   "metadata": {
    "collapsed": false,
    "ExecuteTime": {
     "end_time": "2024-01-29T00:33:04.907743958Z",
     "start_time": "2024-01-29T00:33:04.890300127Z"
    }
   },
   "id": "6a8ccc7cc8289b68",
   "execution_count": 56
  }
 ],
 "metadata": {
  "kernelspec": {
   "display_name": "Python 3",
   "language": "python",
   "name": "python3"
  },
  "language_info": {
   "codemirror_mode": {
    "name": "ipython",
    "version": 2
   },
   "file_extension": ".py",
   "mimetype": "text/x-python",
   "name": "python",
   "nbconvert_exporter": "python",
   "pygments_lexer": "ipython2",
   "version": "2.7.6"
  }
 },
 "nbformat": 4,
 "nbformat_minor": 5
}
