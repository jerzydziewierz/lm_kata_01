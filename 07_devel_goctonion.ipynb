{
 "cells": [
  {
   "cell_type": "markdown",
   "source": [
    "# Motivation\n",
    "\n",
    "`pyoctinion` and `pyquaternion` do not work with jax.\n",
    "\n",
    "I need octinions and quaternions for my research.\n",
    "\n"
   ],
   "metadata": {
    "collapsed": false
   },
   "id": "93a3acffb67bf1ef"
  },
  {
   "cell_type": "code",
   "outputs": [],
   "source": [
    "import jax.numpy as jnp\n",
    "import jax"
   ],
   "metadata": {
    "collapsed": false,
    "ExecuteTime": {
     "end_time": "2024-02-04T20:32:24.432810360Z",
     "start_time": "2024-02-04T20:32:24.099948105Z"
    }
   },
   "id": "57e4d9507a775816",
   "execution_count": 1
  },
  {
   "cell_type": "code",
   "outputs": [
    {
     "ename": "ModuleNotFoundError",
     "evalue": "No module named 'cplx'",
     "output_type": "error",
     "traceback": [
      "\u001B[0;31m---------------------------------------------------------------------------\u001B[0m",
      "\u001B[0;31mModuleNotFoundError\u001B[0m                       Traceback (most recent call last)",
      "Cell \u001B[0;32mIn[1], line 1\u001B[0m\n\u001B[0;32m----> 1\u001B[0m \u001B[38;5;28;01mimport\u001B[39;00m \u001B[38;5;21;01mcplx\u001B[39;00m\n\u001B[1;32m      2\u001B[0m \u001B[38;5;28;01mimport\u001B[39;00m \u001B[38;5;21;01mquad\u001B[39;00m\n\u001B[1;32m      3\u001B[0m \u001B[38;5;28;01mimport\u001B[39;00m \u001B[38;5;21;01mocto\u001B[39;00m\n",
      "\u001B[0;31mModuleNotFoundError\u001B[0m: No module named 'cplx'"
     ]
    }
   ],
   "source": [
    "import cplx\n",
    "import quad\n",
    "import octo"
   ],
   "metadata": {
    "collapsed": false,
    "ExecuteTime": {
     "end_time": "2024-02-11T16:44:36.721831999Z",
     "start_time": "2024-02-11T16:44:36.696116277Z"
    }
   },
   "id": "73c59b09b5b43236",
   "execution_count": 1
  },
  {
   "cell_type": "code",
   "outputs": [
    {
     "data": {
      "text/plain": "Octonions, shape=(1, 8), first one is (0.0, 0.0i, 1.0j, 0.0k, 0.0l, 0.0li, 0.0lj, 0.0lk)"
     },
     "execution_count": 3,
     "metadata": {},
     "output_type": "execute_result"
    }
   ],
   "source": [
    "octo.j"
   ],
   "metadata": {
    "collapsed": false,
    "ExecuteTime": {
     "end_time": "2024-02-04T20:32:24.955746597Z",
     "start_time": "2024-02-04T20:32:24.900106353Z"
    }
   },
   "id": "151750bbb8becc63",
   "execution_count": 3
  },
  {
   "cell_type": "code",
   "outputs": [
    {
     "data": {
      "text/plain": "Array([[0., 0., 0., 1., 0., 0., 0., 0.]], dtype=float32)"
     },
     "execution_count": 4,
     "metadata": {},
     "output_type": "execute_result"
    }
   ],
   "source": [
    "raw_k = octo.k.to_jnp()\n",
    "raw_k\n"
   ],
   "metadata": {
    "collapsed": false,
    "ExecuteTime": {
     "end_time": "2024-02-04T20:32:24.956955449Z",
     "start_time": "2024-02-04T20:32:24.941797578Z"
    }
   },
   "id": "7b0ada22c499556e",
   "execution_count": 4
  },
  {
   "cell_type": "code",
   "outputs": [],
   "source": [
    "jnp.ndarray?"
   ],
   "metadata": {
    "collapsed": false,
    "ExecuteTime": {
     "end_time": "2024-02-04T20:32:25.043643542Z",
     "start_time": "2024-02-04T20:32:24.944801518Z"
    }
   },
   "id": "87934cda8a03cf6",
   "execution_count": 5
  },
  {
   "cell_type": "code",
   "outputs": [
    {
     "data": {
      "text/plain": "Array([[0., 0., 0., 0., 1., 0., 0., 0.]], dtype=float32)"
     },
     "execution_count": 6,
     "metadata": {},
     "output_type": "execute_result"
    }
   ],
   "source": [
    "octo.raw_mul(octo.raw_unit,octo.raw_l)\n"
   ],
   "metadata": {
    "collapsed": false,
    "ExecuteTime": {
     "end_time": "2024-02-04T20:32:25.202933220Z",
     "start_time": "2024-02-04T20:32:24.978821286Z"
    }
   },
   "id": "381841e052233134",
   "execution_count": 6
  },
  {
   "cell_type": "code",
   "outputs": [
    {
     "data": {
      "text/plain": "Octonions, shape=(1, 8), first one is (0.0, 0.0i, 0.0j, 0.0k, 1.0l, 0.0li, 0.0lj, 0.0lk)"
     },
     "execution_count": 7,
     "metadata": {},
     "output_type": "execute_result"
    }
   ],
   "source": [
    "octo.octo_mul(octo.unit,octo.l)\n"
   ],
   "metadata": {
    "collapsed": false,
    "ExecuteTime": {
     "end_time": "2024-02-04T20:32:25.204624536Z",
     "start_time": "2024-02-04T20:32:25.168012681Z"
    }
   },
   "id": "53a09243cbb3bdeb",
   "execution_count": 7
  },
  {
   "cell_type": "code",
   "outputs": [
    {
     "data": {
      "text/plain": "Octonions, shape=(1, 8), first one is (0.0, 0.0i, 0.0j, 0.0k, 0.0l, 0.0li, 0.0lj, 1.0lk)"
     },
     "execution_count": 8,
     "metadata": {},
     "output_type": "execute_result"
    }
   ],
   "source": [
    "octo.i*octo.k\n"
   ],
   "metadata": {
    "collapsed": false,
    "ExecuteTime": {
     "end_time": "2024-02-04T20:32:25.205804688Z",
     "start_time": "2024-02-04T20:32:25.168470376Z"
    }
   },
   "id": "a9079b83a7d98f6e",
   "execution_count": 8
  },
  {
   "cell_type": "code",
   "outputs": [
    {
     "data": {
      "text/plain": "Array([[[[ 0., -1.,  0.,  0.,  0.,  0.,  0.,  0.]],\n\n        [[ 1.,  0.,  0.,  0.,  0.,  0.,  0.,  0.]],\n\n        [[ 0.,  0.,  0.,  0., -1.,  0.,  0.,  0.]],\n\n        [[ 0.,  0.,  0.,  0.,  0.,  0.,  0., -1.]],\n\n        [[ 0.,  0.,  1.,  0.,  0.,  0.,  0.,  0.]],\n\n        [[ 0.,  0.,  0.,  0.,  0.,  0., -1.,  0.]],\n\n        [[ 0.,  0.,  0.,  0.,  0.,  1.,  0.,  0.]],\n\n        [[ 0.,  0.,  0.,  1.,  0.,  0.,  0.,  0.]]]], dtype=float32)"
     },
     "execution_count": 9,
     "metadata": {},
     "output_type": "execute_result"
    }
   ],
   "source": [
    "dz = jax.jacobian(fun=octo.raw_mul,argnums=1)\n",
    "dbda = dz(octo.raw_i,octo.raw_unit)\n",
    "dbda"
   ],
   "metadata": {
    "collapsed": false,
    "ExecuteTime": {
     "end_time": "2024-02-04T20:32:25.851801804Z",
     "start_time": "2024-02-04T20:32:25.168795589Z"
    }
   },
   "id": "a316dde7b54f28fd",
   "execution_count": 9
  },
  {
   "cell_type": "code",
   "outputs": [
    {
     "data": {
      "text/plain": "Octonions, shape=(1, 8), first one is (0.0, 0.0i, 0.0j, 1.0k, 0.0l, 0.0li, 0.0lj, 0.0lk)"
     },
     "execution_count": 10,
     "metadata": {},
     "output_type": "execute_result"
    }
   ],
   "source": [
    "octo.unit * octo.k"
   ],
   "metadata": {
    "collapsed": false,
    "ExecuteTime": {
     "end_time": "2024-02-04T20:32:25.896893013Z",
     "start_time": "2024-02-04T20:32:25.852354589Z"
    }
   },
   "id": "8d266241d604b932",
   "execution_count": 10
  },
  {
   "cell_type": "markdown",
   "source": [
    "as per:\n",
    "\n",
    "https://www.euclideanspace.com/maths/algebra/realNormedAlgebra/octonion/index.htm\n",
    "\n"
   ],
   "metadata": {
    "collapsed": false
   },
   "id": "52c4a73bf29b7655"
  },
  {
   "cell_type": "markdown",
   "source": [],
   "metadata": {
    "collapsed": false
   },
   "id": "7378c3f64a4fed3f"
  },
  {
   "cell_type": "code",
   "outputs": [
    {
     "data": {
      "text/plain": "Octonions, shape=(1, 8), first one is (1.0, 1.0i, 0.0j, 0.0k, 0.0l, 0.0li, 0.0lj, 0.0lk)"
     },
     "execution_count": 11,
     "metadata": {},
     "output_type": "execute_result"
    }
   ],
   "source": [
    "a1 = octo.Octonion(jnp.array([1,0,0,0,0,0,0,0]))\n",
    "a2 = octo.Octonion(jnp.array([0,1,0,0,0,0,0,0]))\n",
    "a2\n",
    "a1+a2"
   ],
   "metadata": {
    "collapsed": false,
    "ExecuteTime": {
     "end_time": "2024-02-04T20:32:25.989239223Z",
     "start_time": "2024-02-04T20:32:25.895672681Z"
    }
   },
   "id": "c96fb438d1b79c7d",
   "execution_count": 11
  },
  {
   "cell_type": "code",
   "outputs": [],
   "source": [
    "\n"
   ],
   "metadata": {
    "collapsed": false,
    "ExecuteTime": {
     "end_time": "2024-02-04T20:32:25.990688998Z",
     "start_time": "2024-02-04T20:32:25.989112572Z"
    }
   },
   "id": "88c6229e8db008fe",
   "execution_count": 11
  },
  {
   "cell_type": "code",
   "outputs": [
    {
     "data": {
      "text/plain": "Octonions, shape=(1, 8), first one is (1.0, 0.0i, 0.0j, 0.0k, 0.0l, 0.0li, 0.0lj, 0.0lk)"
     },
     "execution_count": 12,
     "metadata": {},
     "output_type": "execute_result"
    }
   ],
   "source": [
    "a1*a1"
   ],
   "metadata": {
    "collapsed": false,
    "ExecuteTime": {
     "end_time": "2024-02-04T20:32:26.159712632Z",
     "start_time": "2024-02-04T20:32:25.991542916Z"
    }
   },
   "id": "dd62a52843757984",
   "execution_count": 12
  },
  {
   "cell_type": "code",
   "outputs": [
    {
     "data": {
      "text/plain": "14224.0"
     },
     "execution_count": 13,
     "metadata": {},
     "output_type": "execute_result"
    }
   ],
   "source": [
    "128*127*(7/8)"
   ],
   "metadata": {
    "collapsed": false,
    "ExecuteTime": {
     "end_time": "2024-02-04T20:32:26.168354628Z",
     "start_time": "2024-02-04T20:32:26.161361078Z"
    }
   },
   "id": "364fcea50d7a81a5",
   "execution_count": 13
  },
  {
   "cell_type": "code",
   "outputs": [
    {
     "data": {
      "text/plain": "<PjitFunction of <function norm at 0x7fb754ead300>>"
     },
     "execution_count": 14,
     "metadata": {},
     "output_type": "execute_result"
    }
   ],
   "source": [
    "jnp.linalg.norm"
   ],
   "metadata": {
    "collapsed": false,
    "ExecuteTime": {
     "end_time": "2024-02-04T20:32:26.206383397Z",
     "start_time": "2024-02-04T20:32:26.163351078Z"
    }
   },
   "id": "d255a2812859890b",
   "execution_count": 14
  },
  {
   "cell_type": "code",
   "outputs": [],
   "source": [
    "import jax.nn\n",
    "jax.nn.leaky_relu?"
   ],
   "metadata": {
    "collapsed": false,
    "ExecuteTime": {
     "end_time": "2024-02-04T20:32:26.247601647Z",
     "start_time": "2024-02-04T20:32:26.246899740Z"
    }
   },
   "id": "9f2a19cb5f2d974e",
   "execution_count": null
  },
  {
   "cell_type": "code",
   "outputs": [],
   "source": [
    "x = jnp.linspace(-5,5,200)\n",
    "fn = jax.nn.selu\n",
    "dfn = jax.grad(fn)\n",
    "y = jnp.array([fn(e) for e in x])\n",
    "dy = jnp.array([dfn(e) for e in x])\n",
    "import matplotlib.pyplot as plt\n",
    "plt.plot(x,y)\n",
    "plt.plot(x,dy)"
   ],
   "metadata": {
    "collapsed": false,
    "ExecuteTime": {
     "end_time": "2024-02-04T20:32:26.291739718Z",
     "start_time": "2024-02-04T20:32:26.291396244Z"
    }
   },
   "id": "dc95d781eafb2ea0",
   "execution_count": null
  },
  {
   "cell_type": "code",
   "outputs": [],
   "source": [
    "jax.nn.selu?"
   ],
   "metadata": {
    "collapsed": false,
    "ExecuteTime": {
     "start_time": "2024-02-04T20:32:26.291680647Z"
    }
   },
   "id": "61915e61446fad69",
   "execution_count": null
  },
  {
   "cell_type": "code",
   "outputs": [],
   "source": [
    "jax.nn.selu(octo.raw_unit-4*octo.raw_i)"
   ],
   "metadata": {
    "collapsed": false,
    "ExecuteTime": {
     "end_time": "2024-02-04T20:32:26.292153632Z",
     "start_time": "2024-02-04T20:32:26.291881299Z"
    }
   },
   "id": "6fb86ad91321d56d",
   "execution_count": null
  },
  {
   "cell_type": "code",
   "outputs": [],
   "source": [
    "# FRONTIER: THis doesn't quite work yet, -- the next issue is how to get scaling operation (octo+float) through the jax tracer\n",
    "def FFNglu(x,A,b,C,d):\n",
    "    \"\"\"\n",
    "    \n",
    "    :param x: the value vector to process \n",
    "    :param A: \n",
    "    :param b: \n",
    "    :param C: \n",
    "    :param d: \n",
    "    :return: \n",
    "    \"\"\"\n",
    "    #y = jax.nn.selu(((octo.Octonion(x)*octo.Octonion(A))+b).to_jnp())*(octo.Octonion(x)*octo.Octonion(C)+d)\n",
    "    y = (octo.Octonion(jax.nn.selu(((octo.Octonion(x)*octo.Octonion(A))+b).to_jnp()))*(octo.Octonion(x)*octo.Octonion(C)+d)).to_jnp()\n",
    "    return y\n",
    "\n",
    "FFNglu(octo.raw_unit, octo.raw_i, 0.0, octo.raw_j, 0.0)\n"
   ],
   "metadata": {
    "collapsed": false,
    "ExecuteTime": {
     "start_time": "2024-02-04T20:32:26.292060421Z"
    }
   },
   "id": "d185018003dcea4a",
   "execution_count": null
  },
  {
   "cell_type": "code",
   "outputs": [],
   "source": [
    "jax.grad(FFNglu,argnums=2)(octo.raw_unit, octo.raw_i, 0.0, octo.raw_j, 0.0)"
   ],
   "metadata": {
    "collapsed": false,
    "ExecuteTime": {
     "end_time": "2024-02-04T20:32:26.292976640Z",
     "start_time": "2024-02-04T20:32:26.292181832Z"
    }
   },
   "id": "7ed04ae1e6d9cade",
   "execution_count": null
  },
  {
   "cell_type": "code",
   "outputs": [],
   "source": [
    "jax._src.interpreters.ad.JVPTracer?"
   ],
   "metadata": {
    "collapsed": false,
    "ExecuteTime": {
     "start_time": "2024-02-04T20:32:26.292353074Z"
    }
   },
   "id": "8387f88c7db19a5d",
   "execution_count": null
  },
  {
   "cell_type": "code",
   "outputs": [],
   "source": [
    "octo.raw_"
   ],
   "metadata": {
    "collapsed": false,
    "ExecuteTime": {
     "start_time": "2024-02-04T20:32:26.292471905Z"
    }
   },
   "id": "3c98bb7f426ac35d",
   "execution_count": null
  },
  {
   "cell_type": "code",
   "outputs": [],
   "source": [
    "octo.raw_j"
   ],
   "metadata": {
    "collapsed": false,
    "ExecuteTime": {
     "start_time": "2024-02-04T20:32:26.292580766Z"
    }
   },
   "id": "6a8ccc7cc8289b68",
   "execution_count": null
  }
 ],
 "metadata": {
  "kernelspec": {
   "display_name": "Python 3",
   "language": "python",
   "name": "python3"
  },
  "language_info": {
   "codemirror_mode": {
    "name": "ipython",
    "version": 2
   },
   "file_extension": ".py",
   "mimetype": "text/x-python",
   "name": "python",
   "nbconvert_exporter": "python",
   "pygments_lexer": "ipython2",
   "version": "2.7.6"
  }
 },
 "nbformat": 4,
 "nbformat_minor": 5
}
