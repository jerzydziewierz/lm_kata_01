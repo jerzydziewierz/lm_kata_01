{
 "cells": [
  {
   "cell_type": "markdown",
   "source": [
    "# Motivation\n",
    "\n",
    "`pyoctinion` and `pyquaternion` do not work with jax.\n",
    "\n",
    "I need octinions and quaternions for my research.\n",
    "\n"
   ],
   "metadata": {
    "collapsed": false
   },
   "id": "93a3acffb67bf1ef"
  },
  {
   "cell_type": "code",
   "outputs": [],
   "source": [
    "import jax.numpy as jnp\n",
    "import jax"
   ],
   "metadata": {
    "collapsed": false,
    "ExecuteTime": {
     "end_time": "2024-01-29T00:05:50.421603862Z",
     "start_time": "2024-01-29T00:05:50.184960588Z"
    }
   },
   "id": "57e4d9507a775816",
   "execution_count": 1
  },
  {
   "cell_type": "code",
   "outputs": [],
   "source": [
    "import octo"
   ],
   "metadata": {
    "collapsed": false,
    "ExecuteTime": {
     "end_time": "2024-01-29T00:05:50.677714995Z",
     "start_time": "2024-01-29T00:05:50.422065897Z"
    }
   },
   "id": "73c59b09b5b43236",
   "execution_count": 2
  },
  {
   "cell_type": "code",
   "outputs": [
    {
     "data": {
      "text/plain": "Octonions, shape=(1, 8), first one is (0.0, 0.0i, 1.0j, 0.0k, 0.0l, 0.0li, 0.0lj, 0.0lk)"
     },
     "execution_count": 3,
     "metadata": {},
     "output_type": "execute_result"
    }
   ],
   "source": [
    "octo.j"
   ],
   "metadata": {
    "collapsed": false,
    "ExecuteTime": {
     "end_time": "2024-01-29T00:05:50.732072112Z",
     "start_time": "2024-01-29T00:05:50.683124448Z"
    }
   },
   "id": "151750bbb8becc63",
   "execution_count": 3
  },
  {
   "cell_type": "code",
   "outputs": [
    {
     "data": {
      "text/plain": "Array([[0., 0., 0., 1., 0., 0., 0., 0.]], dtype=float32)"
     },
     "execution_count": 4,
     "metadata": {},
     "output_type": "execute_result"
    }
   ],
   "source": [
    "raw_k = octo.k.to_jnp()\n",
    "raw_k\n"
   ],
   "metadata": {
    "collapsed": false,
    "ExecuteTime": {
     "end_time": "2024-01-29T00:05:50.735538546Z",
     "start_time": "2024-01-29T00:05:50.733113432Z"
    }
   },
   "id": "7b0ada22c499556e",
   "execution_count": 4
  },
  {
   "cell_type": "code",
   "outputs": [],
   "source": [
    "jnp.ndarray?"
   ],
   "metadata": {
    "collapsed": false,
    "ExecuteTime": {
     "end_time": "2024-01-29T00:05:50.793113664Z",
     "start_time": "2024-01-29T00:05:50.735977620Z"
    }
   },
   "id": "87934cda8a03cf6",
   "execution_count": 5
  },
  {
   "cell_type": "code",
   "outputs": [
    {
     "data": {
      "text/plain": "Array([[0., 0., 0., 0., 1., 0., 0., 0.]], dtype=float32)"
     },
     "execution_count": 6,
     "metadata": {},
     "output_type": "execute_result"
    }
   ],
   "source": [
    "octo.raw_mul(octo.raw_unit,octo.raw_l)\n"
   ],
   "metadata": {
    "collapsed": false,
    "ExecuteTime": {
     "end_time": "2024-01-29T00:05:50.922126405Z",
     "start_time": "2024-01-29T00:05:50.812983487Z"
    }
   },
   "id": "381841e052233134",
   "execution_count": 6
  },
  {
   "cell_type": "code",
   "outputs": [
    {
     "data": {
      "text/plain": "Octonions, shape=(1, 8), first one is (0.0, 0.0i, 0.0j, 0.0k, 1.0l, 0.0li, 0.0lj, 0.0lk)"
     },
     "execution_count": 7,
     "metadata": {},
     "output_type": "execute_result"
    }
   ],
   "source": [
    "octo.octo_mul(octo.unit,octo.l)\n"
   ],
   "metadata": {
    "collapsed": false,
    "ExecuteTime": {
     "end_time": "2024-01-29T00:05:50.966568046Z",
     "start_time": "2024-01-29T00:05:50.908865627Z"
    }
   },
   "id": "53a09243cbb3bdeb",
   "execution_count": 7
  },
  {
   "cell_type": "code",
   "outputs": [
    {
     "data": {
      "text/plain": "Octonions, shape=(1, 8), first one is (0.0, 0.0i, 0.0j, 0.0k, 0.0l, 0.0li, 0.0lj, 1.0lk)"
     },
     "execution_count": 8,
     "metadata": {},
     "output_type": "execute_result"
    }
   ],
   "source": [
    "octo.i*octo.k\n"
   ],
   "metadata": {
    "collapsed": false,
    "ExecuteTime": {
     "end_time": "2024-01-29T00:05:50.995872830Z",
     "start_time": "2024-01-29T00:05:50.947256379Z"
    }
   },
   "id": "a9079b83a7d98f6e",
   "execution_count": 8
  },
  {
   "cell_type": "code",
   "outputs": [
    {
     "data": {
      "text/plain": "Array([[[[ 0., -1.,  0.,  0.,  0.,  0.,  0.,  0.]],\n\n        [[ 1.,  0.,  0.,  0.,  0.,  0.,  0.,  0.]],\n\n        [[ 0.,  0.,  0.,  0., -1.,  0.,  0.,  0.]],\n\n        [[ 0.,  0.,  0.,  0.,  0.,  0.,  0., -1.]],\n\n        [[ 0.,  0.,  1.,  0.,  0.,  0.,  0.,  0.]],\n\n        [[ 0.,  0.,  0.,  0.,  0.,  0., -1.,  0.]],\n\n        [[ 0.,  0.,  0.,  0.,  0.,  1.,  0.,  0.]],\n\n        [[ 0.,  0.,  0.,  1.,  0.,  0.,  0.,  0.]]]], dtype=float32)"
     },
     "execution_count": 9,
     "metadata": {},
     "output_type": "execute_result"
    }
   ],
   "source": [
    "dz = jax.jacobian(fun=octo.raw_mul,argnums=1)\n",
    "dbda = dz(octo.raw_i,octo.raw_unit)\n",
    "dbda"
   ],
   "metadata": {
    "collapsed": false,
    "ExecuteTime": {
     "end_time": "2024-01-29T00:05:51.652618190Z",
     "start_time": "2024-01-29T00:05:50.972846787Z"
    }
   },
   "id": "a316dde7b54f28fd",
   "execution_count": 9
  },
  {
   "cell_type": "code",
   "outputs": [
    {
     "data": {
      "text/plain": "Octonions, shape=(1, 8), first one is (0.0, 0.0i, 0.0j, 1.0k, 0.0l, 0.0li, 0.0lj, 0.0lk)"
     },
     "execution_count": 13,
     "metadata": {},
     "output_type": "execute_result"
    }
   ],
   "source": [
    "octo.unit * octo.k"
   ],
   "metadata": {
    "collapsed": false,
    "ExecuteTime": {
     "end_time": "2024-01-29T00:06:01.496403822Z",
     "start_time": "2024-01-29T00:06:01.483605337Z"
    }
   },
   "id": "8d266241d604b932",
   "execution_count": 13
  },
  {
   "cell_type": "markdown",
   "source": [
    "as per:\n",
    "\n",
    "https://www.euclideanspace.com/maths/algebra/realNormedAlgebra/octonion/index.htm\n",
    "\n"
   ],
   "metadata": {
    "collapsed": false
   },
   "id": "52c4a73bf29b7655"
  },
  {
   "cell_type": "markdown",
   "source": [],
   "metadata": {
    "collapsed": false
   },
   "id": "7378c3f64a4fed3f"
  },
  {
   "cell_type": "code",
   "outputs": [
    {
     "data": {
      "text/plain": "Octonions, shape=(1, 8), first one is (1.0, 1.0i, 0.0j, 0.0k, 0.0l, 0.0li, 0.0lj, 0.0lk)"
     },
     "execution_count": 16,
     "metadata": {},
     "output_type": "execute_result"
    }
   ],
   "source": [
    "a1 = octo.Octonion(jnp.array([1,0,0,0,0,0,0,0]))\n",
    "a2 = octo.Octonion(jnp.array([0,1,0,0,0,0,0,0]))\n",
    "a2\n",
    "a1+a2"
   ],
   "metadata": {
    "collapsed": false,
    "ExecuteTime": {
     "end_time": "2024-01-29T00:06:39.598680453Z",
     "start_time": "2024-01-29T00:06:39.469619089Z"
    }
   },
   "id": "c96fb438d1b79c7d",
   "execution_count": 16
  },
  {
   "cell_type": "code",
   "outputs": [],
   "source": [
    "\n"
   ],
   "metadata": {
    "collapsed": false,
    "ExecuteTime": {
     "start_time": "2024-01-29T00:05:51.807610463Z"
    }
   },
   "id": "88c6229e8db008fe",
   "execution_count": null
  },
  {
   "cell_type": "code",
   "outputs": [],
   "source": [
    "a1*a1"
   ],
   "metadata": {
    "collapsed": false,
    "ExecuteTime": {
     "start_time": "2024-01-29T00:05:51.807640793Z"
    }
   },
   "id": "dd62a52843757984",
   "execution_count": null
  },
  {
   "cell_type": "code",
   "outputs": [],
   "source": [
    "128*127*(7/8)"
   ],
   "metadata": {
    "collapsed": false,
    "ExecuteTime": {
     "start_time": "2024-01-29T00:05:51.807665863Z"
    }
   },
   "id": "364fcea50d7a81a5",
   "execution_count": null
  },
  {
   "cell_type": "code",
   "outputs": [],
   "source": [
    "jnp.linalg.norm"
   ],
   "metadata": {
    "collapsed": false,
    "ExecuteTime": {
     "start_time": "2024-01-29T00:05:51.807689104Z"
    }
   },
   "id": "d255a2812859890b",
   "execution_count": null
  },
  {
   "cell_type": "code",
   "outputs": [],
   "source": [
    "a8.norm"
   ],
   "metadata": {
    "collapsed": false,
    "ExecuteTime": {
     "start_time": "2024-01-29T00:05:51.807728434Z"
    }
   },
   "id": "94363b8c49ef5681",
   "execution_count": null
  },
  {
   "cell_type": "code",
   "outputs": [],
   "source": [
    "import jax.nn\n",
    "jax.nn.leaky_relu?"
   ],
   "metadata": {
    "collapsed": false,
    "ExecuteTime": {
     "start_time": "2024-01-29T00:05:51.807758594Z"
    }
   },
   "id": "9f2a19cb5f2d974e",
   "execution_count": null
  },
  {
   "cell_type": "code",
   "outputs": [],
   "source": [
    "x = jnp.linspace(-5,5,200)\n",
    "fn = jax.nn.selu\n",
    "dfn = jax.grad(fn)\n",
    "y = jnp.array([fn(e) for e in x])\n",
    "dy = jnp.array([dfn(e) for e in x])\n",
    "import matplotlib.pyplot as plt\n",
    "plt.plot(x,y)\n",
    "plt.plot(x,dy)"
   ],
   "metadata": {
    "collapsed": false,
    "ExecuteTime": {
     "start_time": "2024-01-29T00:05:51.807786254Z"
    }
   },
   "id": "dc95d781eafb2ea0",
   "execution_count": null
  }
 ],
 "metadata": {
  "kernelspec": {
   "display_name": "Python 3",
   "language": "python",
   "name": "python3"
  },
  "language_info": {
   "codemirror_mode": {
    "name": "ipython",
    "version": 2
   },
   "file_extension": ".py",
   "mimetype": "text/x-python",
   "name": "python",
   "nbconvert_exporter": "python",
   "pygments_lexer": "ipython2",
   "version": "2.7.6"
  }
 },
 "nbformat": 4,
 "nbformat_minor": 5
}
