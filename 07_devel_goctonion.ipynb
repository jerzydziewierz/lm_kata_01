{
 "cells": [
  {
   "cell_type": "markdown",
   "source": [
    "# Motivation\n",
    "\n",
    "`pyoctinion` and `pyquaternion` do not work with jax.\n",
    "\n",
    "I need octinions and quaternions for my research.\n",
    "\n"
   ],
   "metadata": {
    "collapsed": false
   },
   "id": "93a3acffb67bf1ef"
  },
  {
   "cell_type": "code",
   "outputs": [],
   "source": [
    "import jax.numpy as jnp\n",
    "import jax"
   ],
   "metadata": {
    "collapsed": false,
    "ExecuteTime": {
     "end_time": "2024-02-25T01:03:11.215767942Z",
     "start_time": "2024-02-25T01:03:10.869007017Z"
    }
   },
   "id": "57e4d9507a775816",
   "execution_count": 1
  },
  {
   "cell_type": "code",
   "outputs": [
    {
     "ename": "ModuleNotFoundError",
     "evalue": "No module named 'cplx'",
     "output_type": "error",
     "traceback": [
      "\u001B[0;31m---------------------------------------------------------------------------\u001B[0m",
      "\u001B[0;31mModuleNotFoundError\u001B[0m                       Traceback (most recent call last)",
      "Cell \u001B[0;32mIn[2], line 1\u001B[0m\n\u001B[0;32m----> 1\u001B[0m \u001B[38;5;28;01mimport\u001B[39;00m \u001B[38;5;21;01mcplx\u001B[39;00m\n\u001B[1;32m      2\u001B[0m \u001B[38;5;28;01mimport\u001B[39;00m \u001B[38;5;21;01mquad\u001B[39;00m\n\u001B[1;32m      3\u001B[0m \u001B[38;5;28;01mimport\u001B[39;00m \u001B[38;5;21;01mocto\u001B[39;00m\n",
      "\u001B[0;31mModuleNotFoundError\u001B[0m: No module named 'cplx'"
     ]
    }
   ],
   "source": [
    "import cplx\n",
    "import quad\n",
    "import octo"
   ],
   "metadata": {
    "collapsed": false,
    "ExecuteTime": {
     "end_time": "2024-02-25T01:03:13.574266887Z",
     "start_time": "2024-02-25T01:03:13.471916163Z"
    }
   },
   "id": "73c59b09b5b43236",
   "execution_count": 2
  },
  {
   "cell_type": "code",
   "outputs": [],
   "source": [
    "octo.j"
   ],
   "metadata": {
    "collapsed": false,
    "is_executing": true
   },
   "id": "151750bbb8becc63",
   "execution_count": null
  },
  {
   "cell_type": "code",
   "outputs": [],
   "source": [
    "raw_k = octo.k.to_jnp()\n",
    "raw_k\n"
   ],
   "metadata": {
    "collapsed": false,
    "is_executing": true
   },
   "id": "7b0ada22c499556e",
   "execution_count": null
  },
  {
   "cell_type": "code",
   "outputs": [],
   "source": [
    "jnp.ndarray?"
   ],
   "metadata": {
    "collapsed": false,
    "is_executing": true
   },
   "id": "87934cda8a03cf6",
   "execution_count": null
  },
  {
   "cell_type": "code",
   "outputs": [],
   "source": [
    "octo.raw_mul(octo.raw_unit,octo.raw_l)\n"
   ],
   "metadata": {
    "collapsed": false,
    "is_executing": true
   },
   "id": "381841e052233134",
   "execution_count": null
  },
  {
   "cell_type": "code",
   "outputs": [],
   "source": [
    "octo.octo_mul(octo.unit,octo.l)\n"
   ],
   "metadata": {
    "collapsed": false,
    "is_executing": true
   },
   "id": "53a09243cbb3bdeb",
   "execution_count": null
  },
  {
   "cell_type": "code",
   "outputs": [],
   "source": [
    "octo.i*octo.k\n"
   ],
   "metadata": {
    "collapsed": false,
    "is_executing": true
   },
   "id": "a9079b83a7d98f6e",
   "execution_count": null
  },
  {
   "cell_type": "code",
   "outputs": [],
   "source": [
    "dz = jax.jacobian(fun=octo.raw_mul,argnums=1)\n",
    "dbda = dz(octo.raw_i,octo.raw_unit)\n",
    "dbda"
   ],
   "metadata": {
    "collapsed": false,
    "is_executing": true
   },
   "id": "a316dde7b54f28fd",
   "execution_count": null
  },
  {
   "cell_type": "code",
   "outputs": [],
   "source": [
    "octo.unit * octo.k"
   ],
   "metadata": {
    "collapsed": false,
    "is_executing": true
   },
   "id": "8d266241d604b932",
   "execution_count": null
  },
  {
   "cell_type": "markdown",
   "source": [
    "as per:\n",
    "\n",
    "https://www.euclideanspace.com/maths/algebra/realNormedAlgebra/octonion/index.htm\n",
    "\n"
   ],
   "metadata": {
    "collapsed": false
   },
   "id": "52c4a73bf29b7655"
  },
  {
   "cell_type": "markdown",
   "source": [],
   "metadata": {
    "collapsed": false
   },
   "id": "7378c3f64a4fed3f"
  },
  {
   "cell_type": "code",
   "outputs": [],
   "source": [
    "a1 = octo.Octonion(jnp.array([1,0,0,0,0,0,0,0]))\n",
    "a2 = octo.Octonion(jnp.array([0,1,0,0,0,0,0,0]))\n",
    "a2\n",
    "a1+a2"
   ],
   "metadata": {
    "collapsed": false,
    "is_executing": true
   },
   "id": "c96fb438d1b79c7d",
   "execution_count": null
  },
  {
   "cell_type": "code",
   "outputs": [],
   "source": [
    "\n"
   ],
   "metadata": {
    "collapsed": false,
    "is_executing": true
   },
   "id": "88c6229e8db008fe",
   "execution_count": null
  },
  {
   "cell_type": "code",
   "outputs": [],
   "source": [
    "a1*a1"
   ],
   "metadata": {
    "collapsed": false,
    "is_executing": true
   },
   "id": "dd62a52843757984",
   "execution_count": null
  },
  {
   "cell_type": "code",
   "outputs": [],
   "source": [
    "128*127*(7/8)"
   ],
   "metadata": {
    "collapsed": false,
    "is_executing": true
   },
   "id": "364fcea50d7a81a5",
   "execution_count": null
  },
  {
   "cell_type": "code",
   "outputs": [],
   "source": [
    "jnp.linalg.norm"
   ],
   "metadata": {
    "collapsed": false,
    "is_executing": true
   },
   "id": "d255a2812859890b",
   "execution_count": null
  },
  {
   "cell_type": "code",
   "outputs": [],
   "source": [
    "import jax.nn\n",
    "jax.nn.leaky_relu?"
   ],
   "metadata": {
    "collapsed": false,
    "is_executing": true
   },
   "id": "9f2a19cb5f2d974e",
   "execution_count": null
  },
  {
   "cell_type": "code",
   "outputs": [],
   "source": [
    "x = jnp.linspace(-5,5,200)\n",
    "fn = jax.nn.selu\n",
    "dfn = jax.grad(fn)\n",
    "y = jnp.array([fn(e) for e in x])\n",
    "dy = jnp.array([dfn(e) for e in x])\n",
    "import matplotlib.pyplot as plt\n",
    "plt.plot(x,y)\n",
    "plt.plot(x,dy)"
   ],
   "metadata": {
    "collapsed": false,
    "is_executing": true
   },
   "id": "dc95d781eafb2ea0",
   "execution_count": null
  },
  {
   "cell_type": "code",
   "outputs": [],
   "source": [
    "jax.nn.selu?"
   ],
   "metadata": {
    "collapsed": false,
    "is_executing": true
   },
   "id": "61915e61446fad69",
   "execution_count": null
  },
  {
   "cell_type": "code",
   "outputs": [],
   "source": [
    "jax.nn.selu(octo.raw_unit-4*octo.raw_i)"
   ],
   "metadata": {
    "collapsed": false,
    "is_executing": true
   },
   "id": "6fb86ad91321d56d",
   "execution_count": null
  },
  {
   "cell_type": "code",
   "outputs": [
    {
     "ename": "NameError",
     "evalue": "name 'octo' is not defined",
     "output_type": "error",
     "traceback": [
      "\u001B[0;31m---------------------------------------------------------------------------\u001B[0m",
      "\u001B[0;31mNameError\u001B[0m                                 Traceback (most recent call last)",
      "Cell \u001B[0;32mIn[1], line 16\u001B[0m\n\u001B[1;32m     13\u001B[0m     y \u001B[38;5;241m=\u001B[39m (octo\u001B[38;5;241m.\u001B[39mOctonion(jax\u001B[38;5;241m.\u001B[39mnn\u001B[38;5;241m.\u001B[39mselu(((octo\u001B[38;5;241m.\u001B[39mOctonion(x)\u001B[38;5;241m*\u001B[39mocto\u001B[38;5;241m.\u001B[39mOctonion(A))\u001B[38;5;241m+\u001B[39mb)\u001B[38;5;241m.\u001B[39mto_jnp()))\u001B[38;5;241m*\u001B[39m(octo\u001B[38;5;241m.\u001B[39mOctonion(x)\u001B[38;5;241m*\u001B[39mocto\u001B[38;5;241m.\u001B[39mOctonion(C)\u001B[38;5;241m+\u001B[39md))\u001B[38;5;241m.\u001B[39mto_jnp()\n\u001B[1;32m     14\u001B[0m     \u001B[38;5;28;01mreturn\u001B[39;00m y\n\u001B[0;32m---> 16\u001B[0m FFNglu(\u001B[43mocto\u001B[49m\u001B[38;5;241m.\u001B[39mraw_unit, octo\u001B[38;5;241m.\u001B[39mraw_i, \u001B[38;5;241m0.0\u001B[39m, octo\u001B[38;5;241m.\u001B[39mraw_j, \u001B[38;5;241m0.0\u001B[39m)\n",
      "\u001B[0;31mNameError\u001B[0m: name 'octo' is not defined"
     ]
    }
   ],
   "source": [
    "# FRONTIER: THis doesn't quite work yet, -- the next issue is how to get scaling operation (octo+float) through the jax tracer\n",
    "def FFNglu(x,A,b,C,d):\n",
    "    \"\"\"\n",
    "    \n",
    "    :param x: the value vector to process \n",
    "    :param A: \n",
    "    :param b: \n",
    "    :param C: \n",
    "    :param d: \n",
    "    :return: \n",
    "    \"\"\"\n",
    "    #y = jax.nn.selu(((octo.Octonion(x)*octo.Octonion(A))+b).to_jnp())*(octo.Octonion(x)*octo.Octonion(C)+d)\n",
    "    y = (octo.Octonion(jax.nn.selu(((octo.Octonion(x)*octo.Octonion(A))+b).to_jnp()))*(octo.Octonion(x)*octo.Octonion(C)+d)).to_jnp()\n",
    "    return y\n",
    "\n",
    "FFNglu(octo.raw_unit, octo.raw_i, 0.0, octo.raw_j, 0.0)\n"
   ],
   "metadata": {
    "collapsed": false,
    "ExecuteTime": {
     "end_time": "2024-02-12T00:26:52.801425585Z",
     "start_time": "2024-02-12T00:26:52.727963139Z"
    }
   },
   "id": "d185018003dcea4a",
   "execution_count": 1
  },
  {
   "cell_type": "code",
   "outputs": [],
   "source": [
    "jax.grad(FFNglu,argnums=2)(octo.raw_unit, octo.raw_i, 0.0, octo.raw_j, 0.0)"
   ],
   "metadata": {
    "collapsed": false,
    "ExecuteTime": {
     "start_time": "2024-02-12T00:26:52.757570969Z"
    }
   },
   "id": "7ed04ae1e6d9cade",
   "execution_count": null
  },
  {
   "cell_type": "code",
   "outputs": [],
   "source": [
    "jax._src.interpreters.ad.JVPTracer?"
   ],
   "metadata": {
    "collapsed": false,
    "ExecuteTime": {
     "start_time": "2024-02-12T00:26:52.758927107Z"
    }
   },
   "id": "8387f88c7db19a5d",
   "execution_count": null
  },
  {
   "cell_type": "code",
   "outputs": [],
   "source": [
    "octo.raw_"
   ],
   "metadata": {
    "collapsed": false,
    "ExecuteTime": {
     "start_time": "2024-02-12T00:26:52.759743632Z"
    }
   },
   "id": "3c98bb7f426ac35d",
   "execution_count": null
  },
  {
   "cell_type": "code",
   "outputs": [],
   "source": [
    "octo.raw_j"
   ],
   "metadata": {
    "collapsed": false,
    "ExecuteTime": {
     "start_time": "2024-02-12T00:26:52.760362136Z"
    }
   },
   "id": "6a8ccc7cc8289b68",
   "execution_count": null
  }
 ],
 "metadata": {
  "kernelspec": {
   "display_name": "Python 3",
   "language": "python",
   "name": "python3"
  },
  "language_info": {
   "codemirror_mode": {
    "name": "ipython",
    "version": 2
   },
   "file_extension": ".py",
   "mimetype": "text/x-python",
   "name": "python",
   "nbconvert_exporter": "python",
   "pygments_lexer": "ipython2",
   "version": "2.7.6"
  }
 },
 "nbformat": 4,
 "nbformat_minor": 5
}
