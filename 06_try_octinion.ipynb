{
 "cells": [
  {
   "cell_type": "code",
   "execution_count": 1,
   "id": "initial_id",
   "metadata": {
    "collapsed": true,
    "ExecuteTime": {
     "end_time": "2024-01-28T20:07:35.634630722Z",
     "start_time": "2024-01-28T20:07:32.337637944Z"
    }
   },
   "outputs": [
    {
     "name": "stderr",
     "output_type": "stream",
     "text": [
      "2024-01-28 20:07:33.065408: E external/local_xla/xla/stream_executor/cuda/cuda_dnn.cc:9261] Unable to register cuDNN factory: Attempting to register factory for plugin cuDNN when one has already been registered\n",
      "2024-01-28 20:07:33.065476: E external/local_xla/xla/stream_executor/cuda/cuda_fft.cc:607] Unable to register cuFFT factory: Attempting to register factory for plugin cuFFT when one has already been registered\n",
      "2024-01-28 20:07:33.085610: E external/local_xla/xla/stream_executor/cuda/cuda_blas.cc:1515] Unable to register cuBLAS factory: Attempting to register factory for plugin cuBLAS when one has already been registered\n",
      "2024-01-28 20:07:33.129527: I tensorflow/core/platform/cpu_feature_guard.cc:182] This TensorFlow binary is optimized to use available CPU instructions in performance-critical operations.\n",
      "To enable the following instructions: AVX2 FMA, in other operations, rebuild TensorFlow with the appropriate compiler flags.\n",
      "2024-01-28 20:07:33.967770: W tensorflow/compiler/tf2tensorrt/utils/py_utils.cc:38] TF-TRT Warning: Could not find TensorRT\n"
     ]
    }
   ],
   "source": [
    "from notebookinit import *"
   ]
  },
  {
   "cell_type": "code",
   "outputs": [
    {
     "name": "stdout",
     "output_type": "stream",
     "text": [
      "Collecting pyoctonion\r\n",
      "  Using cached pyoctonion-3.12-py3-none-any.whl.metadata (3.1 kB)\r\n",
      "Collecting pyquaternion\r\n",
      "  Downloading pyquaternion-0.9.9-py3-none-any.whl (14 kB)\r\n",
      "Requirement already satisfied: numpy in /home/mib07150/prog/miniconda3/envs/py311/lib/python3.11/site-packages (from pyquaternion) (1.25.2)\r\n",
      "Downloading pyoctonion-3.12-py3-none-any.whl (5.7 kB)\r\n",
      "Installing collected packages: pyoctonion, pyquaternion\r\n",
      "Successfully installed pyoctonion-3.12 pyquaternion-0.9.9\r\n"
     ]
    }
   ],
   "source": [
    "!pip install -U pyoctonion pyquaternion\n"
   ],
   "metadata": {
    "collapsed": false,
    "ExecuteTime": {
     "end_time": "2024-01-28T20:11:28.144536183Z",
     "start_time": "2024-01-28T20:11:23.689575110Z"
    }
   },
   "id": "d07bbfa8a759dc33",
   "execution_count": 3
  },
  {
   "cell_type": "code",
   "outputs": [],
   "source": [
    "from pyoctonion import Octonion\n",
    "from pyquaternion import Quaternion\n",
    "import jax.numpy as jnp\n",
    "import jax"
   ],
   "metadata": {
    "collapsed": false,
    "ExecuteTime": {
     "end_time": "2024-01-28T20:16:13.788998711Z",
     "start_time": "2024-01-28T20:16:13.781491067Z"
    }
   },
   "id": "fb8980789a52989",
   "execution_count": 36
  },
  {
   "cell_type": "code",
   "outputs": [
    {
     "ename": "ConcretizationTypeError",
     "evalue": "Abstract tracer value encountered where concrete value is expected: traced array with shape int32[].\nThe problem arose with the `float` function. If trying to convert the data type of a value, try using `x.astype(float)` or `jnp.array(x, float)` instead.\nThe error occurred while tracing the function octmult at /tmp/ipykernel_152593/3959921431.py:18 for jit. This value became a tracer due to JAX operations on these lines:\n\n  operation a\u001B[35m:i32[1]\u001B[39m = slice[limit_indices=(1,) start_indices=(0,) strides=None] b\n    from line /tmp/ipykernel_152593/3959921431.py:13:20 (jnp2octonion)\n\n  operation a\u001B[35m:i32[1]\u001B[39m = slice[limit_indices=(2,) start_indices=(1,) strides=None] b\n    from line /tmp/ipykernel_152593/3959921431.py:13:25 (jnp2octonion)\n\n  operation a\u001B[35m:i32[1]\u001B[39m = slice[limit_indices=(3,) start_indices=(2,) strides=None] b\n    from line /tmp/ipykernel_152593/3959921431.py:13:30 (jnp2octonion)\n\n  operation a\u001B[35m:i32[1]\u001B[39m = slice[limit_indices=(4,) start_indices=(3,) strides=None] b\n    from line /tmp/ipykernel_152593/3959921431.py:13:35 (jnp2octonion)\n\n  operation a\u001B[35m:i32[1]\u001B[39m = slice[limit_indices=(5,) start_indices=(4,) strides=None] b\n    from line /tmp/ipykernel_152593/3959921431.py:13:40 (jnp2octonion)\n\n(Additional originating lines are not shown.)\n\nSee https://jax.readthedocs.io/en/latest/errors.html#jax.errors.ConcretizationTypeError",
     "output_type": "error",
     "traceback": [
      "\u001B[0;31m---------------------------------------------------------------------------\u001B[0m",
      "\u001B[0;31mConcretizationTypeError\u001B[0m                   Traceback (most recent call last)",
      "Cell \u001B[0;32mIn[63], line 33\u001B[0m\n\u001B[1;32m     30\u001B[0m j7 \u001B[38;5;241m=\u001B[39m jnp\u001B[38;5;241m.\u001B[39marray([\u001B[38;5;241m0\u001B[39m,\u001B[38;5;241m0\u001B[39m,\u001B[38;5;241m0\u001B[39m,\u001B[38;5;241m0\u001B[39m,\u001B[38;5;241m0\u001B[39m,\u001B[38;5;241m0\u001B[39m,\u001B[38;5;241m1\u001B[39m,\u001B[38;5;241m0\u001B[39m])\n\u001B[1;32m     31\u001B[0m j8 \u001B[38;5;241m=\u001B[39m jnp\u001B[38;5;241m.\u001B[39marray([\u001B[38;5;241m0\u001B[39m,\u001B[38;5;241m0\u001B[39m,\u001B[38;5;241m0\u001B[39m,\u001B[38;5;241m0\u001B[39m,\u001B[38;5;241m0\u001B[39m,\u001B[38;5;241m0\u001B[39m,\u001B[38;5;241m0\u001B[39m,\u001B[38;5;241m1\u001B[39m])\n\u001B[0;32m---> 33\u001B[0m \u001B[43moctmult\u001B[49m\u001B[43m(\u001B[49m\u001B[43mj1\u001B[49m\u001B[43m,\u001B[49m\u001B[43mj2\u001B[49m\u001B[43m)\u001B[49m\n",
      "    \u001B[0;31m[... skipping hidden 12 frame]\u001B[0m\n",
      "Cell \u001B[0;32mIn[63], line 20\u001B[0m, in \u001B[0;36moctmult\u001B[0;34m(x, y)\u001B[0m\n\u001B[1;32m     18\u001B[0m \u001B[38;5;129m@jax\u001B[39m\u001B[38;5;241m.\u001B[39mjit\n\u001B[1;32m     19\u001B[0m \u001B[38;5;28;01mdef\u001B[39;00m \u001B[38;5;21moctmult\u001B[39m(x,y):\n\u001B[0;32m---> 20\u001B[0m     \u001B[38;5;28;01mreturn\u001B[39;00m octonion2jnp(\u001B[43mjnp2octonion\u001B[49m\u001B[43m(\u001B[49m\u001B[43mj1\u001B[49m\u001B[43m)\u001B[49m\u001B[38;5;241m*\u001B[39mjnp2octonion(j2))\n",
      "Cell \u001B[0;32mIn[63], line 13\u001B[0m, in \u001B[0;36mjnp2octonion\u001B[0;34m(x)\u001B[0m\n\u001B[1;32m     12\u001B[0m \u001B[38;5;28;01mdef\u001B[39;00m \u001B[38;5;21mjnp2octonion\u001B[39m(x):\n\u001B[0;32m---> 13\u001B[0m     \u001B[38;5;28;01mreturn\u001B[39;00m \u001B[43mOctonion\u001B[49m\u001B[43m(\u001B[49m\u001B[43mx\u001B[49m\u001B[43m[\u001B[49m\u001B[38;5;241;43m0\u001B[39;49m\u001B[43m]\u001B[49m\u001B[43m,\u001B[49m\u001B[43mx\u001B[49m\u001B[43m[\u001B[49m\u001B[38;5;241;43m1\u001B[39;49m\u001B[43m]\u001B[49m\u001B[43m,\u001B[49m\u001B[43mx\u001B[49m\u001B[43m[\u001B[49m\u001B[38;5;241;43m2\u001B[39;49m\u001B[43m]\u001B[49m\u001B[43m,\u001B[49m\u001B[43mx\u001B[49m\u001B[43m[\u001B[49m\u001B[38;5;241;43m3\u001B[39;49m\u001B[43m]\u001B[49m\u001B[43m,\u001B[49m\u001B[43mx\u001B[49m\u001B[43m[\u001B[49m\u001B[38;5;241;43m4\u001B[39;49m\u001B[43m]\u001B[49m\u001B[43m,\u001B[49m\u001B[43mx\u001B[49m\u001B[43m[\u001B[49m\u001B[38;5;241;43m5\u001B[39;49m\u001B[43m]\u001B[49m\u001B[43m,\u001B[49m\u001B[43mx\u001B[49m\u001B[43m[\u001B[49m\u001B[38;5;241;43m6\u001B[39;49m\u001B[43m]\u001B[49m\u001B[43m,\u001B[49m\u001B[43mx\u001B[49m\u001B[43m[\u001B[49m\u001B[38;5;241;43m7\u001B[39;49m\u001B[43m]\u001B[49m\u001B[43m)\u001B[49m\n",
      "File \u001B[0;32m~/prog/miniconda3/envs/py311/lib/python3.11/site-packages/pyoctonion/Pyoctonion.py:18\u001B[0m, in \u001B[0;36mOctonion.__init__\u001B[0;34m(self, x_0, x_1, x_2, x_3, x_4, x_5, x_6, x_7)\u001B[0m\n\u001B[1;32m     16\u001B[0m \u001B[38;5;28mself\u001B[39m\u001B[38;5;241m.\u001B[39mx_6 \u001B[38;5;241m=\u001B[39m x_6\n\u001B[1;32m     17\u001B[0m \u001B[38;5;28mself\u001B[39m\u001B[38;5;241m.\u001B[39mx_7 \u001B[38;5;241m=\u001B[39m x_7\n\u001B[0;32m---> 18\u001B[0m \u001B[38;5;28mself\u001B[39m\u001B[38;5;241m.\u001B[39mnorm \u001B[38;5;241m=\u001B[39m \u001B[38;5;28;43mself\u001B[39;49m\u001B[38;5;241;43m.\u001B[39;49m\u001B[43mcal_norm\u001B[49m\u001B[43m(\u001B[49m\u001B[43m)\u001B[49m\n",
      "File \u001B[0;32m~/prog/miniconda3/envs/py311/lib/python3.11/site-packages/pyoctonion/Pyoctonion.py:29\u001B[0m, in \u001B[0;36mOctonion.cal_norm\u001B[0;34m(self)\u001B[0m\n\u001B[1;32m     28\u001B[0m \u001B[38;5;28;01mdef\u001B[39;00m \u001B[38;5;21mcal_norm\u001B[39m(\u001B[38;5;28mself\u001B[39m):  \u001B[38;5;66;03m# define norm\u001B[39;00m\n\u001B[0;32m---> 29\u001B[0m     b_1 \u001B[38;5;241m=\u001B[39m math\u001B[38;5;241m.\u001B[39msqrt(\n\u001B[1;32m     30\u001B[0m         \u001B[38;5;28mself\u001B[39m\u001B[38;5;241m.\u001B[39mx_0 \u001B[38;5;241m*\u001B[39m\u001B[38;5;241m*\u001B[39m \u001B[38;5;241m2\u001B[39m\n\u001B[1;32m     31\u001B[0m         \u001B[38;5;241m+\u001B[39m \u001B[38;5;28mself\u001B[39m\u001B[38;5;241m.\u001B[39mx_1 \u001B[38;5;241m*\u001B[39m\u001B[38;5;241m*\u001B[39m \u001B[38;5;241m2\u001B[39m\n\u001B[1;32m     32\u001B[0m         \u001B[38;5;241m+\u001B[39m \u001B[38;5;28mself\u001B[39m\u001B[38;5;241m.\u001B[39mx_2 \u001B[38;5;241m*\u001B[39m\u001B[38;5;241m*\u001B[39m \u001B[38;5;241m2\u001B[39m\n\u001B[1;32m     33\u001B[0m         \u001B[38;5;241m+\u001B[39m \u001B[38;5;28mself\u001B[39m\u001B[38;5;241m.\u001B[39mx_3 \u001B[38;5;241m*\u001B[39m\u001B[38;5;241m*\u001B[39m \u001B[38;5;241m2\u001B[39m\n\u001B[1;32m     34\u001B[0m         \u001B[38;5;241m+\u001B[39m \u001B[38;5;28mself\u001B[39m\u001B[38;5;241m.\u001B[39mx_4 \u001B[38;5;241m*\u001B[39m\u001B[38;5;241m*\u001B[39m \u001B[38;5;241m2\u001B[39m\n\u001B[1;32m     35\u001B[0m         \u001B[38;5;241m+\u001B[39m \u001B[38;5;28mself\u001B[39m\u001B[38;5;241m.\u001B[39mx_5 \u001B[38;5;241m*\u001B[39m\u001B[38;5;241m*\u001B[39m \u001B[38;5;241m2\u001B[39m\n\u001B[1;32m     36\u001B[0m         \u001B[38;5;241m+\u001B[39m \u001B[38;5;28mself\u001B[39m\u001B[38;5;241m.\u001B[39mx_6 \u001B[38;5;241m*\u001B[39m\u001B[38;5;241m*\u001B[39m \u001B[38;5;241m2\u001B[39m\n\u001B[1;32m     37\u001B[0m         \u001B[38;5;241m+\u001B[39m \u001B[38;5;28mself\u001B[39m\u001B[38;5;241m.\u001B[39mx_7 \u001B[38;5;241m*\u001B[39m\u001B[38;5;241m*\u001B[39m \u001B[38;5;241m2\u001B[39m\n\u001B[1;32m     38\u001B[0m     )\n\u001B[1;32m     39\u001B[0m     \u001B[38;5;28;01mreturn\u001B[39;00m b_1\n",
      "    \u001B[0;31m[... skipping hidden 1 frame]\u001B[0m\n",
      "File \u001B[0;32m~/prog/miniconda3/envs/py311/lib/python3.11/site-packages/jax/_src/core.py:1516\u001B[0m, in \u001B[0;36mconcretization_function_error.<locals>.error\u001B[0;34m(self, arg)\u001B[0m\n\u001B[1;32m   1515\u001B[0m \u001B[38;5;28;01mdef\u001B[39;00m \u001B[38;5;21merror\u001B[39m(\u001B[38;5;28mself\u001B[39m, arg):\n\u001B[0;32m-> 1516\u001B[0m   \u001B[38;5;28;01mraise\u001B[39;00m ConcretizationTypeError(arg, fname_context)\n",
      "\u001B[0;31mConcretizationTypeError\u001B[0m: Abstract tracer value encountered where concrete value is expected: traced array with shape int32[].\nThe problem arose with the `float` function. If trying to convert the data type of a value, try using `x.astype(float)` or `jnp.array(x, float)` instead.\nThe error occurred while tracing the function octmult at /tmp/ipykernel_152593/3959921431.py:18 for jit. This value became a tracer due to JAX operations on these lines:\n\n  operation a\u001B[35m:i32[1]\u001B[39m = slice[limit_indices=(1,) start_indices=(0,) strides=None] b\n    from line /tmp/ipykernel_152593/3959921431.py:13:20 (jnp2octonion)\n\n  operation a\u001B[35m:i32[1]\u001B[39m = slice[limit_indices=(2,) start_indices=(1,) strides=None] b\n    from line /tmp/ipykernel_152593/3959921431.py:13:25 (jnp2octonion)\n\n  operation a\u001B[35m:i32[1]\u001B[39m = slice[limit_indices=(3,) start_indices=(2,) strides=None] b\n    from line /tmp/ipykernel_152593/3959921431.py:13:30 (jnp2octonion)\n\n  operation a\u001B[35m:i32[1]\u001B[39m = slice[limit_indices=(4,) start_indices=(3,) strides=None] b\n    from line /tmp/ipykernel_152593/3959921431.py:13:35 (jnp2octonion)\n\n  operation a\u001B[35m:i32[1]\u001B[39m = slice[limit_indices=(5,) start_indices=(4,) strides=None] b\n    from line /tmp/ipykernel_152593/3959921431.py:13:40 (jnp2octonion)\n\n(Additional originating lines are not shown.)\n\nSee https://jax.readthedocs.io/en/latest/errors.html#jax.errors.ConcretizationTypeError"
     ]
    }
   ],
   "source": [
    "unit = jnp.array([1])\n",
    "\n",
    "a1 = Octonion(1,0,0,0,0,0,0,0)\n",
    "a2 = Octonion(0,1,0,0,0,0,0,0)\n",
    "a3 = Octonion(0,0,1,0,0,0,0,0)\n",
    "a4 = Octonion(0,0,0,1,0,0,0,0)\n",
    "a5 = Octonion(0,0,0,0,1,0,0,0)\n",
    "a6 = Octonion(0,0,0,0,0,1,0,0)\n",
    "a7 = Octonion(0,0,0,0,0,0,1,0)\n",
    "a8 = Octonion(0,0,0,0,0,0,0,1)\n",
    "\n",
    "def jnp2octonion(x):\n",
    "    return Octonion(x[0],x[1],x[2],x[3],x[4],x[5],x[6],x[7])\n",
    "\n",
    "def octonion2jnp(x):\n",
    "    return jnp.array([x.x_0,x.x_1,x.x_2,x.x_3,x.x_4,x.x_5,x.x_6,x.x_7])\n",
    "\n",
    "@jax.jit\n",
    "def octmult(x,y):\n",
    "    return octonion2jnp(jnp2octonion(j1)*jnp2octonion(j2))\n",
    "\n",
    "\n",
    "j0 = jnp.zeros(shape=(8,1))\n",
    "j1 = jnp.array([1,0,0,0,0,0,0,0])\n",
    "j2 = jnp.array([0,1,0,0,0,0,0,0])\n",
    "j3 = jnp.array([0,0,1,0,0,0,0,0])\n",
    "j4 = jnp.array([0,0,0,1,0,0,0,0])\n",
    "j5 = jnp.array([0,0,0,0,1,0,0,0])\n",
    "j6 = jnp.array([0,0,0,0,0,1,0,0])\n",
    "j7 = jnp.array([0,0,0,0,0,0,1,0])\n",
    "j8 = jnp.array([0,0,0,0,0,0,0,1])\n",
    "\n",
    "octmult(j1,j2)\n"
   ],
   "metadata": {
    "collapsed": false,
    "ExecuteTime": {
     "end_time": "2024-01-28T20:20:09.731821507Z",
     "start_time": "2024-01-28T20:20:09.697189591Z"
    }
   },
   "id": "1048feaa006f7cb4",
   "execution_count": 63
  },
  {
   "cell_type": "code",
   "outputs": [],
   "source": [
    "b0 = Quaternion(1,0,0,0)\n",
    "b1 = Quaternion(0,1,0,0)\n",
    "b2 = Quaternion(0,0,1,0)\n",
    "b3 = Quaternion(0,0,0,1)\n",
    "\n",
    "k0 = jnp.array([1,0,0,0])\n",
    "k1 = jnp.array([0,1,0,0])\n",
    "k2 = jnp.array([0,0,1,0])\n",
    "k3 = jnp.array([0,0,0,1])\n",
    "\n",
    "def jnp2quaternion(x):\n",
    "    return Quaternion(x[0],x[1],x[2],x[3])\n",
    "\n",
    "def quaternion2jnp(x):\n",
    "    return jnp.array([x.w,x.x,x.y,x.z])\n",
    "\n",
    "@jax.jit\n",
    "def quatmult(x,y):\n",
    "    return quaternion2jnp(jnp2quaternion(x)*jnp2quaternion(y))"
   ],
   "metadata": {
    "collapsed": false,
    "ExecuteTime": {
     "end_time": "2024-01-28T20:21:35.065038603Z",
     "start_time": "2024-01-28T20:21:35.023575196Z"
    }
   },
   "id": "fbe1fda6ed0adcfb",
   "execution_count": 64
  },
  {
   "cell_type": "code",
   "outputs": [
    {
     "ename": "ConcretizationTypeError",
     "evalue": "Abstract tracer value encountered where concrete value is expected: traced array with shape int32[].\nThe problem arose with the `float` function. If trying to convert the data type of a value, try using `x.astype(float)` or `jnp.array(x, float)` instead.\nThe error occurred while tracing the function quatmult at /tmp/ipykernel_152593/1867801188.py:17 for jit. This concrete value was not available in Python because it depends on the value of the argument x.\n\nSee https://jax.readthedocs.io/en/latest/errors.html#jax.errors.ConcretizationTypeError",
     "output_type": "error",
     "traceback": [
      "\u001B[0;31m---------------------------------------------------------------------------\u001B[0m",
      "\u001B[0;31mConcretizationTypeError\u001B[0m                   Traceback (most recent call last)",
      "Cell \u001B[0;32mIn[68], line 1\u001B[0m\n\u001B[0;32m----> 1\u001B[0m \u001B[43mquatmult\u001B[49m\u001B[43m(\u001B[49m\u001B[43mk1\u001B[49m\u001B[43m,\u001B[49m\u001B[43mk2\u001B[49m\u001B[43m)\u001B[49m\n",
      "    \u001B[0;31m[... skipping hidden 12 frame]\u001B[0m\n",
      "Cell \u001B[0;32mIn[64], line 19\u001B[0m, in \u001B[0;36mquatmult\u001B[0;34m(x, y)\u001B[0m\n\u001B[1;32m     17\u001B[0m \u001B[38;5;129m@jax\u001B[39m\u001B[38;5;241m.\u001B[39mjit\n\u001B[1;32m     18\u001B[0m \u001B[38;5;28;01mdef\u001B[39;00m \u001B[38;5;21mquatmult\u001B[39m(x,y):\n\u001B[0;32m---> 19\u001B[0m     \u001B[38;5;28;01mreturn\u001B[39;00m quaternion2jnp(\u001B[43mjnp2quaternion\u001B[49m\u001B[43m(\u001B[49m\u001B[43mx\u001B[49m\u001B[43m)\u001B[49m\u001B[38;5;241m*\u001B[39mjnp2quaternion(y))\n",
      "Cell \u001B[0;32mIn[64], line 12\u001B[0m, in \u001B[0;36mjnp2quaternion\u001B[0;34m(x)\u001B[0m\n\u001B[1;32m     11\u001B[0m \u001B[38;5;28;01mdef\u001B[39;00m \u001B[38;5;21mjnp2quaternion\u001B[39m(x):\n\u001B[0;32m---> 12\u001B[0m     \u001B[38;5;28;01mreturn\u001B[39;00m \u001B[43mQuaternion\u001B[49m\u001B[43m(\u001B[49m\u001B[43mx\u001B[49m\u001B[43m[\u001B[49m\u001B[38;5;241;43m0\u001B[39;49m\u001B[43m]\u001B[49m\u001B[43m,\u001B[49m\u001B[43mx\u001B[49m\u001B[43m[\u001B[49m\u001B[38;5;241;43m1\u001B[39;49m\u001B[43m]\u001B[49m\u001B[43m,\u001B[49m\u001B[43mx\u001B[49m\u001B[43m[\u001B[49m\u001B[38;5;241;43m2\u001B[39;49m\u001B[43m]\u001B[49m\u001B[43m,\u001B[49m\u001B[43mx\u001B[49m\u001B[43m[\u001B[49m\u001B[38;5;241;43m3\u001B[39;49m\u001B[43m]\u001B[49m\u001B[43m)\u001B[49m\n",
      "File \u001B[0;32m~/prog/miniconda3/envs/py311/lib/python3.11/site-packages/pyquaternion/quaternion.py:133\u001B[0m, in \u001B[0;36mQuaternion.__init__\u001B[0;34m(self, *args, **kwargs)\u001B[0m\n\u001B[1;32m    129\u001B[0m     \u001B[38;5;28;01mreturn\u001B[39;00m\n\u001B[1;32m    131\u001B[0m \u001B[38;5;28;01melse\u001B[39;00m:\n\u001B[1;32m    132\u001B[0m     \u001B[38;5;66;03m# More than one positional argument supplied\u001B[39;00m\n\u001B[0;32m--> 133\u001B[0m     \u001B[38;5;28mself\u001B[39m\u001B[38;5;241m.\u001B[39mq \u001B[38;5;241m=\u001B[39m \u001B[38;5;28;43mself\u001B[39;49m\u001B[38;5;241;43m.\u001B[39;49m\u001B[43m_validate_number_sequence\u001B[49m\u001B[43m(\u001B[49m\u001B[43margs\u001B[49m\u001B[43m,\u001B[49m\u001B[43m \u001B[49m\u001B[38;5;241;43m4\u001B[39;49m\u001B[43m)\u001B[49m\n",
      "File \u001B[0;32m~/prog/miniconda3/envs/py311/lib/python3.11/site-packages/pyquaternion/quaternion.py:148\u001B[0m, in \u001B[0;36mQuaternion._validate_number_sequence\u001B[0;34m(self, seq, n)\u001B[0m\n\u001B[1;32m    146\u001B[0m \u001B[38;5;28;01mif\u001B[39;00m \u001B[38;5;28mlen\u001B[39m(seq) \u001B[38;5;241m==\u001B[39m n:\n\u001B[1;32m    147\u001B[0m     \u001B[38;5;28;01mtry\u001B[39;00m:\n\u001B[0;32m--> 148\u001B[0m         l \u001B[38;5;241m=\u001B[39m \u001B[43m[\u001B[49m\u001B[38;5;28;43mfloat\u001B[39;49m\u001B[43m(\u001B[49m\u001B[43me\u001B[49m\u001B[43m)\u001B[49m\u001B[43m \u001B[49m\u001B[38;5;28;43;01mfor\u001B[39;49;00m\u001B[43m \u001B[49m\u001B[43me\u001B[49m\u001B[43m \u001B[49m\u001B[38;5;129;43;01min\u001B[39;49;00m\u001B[43m \u001B[49m\u001B[43mseq\u001B[49m\u001B[43m]\u001B[49m\n\u001B[1;32m    149\u001B[0m     \u001B[38;5;28;01mexcept\u001B[39;00m \u001B[38;5;167;01mValueError\u001B[39;00m:\n\u001B[1;32m    150\u001B[0m         \u001B[38;5;28;01mraise\u001B[39;00m \u001B[38;5;167;01mValueError\u001B[39;00m(\u001B[38;5;124m\"\u001B[39m\u001B[38;5;124mOne or more elements in sequence <\u001B[39m\u001B[38;5;132;01m{!r}\u001B[39;00m\u001B[38;5;124m> cannot be interpreted as a real number\u001B[39m\u001B[38;5;124m\"\u001B[39m\u001B[38;5;241m.\u001B[39mformat(seq))\n",
      "File \u001B[0;32m~/prog/miniconda3/envs/py311/lib/python3.11/site-packages/pyquaternion/quaternion.py:148\u001B[0m, in \u001B[0;36m<listcomp>\u001B[0;34m(.0)\u001B[0m\n\u001B[1;32m    146\u001B[0m \u001B[38;5;28;01mif\u001B[39;00m \u001B[38;5;28mlen\u001B[39m(seq) \u001B[38;5;241m==\u001B[39m n:\n\u001B[1;32m    147\u001B[0m     \u001B[38;5;28;01mtry\u001B[39;00m:\n\u001B[0;32m--> 148\u001B[0m         l \u001B[38;5;241m=\u001B[39m [\u001B[38;5;28mfloat\u001B[39m(e) \u001B[38;5;28;01mfor\u001B[39;00m e \u001B[38;5;129;01min\u001B[39;00m seq]\n\u001B[1;32m    149\u001B[0m     \u001B[38;5;28;01mexcept\u001B[39;00m \u001B[38;5;167;01mValueError\u001B[39;00m:\n\u001B[1;32m    150\u001B[0m         \u001B[38;5;28;01mraise\u001B[39;00m \u001B[38;5;167;01mValueError\u001B[39;00m(\u001B[38;5;124m\"\u001B[39m\u001B[38;5;124mOne or more elements in sequence <\u001B[39m\u001B[38;5;132;01m{!r}\u001B[39;00m\u001B[38;5;124m> cannot be interpreted as a real number\u001B[39m\u001B[38;5;124m\"\u001B[39m\u001B[38;5;241m.\u001B[39mformat(seq))\n",
      "    \u001B[0;31m[... skipping hidden 1 frame]\u001B[0m\n",
      "File \u001B[0;32m~/prog/miniconda3/envs/py311/lib/python3.11/site-packages/jax/_src/core.py:1516\u001B[0m, in \u001B[0;36mconcretization_function_error.<locals>.error\u001B[0;34m(self, arg)\u001B[0m\n\u001B[1;32m   1515\u001B[0m \u001B[38;5;28;01mdef\u001B[39;00m \u001B[38;5;21merror\u001B[39m(\u001B[38;5;28mself\u001B[39m, arg):\n\u001B[0;32m-> 1516\u001B[0m   \u001B[38;5;28;01mraise\u001B[39;00m ConcretizationTypeError(arg, fname_context)\n",
      "\u001B[0;31mConcretizationTypeError\u001B[0m: Abstract tracer value encountered where concrete value is expected: traced array with shape int32[].\nThe problem arose with the `float` function. If trying to convert the data type of a value, try using `x.astype(float)` or `jnp.array(x, float)` instead.\nThe error occurred while tracing the function quatmult at /tmp/ipykernel_152593/1867801188.py:17 for jit. This concrete value was not available in Python because it depends on the value of the argument x.\n\nSee https://jax.readthedocs.io/en/latest/errors.html#jax.errors.ConcretizationTypeError"
     ]
    }
   ],
   "source": [
    "quatmult(k1,k2)"
   ],
   "metadata": {
    "collapsed": false,
    "ExecuteTime": {
     "end_time": "2024-01-28T20:21:53.252489034Z",
     "start_time": "2024-01-28T20:21:53.190122884Z"
    }
   },
   "id": "adde0a627cce9758",
   "execution_count": 68
  },
  {
   "cell_type": "code",
   "outputs": [
    {
     "data": {
      "text/plain": "Array([0., 1., 0., 0., 0., 0., 0., 0.], dtype=float32)"
     },
     "execution_count": 58,
     "metadata": {},
     "output_type": "execute_result"
    }
   ],
   "source": [
    "octonion2jnp(jnp2octonion(j1)*jnp2octonion(j2))"
   ],
   "metadata": {
    "collapsed": false,
    "ExecuteTime": {
     "end_time": "2024-01-28T20:19:27.576199403Z",
     "start_time": "2024-01-28T20:19:27.552137065Z"
    }
   },
   "id": "55ccd04d58155937",
   "execution_count": 58
  },
  {
   "cell_type": "code",
   "outputs": [
    {
     "data": {
      "text/plain": "0"
     },
     "execution_count": 51,
     "metadata": {},
     "output_type": "execute_result"
    }
   ],
   "source": [
    "dir(a8)\n",
    "a8.x_0\n"
   ],
   "metadata": {
    "collapsed": false,
    "ExecuteTime": {
     "end_time": "2024-01-28T20:18:32.137216290Z",
     "start_time": "2024-01-28T20:18:32.096845729Z"
    }
   },
   "id": "f07d89e992d429de",
   "execution_count": 51
  }
 ],
 "metadata": {
  "kernelspec": {
   "display_name": "Python 3",
   "language": "python",
   "name": "python3"
  },
  "language_info": {
   "codemirror_mode": {
    "name": "ipython",
    "version": 2
   },
   "file_extension": ".py",
   "mimetype": "text/x-python",
   "name": "python",
   "nbconvert_exporter": "python",
   "pygments_lexer": "ipython2",
   "version": "2.7.6"
  }
 },
 "nbformat": 4,
 "nbformat_minor": 5
}
