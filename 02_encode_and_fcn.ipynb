{
 "cells": [
  {
   "cell_type": "code",
   "execution_count": null,
   "id": "f2821fcc-4422-4cfd-87f8-83d6f94a2ad9",
   "metadata": {},
   "outputs": [
    {
     "name": "stderr",
     "output_type": "stream",
     "text": [
      "2023-12-30 12:41:11.707657: E external/local_xla/xla/stream_executor/cuda/cuda_dnn.cc:9261] Unable to register cuDNN factory: Attempting to register factory for plugin cuDNN when one has already been registered\n",
      "2023-12-30 12:41:11.707689: E external/local_xla/xla/stream_executor/cuda/cuda_fft.cc:607] Unable to register cuFFT factory: Attempting to register factory for plugin cuFFT when one has already been registered\n",
      "2023-12-30 12:41:11.708963: E external/local_xla/xla/stream_executor/cuda/cuda_blas.cc:1515] Unable to register cuBLAS factory: Attempting to register factory for plugin cuBLAS when one has already been registered\n",
      "2023-12-30 12:41:12.556659: W tensorflow/compiler/tf2tensorrt/utils/py_utils.cc:38] TF-TRT Warning: Could not find TensorRT\n"
     ]
    }
   ],
   "source": [
    "import jax, flax, numpy\n",
    "import flax.linen as nn\n",
    "from notebookinit import *\n",
    "import jax.numpy as jnp\n",
    "from sklearn.model_selection import train_test_split\n",
    "import optax\n",
    "import tiktoken"
   ]
  },
  {
   "cell_type": "code",
   "execution_count": null,
   "id": "393de238-e84d-4768-898e-f6bfb5df56b7",
   "metadata": {},
   "outputs": [],
   "source": [
    "# Utilities blatantly missing from flax\n",
    "def count_params(params):\n",
    "    return sum(jax.tree_util.tree_leaves(jax.tree_util.tree_map(lambda x: x.size, params)))\n",
    "\n",
    "# create the loss function\n",
    "def make_loss(_model):\n",
    "    @jax.jit\n",
    "    def loss_fn(params, x_batched, y_batched):\n",
    "      # Define the squared loss for a single pair (x,y)\n",
    "      def squared_error(x, y):\n",
    "        pred = _model.apply(params, x)\n",
    "        return jnp.inner(y-pred, y-pred) / 2.0\n",
    "      # Vectorize the previous to compute the average of the loss on all samples.\n",
    "      return jnp.squeeze(jnp.mean(jax.vmap(squared_error)(x_batched,y_batched), axis=0))\n",
    "    return loss_fn"
   ]
  },
  {
   "cell_type": "code",
   "execution_count": null,
   "id": "79493146-5954-4e2d-8bf3-3e1eb23fea8b",
   "metadata": {},
   "outputs": [],
   "source": [
    "enc = tiktoken.encoding_for_model(\"gpt-4\")"
   ]
  },
  {
   "cell_type": "code",
   "execution_count": null,
   "id": "0474afc6-ad21-4031-97b0-f930112f5974",
   "metadata": {},
   "outputs": [
    {
     "data": {
      "text/plain": [
       "100277"
      ]
     },
     "execution_count": null,
     "metadata": {},
     "output_type": "execute_result"
    }
   ],
   "source": [
    "enc.n_vocab"
   ]
  },
  {
   "cell_type": "code",
   "execution_count": null,
   "id": "638cf53f-0d95-4f1b-be7d-7cdf6eb930c9",
   "metadata": {},
   "outputs": [
    {
     "data": {
      "text/plain": [
       "[6151, 1070]"
      ]
     },
     "execution_count": null,
     "metadata": {},
     "output_type": "execute_result"
    }
   ],
   "source": [
    "enc.encode(\"hi there\")\n"
   ]
  },
  {
   "cell_type": "code",
   "execution_count": null,
   "id": "f1b02161-bbd2-4413-b16c-e9ebbc43322d",
   "metadata": {},
   "outputs": [
    {
     "data": {
      "text/plain": [
       "501385"
      ]
     },
     "execution_count": null,
     "metadata": {},
     "output_type": "execute_result"
    }
   ],
   "source": [
    "indices_input = jnp.array(enc.encode(\"hi there\"))\n",
    "embedding_layer = nn.Embed(num_embeddings=enc.n_vocab, features=5)\n",
    "embedding_vars = embedding_layer.init(jax.random.key(0), indices_input)\n",
    "count_params(embedding_vars)"
   ]
  },
  {
   "cell_type": "code",
   "execution_count": null,
   "id": "0ee04d0e-2918-4017-88d5-715f4b46e8dc",
   "metadata": {},
   "outputs": [],
   "source": [
    "import numpy\n"
   ]
  },
  {
   "cell_type": "code",
   "execution_count": null,
   "id": "f702c66f-da05-4c0c-9c3a-8d00f1ca3be9",
   "metadata": {},
   "outputs": [
    {
     "ename": "NameError",
     "evalue": "name 'numpy' is not defined",
     "output_type": "error",
     "traceback": [
      "\u001b[0;31m---------------------------------------------------------------------------\u001b[0m",
      "\u001b[0;31mNameError\u001b[0m                                 Traceback (most recent call last)",
      "Cell \u001b[0;32mIn[140], line 2\u001b[0m\n\u001b[1;32m      1\u001b[0m \u001b[38;5;28;01mimport\u001b[39;00m \u001b[38;5;21;01mlib_kata\u001b[39;00m\n\u001b[0;32m----> 2\u001b[0m text_encoded, text_decoder \u001b[38;5;241m=\u001b[39m \u001b[43mlib_kata\u001b[49m\u001b[38;5;241;43m.\u001b[39;49m\u001b[43mload_dataset_and_tokenize\u001b[49m\u001b[43m(\u001b[49m\u001b[43m)\u001b[49m\n",
      "File \u001b[0;32m~/git/sapient/KataBasicFlax/lib_kata.py:9\u001b[0m, in \u001b[0;36mload_dataset_and_tokenize\u001b[0;34m()\u001b[0m\n\u001b[1;32m      4\u001b[0m     text \u001b[38;5;241m=\u001b[39m f\u001b[38;5;241m.\u001b[39mread()\n\u001b[1;32m      6\u001b[0m \u001b[38;5;66;03m# but not with the GPT-4 tokenizer, it is too large for this experiment. Do something quite a bit smaller for now.\u001b[39;00m\n\u001b[1;32m      7\u001b[0m \u001b[38;5;66;03m# shakespeare_encoded = jnp.array(enc.encode(text))\u001b[39;00m\n\u001b[0;32m----> 9\u001b[0m text_numpy \u001b[38;5;241m=\u001b[39m \u001b[43mnumpy\u001b[49m\u001b[38;5;241m.\u001b[39marray([x \u001b[38;5;28;01mfor\u001b[39;00m x \u001b[38;5;129;01min\u001b[39;00m text\u001b[38;5;241m.\u001b[39mlower()])\n\u001b[1;32m     10\u001b[0m chars, counts \u001b[38;5;241m=\u001b[39m numpy\u001b[38;5;241m.\u001b[39munique(text_numpy, return_counts\u001b[38;5;241m=\u001b[39m\u001b[38;5;28;01mTrue\u001b[39;00m)\n\u001b[1;32m     11\u001b[0m count_sorter \u001b[38;5;241m=\u001b[39m numpy\u001b[38;5;241m.\u001b[39margsort(counts)[::\u001b[38;5;241m-\u001b[39m\u001b[38;5;241m1\u001b[39m] \u001b[38;5;66;03m# inverse frequency sort\u001b[39;00m\n",
      "\u001b[0;31mNameError\u001b[0m: name 'numpy' is not defined"
     ]
    }
   ],
   "source": [
    "import lib_kata\n",
    "text_encoded, text_decoder = lib_kata.load_dataset_and_tokenize()\n",
    "\n"
   ]
  },
  {
   "cell_type": "code",
   "execution_count": null,
   "id": "8cf648b7-9bbb-4664-b2bd-03675108d8ac",
   "metadata": {},
   "outputs": [
    {
     "data": {
      "text/plain": [
       "dtype('<U1')"
      ]
     },
     "execution_count": null,
     "metadata": {},
     "output_type": "execute_result"
    }
   ],
   "source": [
    "text_numpy.dtype"
   ]
  },
  {
   "cell_type": "code",
   "execution_count": null,
   "id": "42384688-bb0d-42f4-83d7-23a5db87a42a",
   "metadata": {},
   "outputs": [
    {
     "data": {
      "text/plain": [
       "(1115394,)"
      ]
     },
     "execution_count": null,
     "metadata": {},
     "output_type": "execute_result"
    }
   ],
   "source": [
    "text_numpy.shape"
   ]
  },
  {
   "cell_type": "code",
   "execution_count": null,
   "id": "78d2aeb5-5f07-4657-bdc2-7f4bdfe9cb18",
   "metadata": {},
   "outputs": [],
   "source": []
  },
  {
   "cell_type": "code",
   "execution_count": null,
   "id": "e72c0a9f-010e-43b4-a53b-fa4a9e0dee49",
   "metadata": {},
   "outputs": [
    {
     "name": "stdout",
     "output_type": "stream",
     "text": [
      "vocabulary: \n",
      " ,e,t,o,a,i,h,s,r,n,\n",
      ",l,d,u,m,y,w,,,c,f,g,b,p,:,k,v,.,',;,?,!,-,j,q,x,z,3,&,$ \n",
      " size: 39 chars\n"
     ]
    }
   ],
   "source": []
  },
  {
   "cell_type": "code",
   "execution_count": null,
   "id": "4f9f7c14-28b5-4338-b40f-8f6340314b71",
   "metadata": {},
   "outputs": [
    {
     "data": {
      "text/plain": [
       "Array([1, 2, 3], dtype=int32)"
      ]
     },
     "execution_count": null,
     "metadata": {},
     "output_type": "execute_result"
    }
   ],
   "source": [
    "jnp.array([1,2,3], dtype=jnp.int32)"
   ]
  },
  {
   "cell_type": "code",
   "execution_count": null,
   "id": "77ed4b74-a95c-4bb8-933a-da467fa9192e",
   "metadata": {},
   "outputs": [],
   "source": []
  },
  {
   "cell_type": "code",
   "execution_count": null,
   "id": "d9f60cd9-beb1-4498-8e5d-14a6ae53abfe",
   "metadata": {},
   "outputs": [
    {
     "name": "stdout",
     "output_type": "stream",
     "text": [
      "first citizen:\n",
      "before we proceed any further, hear me speak.\n",
      "\n",
      "all:\n",
      "speak, speak.\n",
      "\n",
      "first citizen:\n",
      "you\n"
     ]
    }
   ],
   "source": []
  },
  {
   "cell_type": "code",
   "execution_count": null,
   "id": "028f2487-30d2-403c-9ca7-266b29f8692f",
   "metadata": {},
   "outputs": [],
   "source": []
  },
  {
   "cell_type": "code",
   "execution_count": null,
   "id": "4fad38dc-c758-4ed2-948a-ce9274b6a688",
   "metadata": {},
   "outputs": [],
   "source": [
    "q_encoded = [stoi[x] for x in text_numpy]"
   ]
  },
  {
   "cell_type": "code",
   "execution_count": null,
   "id": "5582e2fd-8000-4e0f-be8f-d4ce34567f5f",
   "metadata": {},
   "outputs": [
    {
     "name": "stdout",
     "output_type": "stream",
     "text": [
      "first citizen:\n",
      "before we proceed any further, hear me speak.\n",
      "\n",
      "all:\n",
      "speak, speak.\n",
      "\n",
      "first citizen:\n",
      "you are all resolved rather to die than to famish?\n",
      "\n",
      "all:\n",
      "resolved. resolved.\n",
      "\n",
      "first citizen:\n",
      "first, you know caius marcius is chief enemy to the people.\n",
      "\n",
      "all:\n",
      "we know't, we know't.\n",
      "\n",
      "first citizen:\n",
      "let us\n"
     ]
    }
   ],
   "source": [
    "q_decoded = [itos[x] for x in q_encoded]\n",
    "print(''.join(q_decoded[0:300]))"
   ]
  },
  {
   "cell_type": "code",
   "execution_count": null,
   "id": "d27b2dd6-fed1-4bd3-97d8-a8522e72ba53",
   "metadata": {},
   "outputs": [
    {
     "data": {
      "text/plain": [
       "array([' ', 'e', 't', 'o', 'a', 'i', 'h', 's', 'r', 'n', '\\n', 'l', 'd',\n",
       "       'u', 'm', 'y', 'w', ',', 'c', 'f', 'g', 'b', 'p', ':', 'k', 'v',\n",
       "       '.', \"'\", ';', '?', '!', '-', 'j', 'q', 'x', 'z', '3', '&', '$'],\n",
       "      dtype='<U1')"
      ]
     },
     "execution_count": null,
     "metadata": {},
     "output_type": "execute_result"
    }
   ],
   "source": [
    "vocabulary"
   ]
  },
  {
   "cell_type": "code",
   "execution_count": null,
   "id": "55215839-3866-4a01-b6b6-7da17cfe0a4d",
   "metadata": {},
   "outputs": [
    {
     "data": {
      "text/plain": [
       "\u001b[0;31mSignature:\u001b[0m       \u001b[0mnumpy\u001b[0m\u001b[0;34m.\u001b[0m\u001b[0margsort\u001b[0m\u001b[0;34m(\u001b[0m\u001b[0ma\u001b[0m\u001b[0;34m,\u001b[0m \u001b[0maxis\u001b[0m\u001b[0;34m=\u001b[0m\u001b[0;34m-\u001b[0m\u001b[0;36m1\u001b[0m\u001b[0;34m,\u001b[0m \u001b[0mkind\u001b[0m\u001b[0;34m=\u001b[0m\u001b[0;32mNone\u001b[0m\u001b[0;34m,\u001b[0m \u001b[0morder\u001b[0m\u001b[0;34m=\u001b[0m\u001b[0;32mNone\u001b[0m\u001b[0;34m)\u001b[0m\u001b[0;34m\u001b[0m\u001b[0;34m\u001b[0m\u001b[0m\n",
       "\u001b[0;31mCall signature:\u001b[0m  \u001b[0mnumpy\u001b[0m\u001b[0;34m.\u001b[0m\u001b[0margsort\u001b[0m\u001b[0;34m(\u001b[0m\u001b[0;34m*\u001b[0m\u001b[0margs\u001b[0m\u001b[0;34m,\u001b[0m \u001b[0;34m**\u001b[0m\u001b[0mkwargs\u001b[0m\u001b[0;34m)\u001b[0m\u001b[0;34m\u001b[0m\u001b[0;34m\u001b[0m\u001b[0m\n",
       "\u001b[0;31mType:\u001b[0m            _ArrayFunctionDispatcher\n",
       "\u001b[0;31mString form:\u001b[0m     <function argsort>\n",
       "\u001b[0;31mFile:\u001b[0m            ~/prog/miniconda3/envs/py311/lib/python3.11/site-packages/numpy/core/fromnumeric.py\n",
       "\u001b[0;31mDocstring:\u001b[0m      \n",
       "Returns the indices that would sort an array.\n",
       "\n",
       "Perform an indirect sort along the given axis using the algorithm specified\n",
       "by the `kind` keyword. It returns an array of indices of the same shape as\n",
       "`a` that index data along the given axis in sorted order.\n",
       "\n",
       "Parameters\n",
       "----------\n",
       "a : array_like\n",
       "    Array to sort.\n",
       "axis : int or None, optional\n",
       "    Axis along which to sort.  The default is -1 (the last axis). If None,\n",
       "    the flattened array is used.\n",
       "kind : {'quicksort', 'mergesort', 'heapsort', 'stable'}, optional\n",
       "    Sorting algorithm. The default is 'quicksort'. Note that both 'stable'\n",
       "    and 'mergesort' use timsort under the covers and, in general, the\n",
       "    actual implementation will vary with data type. The 'mergesort' option\n",
       "    is retained for backwards compatibility.\n",
       "\n",
       "    .. versionchanged:: 1.15.0.\n",
       "       The 'stable' option was added.\n",
       "order : str or list of str, optional\n",
       "    When `a` is an array with fields defined, this argument specifies\n",
       "    which fields to compare first, second, etc.  A single field can\n",
       "    be specified as a string, and not all fields need be specified,\n",
       "    but unspecified fields will still be used, in the order in which\n",
       "    they come up in the dtype, to break ties.\n",
       "\n",
       "Returns\n",
       "-------\n",
       "index_array : ndarray, int\n",
       "    Array of indices that sort `a` along the specified `axis`.\n",
       "    If `a` is one-dimensional, ``a[index_array]`` yields a sorted `a`.\n",
       "    More generally, ``np.take_along_axis(a, index_array, axis=axis)``\n",
       "    always yields the sorted `a`, irrespective of dimensionality.\n",
       "\n",
       "See Also\n",
       "--------\n",
       "sort : Describes sorting algorithms used.\n",
       "lexsort : Indirect stable sort with multiple keys.\n",
       "ndarray.sort : Inplace sort.\n",
       "argpartition : Indirect partial sort.\n",
       "take_along_axis : Apply ``index_array`` from argsort\n",
       "                  to an array as if by calling sort.\n",
       "\n",
       "Notes\n",
       "-----\n",
       "See `sort` for notes on the different sorting algorithms.\n",
       "\n",
       "As of NumPy 1.4.0 `argsort` works with real/complex arrays containing\n",
       "nan values. The enhanced sort order is documented in `sort`.\n",
       "\n",
       "Examples\n",
       "--------\n",
       "One dimensional array:\n",
       "\n",
       ">>> x = np.array([3, 1, 2])\n",
       ">>> np.argsort(x)\n",
       "array([1, 2, 0])\n",
       "\n",
       "Two-dimensional array:\n",
       "\n",
       ">>> x = np.array([[0, 3], [2, 2]])\n",
       ">>> x\n",
       "array([[0, 3],\n",
       "       [2, 2]])\n",
       "\n",
       ">>> ind = np.argsort(x, axis=0)  # sorts along first axis (down)\n",
       ">>> ind\n",
       "array([[0, 1],\n",
       "       [1, 0]])\n",
       ">>> np.take_along_axis(x, ind, axis=0)  # same as np.sort(x, axis=0)\n",
       "array([[0, 2],\n",
       "       [2, 3]])\n",
       "\n",
       ">>> ind = np.argsort(x, axis=1)  # sorts along last axis (across)\n",
       ">>> ind\n",
       "array([[0, 1],\n",
       "       [0, 1]])\n",
       ">>> np.take_along_axis(x, ind, axis=1)  # same as np.sort(x, axis=1)\n",
       "array([[0, 3],\n",
       "       [2, 2]])\n",
       "\n",
       "Indices of the sorted elements of a N-dimensional array:\n",
       "\n",
       ">>> ind = np.unravel_index(np.argsort(x, axis=None), x.shape)\n",
       ">>> ind\n",
       "(array([0, 1, 1, 0]), array([0, 0, 1, 1]))\n",
       ">>> x[ind]  # same as np.sort(x, axis=None)\n",
       "array([0, 2, 2, 3])\n",
       "\n",
       "Sorting with keys:\n",
       "\n",
       ">>> x = np.array([(1, 0), (0, 1)], dtype=[('x', '<i4'), ('y', '<i4')])\n",
       ">>> x\n",
       "array([(1, 0), (0, 1)],\n",
       "      dtype=[('x', '<i4'), ('y', '<i4')])\n",
       "\n",
       ">>> np.argsort(x, order=('x','y'))\n",
       "array([1, 0])\n",
       "\n",
       ">>> np.argsort(x, order=('y','x'))\n",
       "array([0, 1])\n",
       "\u001b[0;31mClass docstring:\u001b[0m\n",
       "Class to wrap functions with checks for __array_function__ overrides.\n",
       "\n",
       "All arguments are required, and can only be passed by position.\n",
       "\n",
       "Parameters\n",
       "----------\n",
       "dispatcher : function or None\n",
       "    The dispatcher function that returns a single sequence-like object\n",
       "    of all arguments relevant.  It must have the same signature (except\n",
       "    the default values) as the actual implementation.\n",
       "    If ``None``, this is a ``like=`` dispatcher and the\n",
       "    ``_ArrayFunctionDispatcher`` must be called with ``like`` as the\n",
       "    first (additional and positional) argument.\n",
       "implementation : function\n",
       "    Function that implements the operation on NumPy arrays without\n",
       "    overrides.  Arguments passed calling the ``_ArrayFunctionDispatcher``\n",
       "    will be forwarded to this (and the ``dispatcher``) as if using\n",
       "    ``*args, **kwargs``.\n",
       "\n",
       "Attributes\n",
       "----------\n",
       "_implementation : function\n",
       "    The original implementation passed in."
      ]
     },
     "metadata": {},
     "output_type": "display_data"
    }
   ],
   "source": [
    "numpy.argsort?"
   ]
  },
  {
   "cell_type": "code",
   "execution_count": null,
   "id": "34fb7b1e-fb9a-477d-a6a5-1e38e385f734",
   "metadata": {},
   "outputs": [
    {
     "data": {
      "text/plain": [
       "\u001b[0;31mSignature:\u001b[0m       \u001b[0mnumpy\u001b[0m\u001b[0;34m.\u001b[0m\u001b[0msort\u001b[0m\u001b[0;34m(\u001b[0m\u001b[0ma\u001b[0m\u001b[0;34m,\u001b[0m \u001b[0maxis\u001b[0m\u001b[0;34m=\u001b[0m\u001b[0;34m-\u001b[0m\u001b[0;36m1\u001b[0m\u001b[0;34m,\u001b[0m \u001b[0mkind\u001b[0m\u001b[0;34m=\u001b[0m\u001b[0;32mNone\u001b[0m\u001b[0;34m,\u001b[0m \u001b[0morder\u001b[0m\u001b[0;34m=\u001b[0m\u001b[0;32mNone\u001b[0m\u001b[0;34m)\u001b[0m\u001b[0;34m\u001b[0m\u001b[0;34m\u001b[0m\u001b[0m\n",
       "\u001b[0;31mCall signature:\u001b[0m  \u001b[0mnumpy\u001b[0m\u001b[0;34m.\u001b[0m\u001b[0msort\u001b[0m\u001b[0;34m(\u001b[0m\u001b[0;34m*\u001b[0m\u001b[0margs\u001b[0m\u001b[0;34m,\u001b[0m \u001b[0;34m**\u001b[0m\u001b[0mkwargs\u001b[0m\u001b[0;34m)\u001b[0m\u001b[0;34m\u001b[0m\u001b[0;34m\u001b[0m\u001b[0m\n",
       "\u001b[0;31mType:\u001b[0m            _ArrayFunctionDispatcher\n",
       "\u001b[0;31mString form:\u001b[0m     <function sort>\n",
       "\u001b[0;31mFile:\u001b[0m            ~/prog/miniconda3/envs/py311/lib/python3.11/site-packages/numpy/core/fromnumeric.py\n",
       "\u001b[0;31mDocstring:\u001b[0m      \n",
       "Return a sorted copy of an array.\n",
       "\n",
       "Parameters\n",
       "----------\n",
       "a : array_like\n",
       "    Array to be sorted.\n",
       "axis : int or None, optional\n",
       "    Axis along which to sort. If None, the array is flattened before\n",
       "    sorting. The default is -1, which sorts along the last axis.\n",
       "kind : {'quicksort', 'mergesort', 'heapsort', 'stable'}, optional\n",
       "    Sorting algorithm. The default is 'quicksort'. Note that both 'stable'\n",
       "    and 'mergesort' use timsort or radix sort under the covers and, in general,\n",
       "    the actual implementation will vary with data type. The 'mergesort' option\n",
       "    is retained for backwards compatibility.\n",
       "\n",
       "    .. versionchanged:: 1.15.0.\n",
       "       The 'stable' option was added.\n",
       "\n",
       "order : str or list of str, optional\n",
       "    When `a` is an array with fields defined, this argument specifies\n",
       "    which fields to compare first, second, etc.  A single field can\n",
       "    be specified as a string, and not all fields need be specified,\n",
       "    but unspecified fields will still be used, in the order in which\n",
       "    they come up in the dtype, to break ties.\n",
       "\n",
       "Returns\n",
       "-------\n",
       "sorted_array : ndarray\n",
       "    Array of the same type and shape as `a`.\n",
       "\n",
       "See Also\n",
       "--------\n",
       "ndarray.sort : Method to sort an array in-place.\n",
       "argsort : Indirect sort.\n",
       "lexsort : Indirect stable sort on multiple keys.\n",
       "searchsorted : Find elements in a sorted array.\n",
       "partition : Partial sort.\n",
       "\n",
       "Notes\n",
       "-----\n",
       "The various sorting algorithms are characterized by their average speed,\n",
       "worst case performance, work space size, and whether they are stable. A\n",
       "stable sort keeps items with the same key in the same relative\n",
       "order. The four algorithms implemented in NumPy have the following\n",
       "properties:\n",
       "\n",
       "=========== ======= ============= ============ ========\n",
       "   kind      speed   worst case    work space   stable\n",
       "=========== ======= ============= ============ ========\n",
       "'quicksort'    1     O(n^2)            0          no\n",
       "'heapsort'     3     O(n*log(n))       0          no\n",
       "'mergesort'    2     O(n*log(n))      ~n/2        yes\n",
       "'timsort'      2     O(n*log(n))      ~n/2        yes\n",
       "=========== ======= ============= ============ ========\n",
       "\n",
       ".. note:: The datatype determines which of 'mergesort' or 'timsort'\n",
       "   is actually used, even if 'mergesort' is specified. User selection\n",
       "   at a finer scale is not currently available.\n",
       "\n",
       "All the sort algorithms make temporary copies of the data when\n",
       "sorting along any but the last axis.  Consequently, sorting along\n",
       "the last axis is faster and uses less space than sorting along\n",
       "any other axis.\n",
       "\n",
       "The sort order for complex numbers is lexicographic. If both the real\n",
       "and imaginary parts are non-nan then the order is determined by the\n",
       "real parts except when they are equal, in which case the order is\n",
       "determined by the imaginary parts.\n",
       "\n",
       "Previous to numpy 1.4.0 sorting real and complex arrays containing nan\n",
       "values led to undefined behaviour. In numpy versions >= 1.4.0 nan\n",
       "values are sorted to the end. The extended sort order is:\n",
       "\n",
       "  * Real: [R, nan]\n",
       "  * Complex: [R + Rj, R + nanj, nan + Rj, nan + nanj]\n",
       "\n",
       "where R is a non-nan real value. Complex values with the same nan\n",
       "placements are sorted according to the non-nan part if it exists.\n",
       "Non-nan values are sorted as before.\n",
       "\n",
       ".. versionadded:: 1.12.0\n",
       "\n",
       "quicksort has been changed to `introsort <https://en.wikipedia.org/wiki/Introsort>`_.\n",
       "When sorting does not make enough progress it switches to\n",
       "`heapsort <https://en.wikipedia.org/wiki/Heapsort>`_.\n",
       "This implementation makes quicksort O(n*log(n)) in the worst case.\n",
       "\n",
       "'stable' automatically chooses the best stable sorting algorithm\n",
       "for the data type being sorted.\n",
       "It, along with 'mergesort' is currently mapped to\n",
       "`timsort <https://en.wikipedia.org/wiki/Timsort>`_\n",
       "or `radix sort <https://en.wikipedia.org/wiki/Radix_sort>`_\n",
       "depending on the data type.\n",
       "API forward compatibility currently limits the\n",
       "ability to select the implementation and it is hardwired for the different\n",
       "data types.\n",
       "\n",
       ".. versionadded:: 1.17.0\n",
       "\n",
       "Timsort is added for better performance on already or nearly\n",
       "sorted data. On random data timsort is almost identical to\n",
       "mergesort. It is now used for stable sort while quicksort is still the\n",
       "default sort if none is chosen. For timsort details, refer to\n",
       "`CPython listsort.txt <https://github.com/python/cpython/blob/3.7/Objects/listsort.txt>`_.\n",
       "'mergesort' and 'stable' are mapped to radix sort for integer data types. Radix sort is an\n",
       "O(n) sort instead of O(n log n).\n",
       "\n",
       ".. versionchanged:: 1.18.0\n",
       "\n",
       "NaT now sorts to the end of arrays for consistency with NaN.\n",
       "\n",
       "Examples\n",
       "--------\n",
       ">>> a = np.array([[1,4],[3,1]])\n",
       ">>> np.sort(a)                # sort along the last axis\n",
       "array([[1, 4],\n",
       "       [1, 3]])\n",
       ">>> np.sort(a, axis=None)     # sort the flattened array\n",
       "array([1, 1, 3, 4])\n",
       ">>> np.sort(a, axis=0)        # sort along the first axis\n",
       "array([[1, 1],\n",
       "       [3, 4]])\n",
       "\n",
       "Use the `order` keyword to specify a field to use when sorting a\n",
       "structured array:\n",
       "\n",
       ">>> dtype = [('name', 'S10'), ('height', float), ('age', int)]\n",
       ">>> values = [('Arthur', 1.8, 41), ('Lancelot', 1.9, 38),\n",
       "...           ('Galahad', 1.7, 38)]\n",
       ">>> a = np.array(values, dtype=dtype)       # create a structured array\n",
       ">>> np.sort(a, order='height')                        # doctest: +SKIP\n",
       "array([('Galahad', 1.7, 38), ('Arthur', 1.8, 41),\n",
       "       ('Lancelot', 1.8999999999999999, 38)],\n",
       "      dtype=[('name', '|S10'), ('height', '<f8'), ('age', '<i4')])\n",
       "\n",
       "Sort by age, then height if ages are equal:\n",
       "\n",
       ">>> np.sort(a, order=['age', 'height'])               # doctest: +SKIP\n",
       "array([('Galahad', 1.7, 38), ('Lancelot', 1.8999999999999999, 38),\n",
       "       ('Arthur', 1.8, 41)],\n",
       "      dtype=[('name', '|S10'), ('height', '<f8'), ('age', '<i4')])\n",
       "\u001b[0;31mClass docstring:\u001b[0m\n",
       "Class to wrap functions with checks for __array_function__ overrides.\n",
       "\n",
       "All arguments are required, and can only be passed by position.\n",
       "\n",
       "Parameters\n",
       "----------\n",
       "dispatcher : function or None\n",
       "    The dispatcher function that returns a single sequence-like object\n",
       "    of all arguments relevant.  It must have the same signature (except\n",
       "    the default values) as the actual implementation.\n",
       "    If ``None``, this is a ``like=`` dispatcher and the\n",
       "    ``_ArrayFunctionDispatcher`` must be called with ``like`` as the\n",
       "    first (additional and positional) argument.\n",
       "implementation : function\n",
       "    Function that implements the operation on NumPy arrays without\n",
       "    overrides.  Arguments passed calling the ``_ArrayFunctionDispatcher``\n",
       "    will be forwarded to this (and the ``dispatcher``) as if using\n",
       "    ``*args, **kwargs``.\n",
       "\n",
       "Attributes\n",
       "----------\n",
       "_implementation : function\n",
       "    The original implementation passed in."
      ]
     },
     "metadata": {},
     "output_type": "display_data"
    }
   ],
   "source": [
    "numpy.sort?"
   ]
  },
  {
   "cell_type": "code",
   "execution_count": null,
   "id": "11819c2d-4150-4f79-bf74-07612144bc43",
   "metadata": {},
   "outputs": [
    {
     "data": {
      "text/plain": [
       "(301829,)"
      ]
     },
     "execution_count": null,
     "metadata": {},
     "output_type": "execute_result"
    }
   ],
   "source": [
    "shakespeare_encoded.shape"
   ]
  },
  {
   "cell_type": "code",
   "execution_count": null,
   "id": "9c673bbb-dc11-481a-90b2-b36b9330a93a",
   "metadata": {},
   "outputs": [
    {
     "data": {
      "text/plain": [
       "(12111,)"
      ]
     },
     "execution_count": null,
     "metadata": {},
     "output_type": "execute_result"
    }
   ],
   "source": [
    "jnp.unique(shakespeare_encoded).shape"
   ]
  },
  {
   "cell_type": "code",
   "execution_count": null,
   "id": "a448d6fa-5dea-4b10-80bb-75b84dd6d74c",
   "metadata": {},
   "outputs": [],
   "source": [
    "# observation: for a GPT-4 encoding, even a \"reduced set\" is still 12'111 unique tokens.\n",
    "# for this toy model, it may be better to use unique lowercase characters only.."
   ]
  },
  {
   "cell_type": "code",
   "execution_count": null,
   "id": "ca7d4a9f-9d2c-4cd8-ad17-210c9b29e6a4",
   "metadata": {},
   "outputs": [
    {
     "name": "stdout",
     "output_type": "stream",
     "text": [
      "gpu\n"
     ]
    }
   ],
   "source": [
    "from jax.lib import xla_bridge\n",
    "print(xla_bridge.get_backend().platform)"
   ]
  },
  {
   "cell_type": "code",
   "execution_count": null,
   "id": "7776d3b4-b7ae-4d4a-94d3-36bd099aed0a",
   "metadata": {},
   "outputs": [
    {
     "data": {
      "text/plain": [
       "Array([0.28943312, 0.31987306, 0.39069384], dtype=float32)"
      ]
     },
     "execution_count": null,
     "metadata": {},
     "output_type": "execute_result"
    }
   ],
   "source": [
    "nn.activation.softmax(jnp.array([0.1, 0.2, 0.4]))"
   ]
  },
  {
   "cell_type": "code",
   "execution_count": null,
   "id": "882529a9-5930-4896-8096-d1b3e9e44812",
   "metadata": {},
   "outputs": [
    {
     "data": {
      "text/plain": [
       "Array([[1., 0., 0.],\n",
       "       [0., 1., 0.],\n",
       "       [0., 0., 1.]], dtype=float32)"
      ]
     },
     "execution_count": null,
     "metadata": {},
     "output_type": "execute_result"
    }
   ],
   "source": [
    "nn.activation.one_hot([0,1,2],3)"
   ]
  },
  {
   "cell_type": "code",
   "execution_count": null,
   "id": "7edd972a-1e52-46fa-94b8-0507cba6c202",
   "metadata": {},
   "outputs": [],
   "source": []
  }
 ],
 "metadata": {
  "kernelspec": {
   "display_name": "Python 3 (ipykernel)",
   "language": "python",
   "name": "python3"
  }
 },
 "nbformat": 4,
 "nbformat_minor": 5
}
